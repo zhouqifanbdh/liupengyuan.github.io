{
 "cells": [
  {
   "cell_type": "code",
   "execution_count": 12,
   "metadata": {
    "collapsed": false
   },
   "outputs": [
    {
     "name": "stdout",
     "output_type": "stream",
     "text": [
      "qwe\n",
      "ewq\n"
     ]
    }
   ],
   "source": [
    "#自己定义一个reverse(s)函数，功能返回字符串s的倒序字符串。\n",
    "def order(line):\n",
    "    i=0\n",
    "    for n in line:\n",
    "        i+=1\n",
    "    print(line[i+1::-1])\n",
    "lin=str(input())\n",
    "order(lin)"
   ]
  },
  {
   "cell_type": "code",
   "execution_count": 9,
   "metadata": {
    "collapsed": false
   },
   "outputs": [
    {
     "name": "stdout",
     "output_type": "stream",
     "text": [
      "请输入一个符号\n",
      "*\n",
      "请输入指定行数\n",
      "4\n",
      "直角三角形\n",
      "*\n",
      "**\n",
      "***\n",
      "****\n",
      "\n",
      "等腰三角形\n",
      "   *\n",
      "  ***\n",
      " *****\n",
      "*******\n",
      "\n",
      "其它三角形\n",
      "   *\n",
      "  ****\n",
      " *******\n",
      "**********\n"
     ]
    }
   ],
   "source": [
    "#写函数，根据给定符号和行数，打印相应直角三角形，等腰三角形及其他形式的三角形。\n",
    "print('请输入一个符号')\n",
    "line=str(input())\n",
    "print('请输入指定行数')\n",
    "n=int(input())\n",
    "print('直角三角形')\n",
    "def zhijiao(line):\n",
    "    for i in range(1, n+1):\n",
    "        print(line[0]*i)\n",
    "        i+=1\n",
    "zhijiao(line)\n",
    "print()\n",
    "print('等腰三角形')\n",
    "def dengyao(line):\n",
    "    for i in range(1, n+1):\n",
    "        if i == 1:\n",
    "            print(' '*(n-i) +line[0])\n",
    "        else:\n",
    "            print(' '*(n-i)+ line[0]*(i*2-1))\n",
    "dengyao(line)\n",
    "print()\n",
    "print('其它三角形')\n",
    "def qita(line):\n",
    "    for i in range(1, n+1):\n",
    "        if i == 1:\n",
    "            print(' '*(n-i) +line[0])\n",
    "        else:\n",
    "            print(' '*(n-i)+ line[0]*(i*3-2))\n",
    "qita(line)"
   ]
  },
  {
   "cell_type": "code",
   "execution_count": 49,
   "metadata": {
    "collapsed": false
   },
   "outputs": [
    {
     "name": "stdout",
     "output_type": "stream",
     "text": [
      "boy\n",
      "boies\n"
     ]
    }
   ],
   "source": [
    "#将任务4中的英语名词单数变复数的函数，尽可能的考虑多种情况，重新进行实现。\n",
    "line=str(input())\n",
    "def fushu(line):\n",
    "    n=len(line)\n",
    "    if line[n-1]=='s' or line[n-1]=='x' or (line[n-2]=='s' and line[n-1]=='h') or (line[n-2]=='c' and line[n-1]=='h'):\n",
    "        print(line,'es',sep='')\n",
    "    elif (line[n-2]=='a' or line[n-2]=='e' or line[n-2]=='i' or line[n-2]=='o' or line[n-2]=='u') and line[n-1]=='y':\n",
    "        print(line[0:-1],'ies',sep='')\n",
    "    else:\n",
    "        print(line,'s',sep='')\n",
    "fushu(line)\n"
   ]
  },
  {
   "cell_type": "code",
   "execution_count": null,
   "metadata": {
    "collapsed": true
   },
   "outputs": [],
   "source": []
  },
  {
   "cell_type": "code",
   "execution_count": null,
   "metadata": {
    "collapsed": true
   },
   "outputs": [],
   "source": []
  }
 ],
 "metadata": {
  "kernelspec": {
   "display_name": "Python 3",
   "language": "python",
   "name": "python3"
  },
  "language_info": {
   "codemirror_mode": {
    "name": "ipython",
    "version": 3
   },
   "file_extension": ".py",
   "mimetype": "text/x-python",
   "name": "python",
   "nbconvert_exporter": "python",
   "pygments_lexer": "ipython3",
   "version": "3.6.0"
  }
 },
 "nbformat": 4,
 "nbformat_minor": 2
}
