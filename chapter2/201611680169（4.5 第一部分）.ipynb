{
 "cells": [
  {
   "cell_type": "code",
   "execution_count": null,
   "metadata": {
    "collapsed": true,
    "deletable": true,
    "editable": true
   },
   "outputs": [],
   "source": [
    "# 练习1"
   ]
  },
  {
   "cell_type": "code",
   "execution_count": 3,
   "metadata": {
    "collapsed": false,
    "deletable": true,
    "editable": true
   },
   "outputs": [
    {
     "name": "stdout",
     "output_type": "stream",
     "text": [
      "请输入一个自然数，作为下界，回车结束100\n",
      "请输入一个自然数，作为上界，回车结束1000\n",
      "请输入你想输入的整数个数，回车结束2\n",
      "554.0\n"
     ]
    }
   ],
   "source": [
    "import random\n",
    "def pingfang():\n",
    "    m=int(input('请输入一个自然数，作为下界，回车结束'))\n",
    "    k=int(input('请输入一个自然数，作为上界，回车结束'))\n",
    "    number=random.randint(m,k)\n",
    "    pingfang=0\n",
    "    n=int(input('请输入你想输入的整数个数，回车结束'))\n",
    "    i=0\n",
    "    total=0\n",
    "    \n",
    "    while i!=n:\n",
    "        i+=1\n",
    "        number=random.randint(m,k)\n",
    "        total=total+number\n",
    "    else:\n",
    "        average=total/n\n",
    "        pingfang=average//2\n",
    "        print(average)\n",
    "        \n",
    "pingfang()"
   ]
  },
  {
   "cell_type": "markdown",
   "metadata": {
    "deletable": true,
    "editable": true
   },
   "source": [
    "练习2"
   ]
  },
  {
   "cell_type": "code",
   "execution_count": 5,
   "metadata": {
    "collapsed": false,
    "deletable": true,
    "editable": true
   },
   "outputs": [
    {
     "name": "stdout",
     "output_type": "stream",
     "text": [
      "请输入一个自然数，作为下界，回车结束10\n",
      "请输入一个自然数，作为上界，回车结束1000\n",
      "请输入你想输入的整数个数，回车结束4\n",
      "30\n",
      "0.8428571428571427\n"
     ]
    }
   ],
   "source": [
    "import random,math\n",
    "def log():\n",
    "    m=int(input('请输入一个自然数，作为下界，回车结束'))\n",
    "    k=int(input('请输入一个自然数，作为上界，回车结束'))\n",
    "    number=random.randint(m,k)\n",
    "    n=int(input('请输入你想输入的整数个数，回车结束'))\n",
    "    i=0\n",
    "    total_1=0\n",
    "    total_2=0\n",
    "    log=0\n",
    "    \n",
    "    while i!=n:\n",
    "        i+=1\n",
    "        number=random.randint(m,k)\n",
    "        log=math.ceil(math.log(number))\n",
    "        total_1=total_1+log\n",
    "        division=1/log\n",
    "        total_2=total_2+division\n",
    "    else:\n",
    "        total_1=total_1+log\n",
    "        division=1/log\n",
    "        total_2=total_2+division\n",
    "        print(total_1)\n",
    "        print(total_2)\n",
    "log()\n",
    "\n",
    "        "
   ]
  },
  {
   "cell_type": "code",
   "execution_count": null,
   "metadata": {
    "collapsed": true,
    "deletable": true,
    "editable": true
   },
   "outputs": [],
   "source": [
    "挑战性练习"
   ]
  },
  {
   "cell_type": "code",
   "execution_count": 2,
   "metadata": {
    "collapsed": false,
    "deletable": true,
    "editable": true
   },
   "outputs": [],
   "source": [
    "import random, math\n",
    "\n",
    "\n",
    "def win():\n",
    "    print(\n",
    "        '''\n",
    "           ======恭喜你，你赢了=======\n",
    "        \n",
    "    \n",
    "                .\"\".    .\"\",\n",
    "                |  |   /  /\n",
    "                |  |  /  /\n",
    "                |  | /  /\n",
    "                |  |/  ;-._ \n",
    "                }  ` _/  / ;\n",
    "                |  /` ) /  /\n",
    "                | /  /_/\\_/\\\n",
    "                |/  /      |\n",
    "                (  ' \\ '-  |\n",
    "                 \\    `.  /\n",
    "                  |      |\n",
    "                  |      |\n",
    "          \n",
    "          ======恭喜你，你赢了=======\n",
    "        '''\n",
    "    )\n",
    "    \n",
    "    \n",
    "def lose():\n",
    "    print(\n",
    "        '''\n",
    "           ======YOU LOSE=======\n",
    "        \n",
    "    \n",
    "                \n",
    "\n",
    "                   .-\"      \"-.\n",
    "                  /            \\\n",
    "                 |              |\n",
    "                 |,  .-.  .-.  ,|\n",
    "                 | )(__/  \\__)( |\n",
    "                 |/     /\\     \\|\n",
    "       (@_       (_     ^^     _)\n",
    "  _     ) \\_______\\__|IIIIII|__/__________________________\n",
    " (_)@8@8{}<________|-\\IIIIII/-|___________________________>\n",
    "        )_/        \\          /\n",
    "       (@           `--------`\n",
    "       \n",
    "       \n",
    "       \n",
    "          ======YOU LOSE=======\n",
    "        '''\n",
    "    )\n",
    "    \n",
    "def game_over():\n",
    "    print(\n",
    "        '''\n",
    "           ======GAME OVER=======\n",
    "        \n",
    "             _________ \n",
    "            / ======= \\ \n",
    "           / __________\\ \n",
    "          | ___________ | \n",
    "          | | -       | | \n",
    "          | |         | | \n",
    "          | |_________| |________________ \n",
    "          \\=____________/                ) \n",
    "          / \"\"\"\"\"\"\"\"\"\"\" \\               / \n",
    "         / ::::::::::::: \\          =D-' \n",
    "        (_________________) \n",
    "\n",
    "       \n",
    "          ======GAME OVER=======\n",
    "        '''\n",
    "    )\n",
    "    \n",
    "def show_instruction():\n",
    "    print('欢迎来到猜数游戏，此游戏有玩家指定在范围内指定一个数字，让计算机来猜数，由玩家根据猜的数值进行判断！在规定次数内计算机猜出答案则胜利，反之则失败')\n",
    "\n",
    "def show_team():\n",
    "    print('Directed by MouRen')\n",
    "\n",
    "\n",
    "def menu():\n",
    "    print('''=====游戏菜单=====\n",
    "                1. 游戏说明\n",
    "                2. 开始游戏\n",
    "                3. 退出游戏\n",
    "                4. 制作团队\n",
    "             =====游戏菜单=====''')\n",
    "             \n",
    "def guess_game():\n",
    "    n = int(input('请输入一个大于0的整数，作为神秘整数的上界，回车结束。'))\n",
    "    number = int(input('请输入一个在猜数范围内的整数，作为答案'))\n",
    "    guess_number = random.randint(1, n)\n",
    "    max_times = math.ceil(math.log(n, 2))\n",
    "    guess_times = 0\n",
    "    a = 0\n",
    "    \n",
    "    \n",
    "    while guess_times <= max_times:\n",
    "        print (guess_number)\n",
    "        judge = input('请判断猜测数与答案的大小，可输入>,<或=')\n",
    "        \n",
    "        \n",
    "        \n",
    "        if judge == '<':\n",
    "            a=guess_number\n",
    "            guess_number = random.randint(a,n)\n",
    "            guess_times += 1\n",
    "        \n",
    "        elif judge == '=':\n",
    "            win()\n",
    "            break\n",
    "            \n",
    "            \n",
    "        \n",
    "        elif judge == '>':\n",
    "            a=guess_number\n",
    "            guess_number = random.randint(1,a)\n",
    "            guess_times += 1\n",
    "        \n",
    "            \n",
    "        else:\n",
    "            print('神秘数字是：',number)\n",
    "            lose()\n",
    "\n",
    "\n",
    "def main():\n",
    "    while True:\n",
    "        menu()\n",
    "        choice = int(input('请输入你的选择'))\n",
    "        if choice == 1:\n",
    "            show_instruction()\n",
    "        elif choice == 2:\n",
    "            guess_game()\n",
    "        elif choice == 3:\n",
    "            game_over()\n",
    "            break\n",
    "        else:\n",
    "            show_team()"
   ]
  }
 ],
 "metadata": {
  "kernelspec": {
   "display_name": "Python 3",
   "language": "python",
   "name": "python3"
  },
  "language_info": {
   "codemirror_mode": {
    "name": "ipython",
    "version": 3
   },
   "file_extension": ".py",
   "mimetype": "text/x-python",
   "name": "python",
   "nbconvert_exporter": "python",
   "pygments_lexer": "ipython3",
   "version": "3.6.0"
  }
 },
 "nbformat": 4,
 "nbformat_minor": 2
}
