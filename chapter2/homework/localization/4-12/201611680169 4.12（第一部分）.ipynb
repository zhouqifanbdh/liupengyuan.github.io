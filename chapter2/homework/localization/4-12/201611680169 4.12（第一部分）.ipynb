{
 "cells": [
  {
   "cell_type": "code",
   "execution_count": null,
   "metadata": {
    "collapsed": true,
    "deletable": true,
    "editable": true
   },
   "outputs": [],
   "source": [
    "练习1"
   ]
  },
  {
   "cell_type": "code",
   "execution_count": 3,
   "metadata": {
    "collapsed": false,
    "deletable": true,
    "editable": true
   },
   "outputs": [
    {
     "name": "stdout",
     "output_type": "stream",
     "text": [
      "请输入你相求和的整数个数，回车结束3\n",
      "请输入一个整数，回车结束1\n",
      "1\n",
      "请输入一个整数，回车结束2\n",
      "3\n",
      "请输入一个整数，回车结束3\n",
      "6\n"
     ]
    }
   ],
   "source": [
    "def sum_():\n",
    "    numbers=[]\n",
    "    n=int(input('请输入你相求和的整数个数，回车结束'))\n",
    "    sum=0\n",
    "\n",
    "    i=0\n",
    "    while i<n:\n",
    "        number=int(input('请输入一个整数，回车结束'))\n",
    "        numbers.append(i)\n",
    "        sum=sum+number\n",
    "        i+=1\n",
    "        print(sum)\n",
    "        \n",
    "sum_()"
   ]
  },
  {
   "cell_type": "code",
   "execution_count": 4,
   "metadata": {
    "collapsed": false,
    "deletable": true,
    "editable": true
   },
   "outputs": [
    {
     "name": "stdout",
     "output_type": "stream",
     "text": [
      "3\n"
     ]
    }
   ],
   "source": [
    "def my_min():\n",
    "    numbers=[3,5,6,7,8,9]\n",
    "    for number in numbers:\n",
    "        return min(numbers)\n",
    "print(my_min())"
   ]
  },
  {
   "cell_type": "code",
   "execution_count": null,
   "metadata": {
    "collapsed": true,
    "deletable": true,
    "editable": true
   },
   "outputs": [],
   "source": [
    "练习3"
   ]
  },
  {
   "cell_type": "code",
   "execution_count": 14,
   "metadata": {
    "collapsed": false,
    "deletable": true,
    "editable": true
   },
   "outputs": [
    {
     "name": "stdout",
     "output_type": "stream",
     "text": [
      "请输入你想查找的元素，回车结束。3\n",
      "1\n"
     ]
    }
   ],
   "source": [
    "def loc():\n",
    "    elements=[2,3,4,5,6,7,8,9,0]\n",
    "    element=int(input('请输入你想查找的元素，回车结束。'))\n",
    "    if element in list:\n",
    "        print(elements.index(element))\n",
    "    else:\n",
    "        return -1\n",
    "loc()"
   ]
  }
 ],
 "metadata": {
  "kernelspec": {
   "display_name": "Python 3",
   "language": "python",
   "name": "python3"
  },
  "language_info": {
   "codemirror_mode": {
    "name": "ipython",
    "version": 3
   },
   "file_extension": ".py",
   "mimetype": "text/x-python",
   "name": "python",
   "nbconvert_exporter": "python",
   "pygments_lexer": "ipython3",
   "version": "3.6.0"
  }
 },
 "nbformat": 4,
 "nbformat_minor": 2
}
