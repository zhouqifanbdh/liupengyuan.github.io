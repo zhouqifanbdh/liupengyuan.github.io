{
 "cells": [
  {
   "cell_type": "code",
   "execution_count": 1,
   "metadata": {
    "collapsed": true
   },
   "outputs": [],
   "source": [
    "###写函数，返回一个list中所有数字的和"
   ]
  },
  {
   "cell_type": "code",
   "execution_count": 4,
   "metadata": {
    "collapsed": false
   },
   "outputs": [
    {
     "name": "stdout",
     "output_type": "stream",
     "text": [
      "26\n"
     ]
    }
   ],
   "source": [
    "def sum():\n",
    "    \n",
    "    numbers =[2,4,6,7,3,4]\n",
    "    total=0\n",
    "    for i in numbers:\n",
    "        total += i\n",
    "    return total\n",
    "    \n",
    "print(sum())"
   ]
  },
  {
   "cell_type": "code",
   "execution_count": 5,
   "metadata": {
    "collapsed": true
   },
   "outputs": [],
   "source": [
    "###写函数，返回一个list中的最小值"
   ]
  },
  {
   "cell_type": "code",
   "execution_count": 24,
   "metadata": {
    "collapsed": false
   },
   "outputs": [
    {
     "name": "stdout",
     "output_type": "stream",
     "text": [
      "请输入你想放入list中的数的个数4\n",
      "请输入一个数4352\n",
      "请输入一个数2452\n",
      "请输入一个数234\n",
      "请输入一个数21\n",
      "21\n"
     ]
    }
   ],
   "source": [
    "def list_():\n",
    "    n = int(input('请输入你想放入list中的数的个数'))\n",
    "    numbers = []\n",
    "    i = 0 \n",
    "    while i<n:\n",
    "        number = int(input('请输入一个数'))\n",
    "        numbers.append(number)\n",
    "        i += 1\n",
    "    return numbers\n",
    "\n",
    "def min_number(numbers):\n",
    "    min = numbers [0]\n",
    "    for i in numbers:\n",
    "        if min > i:\n",
    "            min = i\n",
    "    return min\n",
    "\n",
    "print( min_number(list_()))"
   ]
  },
  {
   "cell_type": "code",
   "execution_count": null,
   "metadata": {
    "collapsed": true
   },
   "outputs": [],
   "source": [
    "#写函数，返回某个元素/对象在一个list中的位置，如果不在，则返回-1."
   ]
  },
  {
   "cell_type": "code",
   "execution_count": 26,
   "metadata": {
    "collapsed": false
   },
   "outputs": [
    {
     "name": "stdout",
     "output_type": "stream",
     "text": [
      "34 在列表中的位置是：\n"
     ]
    },
    {
     "data": {
      "text/plain": [
       "-1"
      ]
     },
     "execution_count": 26,
     "metadata": {},
     "output_type": "execute_result"
    }
   ],
   "source": [
    "def position(n):\n",
    "    lists = [23, 345, 2, 3]\n",
    "    m = 0\n",
    "    print(n,'在列表中的位置是：')\n",
    "    for i in range(len(lists)):\n",
    "        if(n == lists[i]): \n",
    "            m = 1 \n",
    "            return i+1 \n",
    "    if(m == 0): \n",
    "            return -1 \n",
    "   \n",
    "position('34')"
   ]
  },
  {
   "cell_type": "code",
   "execution_count": 27,
   "metadata": {
    "collapsed": true
   },
   "outputs": [],
   "source": [
    "#练习4.写函数，可求两个向量的夹角余弦值，向量可放在list中。主程序调用该函数。"
   ]
  },
  {
   "cell_type": "code",
   "execution_count": null,
   "metadata": {
    "collapsed": false
   },
   "outputs": [],
   "source": [
    "import math\n",
    "def cos_of_vectors():\n",
    "    list1 = []\n",
    "    list2 = []\n",
    "    i=0\n",
    "    j=0\n",
    "    for i in range(3): #第一个向量的x,y,z\n",
    "        vector1 = int(input('请输入向量1的坐标，回车结束。（分别是x,y,z）'))\n",
    "        list1.append(vector1)\n",
    "    for j in range(3): #第二个向量的x,y,z\n",
    "        vector2 = int(input('请输入向量2的坐标，回车结束。（分别是x,y,z）'))\n",
    "        list2.append(vector2)\n",
    "    m=list1[0]*list2[0]+list1[1]*list2[1]+list1[2]*list2[2]\n",
    "    n = (math.sqrt(list1[0]**2+list1[1]**2+list1[2]**2))*(math.sqrt(list2[0]**2+list2[1]**2+list2[2]**2))\n",
    "    print (\"两个向量夹角的余弦值为：\")\n",
    "    return m/n\n",
    "\n",
    "cos_of_vectors()"
   ]
  },
  {
   "cell_type": "code",
   "execution_count": null,
   "metadata": {
    "collapsed": true
   },
   "outputs": [],
   "source": []
  },
  {
   "cell_type": "code",
   "execution_count": null,
   "metadata": {
    "collapsed": true
   },
   "outputs": [],
   "source": []
  }
 ],
 "metadata": {
  "kernelspec": {
   "display_name": "Python 3",
   "language": "python",
   "name": "python3"
  },
  "language_info": {
   "codemirror_mode": {
    "name": "ipython",
    "version": 3
   },
   "file_extension": ".py",
   "mimetype": "text/x-python",
   "name": "python",
   "nbconvert_exporter": "python",
   "pygments_lexer": "ipython3",
   "version": "3.6.0"
  }
 },
 "nbformat": 4,
 "nbformat_minor": 2
}
