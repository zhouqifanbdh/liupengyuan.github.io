{
 "cells": [
  {
   "cell_type": "markdown",
   "metadata": {
    "deletable": true,
    "editable": true
   },
   "source": [
    "### 写函数，返回一个list中所有数字的和"
   ]
  },
  {
   "cell_type": "code",
   "execution_count": 8,
   "metadata": {
    "collapsed": false,
    "deletable": true,
    "editable": true
   },
   "outputs": [
    {
     "name": "stdout",
     "output_type": "stream",
     "text": [
      "请输入你想输入并求和的数字个数，回车键结束：3\n",
      "请输入一个数字，回车键结束：3\n",
      "请输入一个数字，回车键结束：20\n",
      "请输入一个数字，回车键结束：36\n",
      "59 \n",
      "\n"
     ]
    }
   ],
   "source": [
    "def summary():\n",
    "    numbers = []\n",
    "    n = int(input('请输入你想输入并求和的数字个数，回车键结束：'))\n",
    "\n",
    "    for i in range(n):\n",
    "        number = int(input('请输入一个数字，回车键结束：'))\n",
    "        numbers.append(number)\n",
    "\n",
    "    print(sum(numbers), '\\n')\n",
    "\n",
    "summary()"
   ]
  },
  {
   "cell_type": "markdown",
   "metadata": {
    "deletable": true,
    "editable": true
   },
   "source": [
    "### 写函数，返回一个list中的最小值"
   ]
  },
  {
   "cell_type": "code",
   "execution_count": 9,
   "metadata": {
    "collapsed": false,
    "deletable": true,
    "editable": true
   },
   "outputs": [
    {
     "name": "stdout",
     "output_type": "stream",
     "text": [
      "请输入你想输入的数字个数，回车键结束：3\n",
      "请输入一个数字，回车键结束：20\n",
      "请输入一个数字，回车键结束：36\n",
      "请输入一个数字，回车键结束：48\n",
      "输入数字中的最小值为：20\n"
     ]
    }
   ],
   "source": [
    "def minimum():\n",
    "    numbers = []\n",
    "    n = int(input('请输入你想输入的数字个数，回车键结束：'))\n",
    "\n",
    "    for i in range(n):\n",
    "        number = int(input('请输入一个数字，回车键结束：'))\n",
    "        numbers.append(number)\n",
    "    \n",
    "    print('输入数字中的最小值为：', min(numbers),sep='')\n",
    "    \n",
    "minimum()"
   ]
  },
  {
   "cell_type": "markdown",
   "metadata": {
    "deletable": true,
    "editable": true
   },
   "source": [
    "### 写函数，返回某个元素/对象在一个list中的位置，如果不在，则返回-1."
   ]
  },
  {
   "cell_type": "code",
   "execution_count": 15,
   "metadata": {
    "collapsed": false,
    "deletable": true,
    "editable": true
   },
   "outputs": [
    {
     "name": "stdout",
     "output_type": "stream",
     "text": [
      "请输入一个数字，作为输入的元素个数，回车键结束：4\n",
      "请输入元素，回车键结束：233\n",
      "请输入元素，回车键结束：ada\n",
      "请输入元素，回车键结束：44\n",
      "请输入元素，回车键结束：66\n",
      "请输入要查找的元素，回车键结束：44\n",
      "该元素在序列中的位置为： 3\n"
     ]
    }
   ],
   "source": [
    "def location():\n",
    "    list = []\n",
    "    n = int(input('请输入一个数字，作为输入的元素个数，回车键结束：'))\n",
    "    \n",
    "    for i in range(n):\n",
    "        element = str(input('请输入元素，回车键结束：'))\n",
    "        list.append(element)\n",
    "        \n",
    "    THE_element =str(input('请输入要查找的元素，回车键结束：'))\n",
    "    if THE_element in list:\n",
    "        print('该元素在序列中的位置为：',(list.index(THE_element)+1))\n",
    "    else:\n",
    "        print(-1)\n",
    "        \n",
    "location()"
   ]
  },
  {
   "cell_type": "markdown",
   "metadata": {
    "deletable": true,
    "editable": true
   },
   "source": [
    "### 写函数，可求两个向量的夹角余弦值，向量可放在list中。主程序调用该函数。"
   ]
  },
  {
   "cell_type": "code",
   "execution_count": 7,
   "metadata": {
    "collapsed": false,
    "deletable": true,
    "editable": true
   },
   "outputs": [
    {
     "name": "stdout",
     "output_type": "stream",
     "text": [
      "1.0\n"
     ]
    }
   ],
   "source": [
    "import math\n",
    "\n",
    "def list_cos(list1,list2):\n",
    "    if len(list1) != len(list2):\n",
    "        print('向量维度不一致')\n",
    "        return -1\n",
    "    \n",
    "    total = total_1 = total_2 = 0\n",
    "    for i in range(len(list1)):\n",
    "        total += list1[i]*list2[i]\n",
    "        total_1 += list1[i]*list1[i]\n",
    "        total_2 += list2[i]*list2[i]\n",
    "    \n",
    "    if 0 in (total_1,total_2):\n",
    "        print('分母为0，不成立')\n",
    "        return -1\n",
    "    \n",
    "    return total/(math.sqrt(total_1*total_2))\n",
    "    \n",
    "    \n",
    "print(list_cos([4,4],[3,3]))"
   ]
  }
 ],
 "metadata": {
  "kernelspec": {
   "display_name": "Python 3",
   "language": "python",
   "name": "python3"
  },
  "language_info": {
   "codemirror_mode": {
    "name": "ipython",
    "version": 3
   },
   "file_extension": ".py",
   "mimetype": "text/x-python",
   "name": "python",
   "nbconvert_exporter": "python",
   "pygments_lexer": "ipython3",
   "version": "3.6.0"
  }
 },
 "nbformat": 4,
 "nbformat_minor": 2
}
