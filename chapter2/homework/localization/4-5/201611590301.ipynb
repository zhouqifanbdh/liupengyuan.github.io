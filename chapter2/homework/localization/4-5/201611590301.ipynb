{
 "cells": [
  {
   "cell_type": "code",
   "execution_count": null,
   "metadata": {
    "collapsed": true
   },
   "outputs": [],
   "source": [
    "#练习 1：写函数，求n个随机整数均值的平方根，整数范围在m与k之间（n,m,k由用户输入）。"
   ]
  },
  {
   "cell_type": "code",
   "execution_count": 1,
   "metadata": {
    "collapsed": false
   },
   "outputs": [
    {
     "name": "stdout",
     "output_type": "stream",
     "text": [
      "请输入想输入的整数个数3\n",
      "请输入随机整数的下限2\n",
      "请输入随机整数的上限3\n",
      "2\n",
      "3\n",
      "2\n",
      "1.5275252316519468\n"
     ]
    }
   ],
   "source": [
    "n = int(input('请输入想输入的整数个数'))\n",
    "m = int(input('请输入随机整数的下限'))\n",
    "k = int(input('请输入随机整数的上限'))\n",
    "i=0\n",
    "total=0\n",
    "\n",
    "while i<n:\n",
    "    import random\n",
    "    number = random.randint(m,k)\n",
    "    print(number)\n",
    "    total=total+number\n",
    "    i += 1\n",
    "    \n",
    "output = (total/n)**0.5\n",
    "\n",
    "print(output)"
   ]
  },
  {
   "cell_type": "code",
   "execution_count": 2,
   "metadata": {
    "collapsed": true
   },
   "outputs": [],
   "source": [
    "#练习 2：写函数，共n个随机整数，整数范围在m与k之间，（n,m,k由用户输入）。求1：西格玛log(随机整数)，2：西格玛1/log(随机整数)"
   ]
  },
  {
   "cell_type": "code",
   "execution_count": 5,
   "metadata": {
    "collapsed": false
   },
   "outputs": [
    {
     "name": "stdout",
     "output_type": "stream",
     "text": [
      "请输入整数个数4\n",
      "请输入随机整数的下限2\n",
      "请输入随即整数的上限55\n",
      "41\n",
      "23\n",
      "34\n",
      "24\n",
      "西格玛log(随机整数): 13.553480637597564\n",
      "西格玛1/log(随机整数): 1.18644796946365\n"
     ]
    }
   ],
   "source": [
    "import random , math\n",
    "\n",
    "n= int(input('请输入整数个数'))\n",
    "m= int(input('请输入随机整数的下限'))\n",
    "k= int(input('请输入随即整数的上限'))\n",
    "i=0\n",
    "total=0\n",
    "total2=0\n",
    "\n",
    "while i<n:\n",
    "    number = random.randint(m,k)\n",
    "    print(number)\n",
    "    total = total + math.log(number)\n",
    "    total2 = total2 + 1/ math.log(number)\n",
    "    i += 1\n",
    "\n",
    "print('西格玛log(随机整数):',total)\n",
    "print('西格玛1/log(随机整数):',total2)"
   ]
  },
  {
   "cell_type": "code",
   "execution_count": 6,
   "metadata": {
    "collapsed": true
   },
   "outputs": [],
   "source": [
    "#练习 3：写函数，求s=a+aa+aaa+aaaa+aa...a的值，其中a是[1,9]之间的随机整数。例如2+22+222+2222+22222(此时共有5个数相加)，几个数相加由键盘输入。"
   ]
  },
  {
   "cell_type": "code",
   "execution_count": 7,
   "metadata": {
    "collapsed": false
   },
   "outputs": [
    {
     "name": "stdout",
     "output_type": "stream",
     "text": [
      "随机数为： 9\n",
      "请输入最后一个整数的最高位数：3\n",
      "1107\n"
     ]
    }
   ],
   "source": [
    "import random\n",
    "a = random.randint(1,9)\n",
    "\n",
    "n = int(input('请输入最后一个整数的最高位数：'))\n",
    "total = 0\n",
    "i = 0\n",
    "m = 0\n",
    "\n",
    "while i<n: \n",
    "    m = a + m*10\n",
    "    total = total + m\n",
    "    i += 1\n",
    "    \n",
    "print(total)"
   ]
  },
  {
   "cell_type": "code",
   "execution_count": 8,
   "metadata": {
    "collapsed": true
   },
   "outputs": [],
   "source": [
    "#挑战性练习：仿照task5，将猜数游戏改成由用户随便选择一个整数，让计算机来猜测的猜数游戏，要求和task5中人猜测的方法类似，但是人机角色对换，由人来判断猜测是大、小还是相等，请写出完整的猜数游戏。"
   ]
  },
  {
   "cell_type": "code",
   "execution_count": 11,
   "metadata": {
    "collapsed": false
   },
   "outputs": [
    {
     "ename": "IndentationError",
     "evalue": "unindent does not match any outer indentation level (<ipython-input-11-092934a50781>, line 122)",
     "output_type": "error",
     "traceback": [
      "\u001b[0;36m  File \u001b[0;32m\"<ipython-input-11-092934a50781>\"\u001b[0;36m, line \u001b[0;32m122\u001b[0m\n\u001b[0;31m    def guess_game():\u001b[0m\n\u001b[0m                     ^\u001b[0m\n\u001b[0;31mIndentationError\u001b[0m\u001b[0;31m:\u001b[0m unindent does not match any outer indentation level\n"
     ]
    }
   ],
   "source": [
    "import random,math\n",
    "\n",
    "def lose():\n",
    "    print(\n",
    "        '''\n",
    "           ======YOU LOSE=======\n",
    "           \n",
    "            へ　　　　　／|\n",
    "　　/＼7　　∠＿/\n",
    "　 /　│　　 ／　／\n",
    "　│　Z ＿,＜　／　　 /`ヽ\n",
    "　│　　　　　ヽ　　 /　　〉\n",
    "　 Y　　　　　`　 /　　/\n",
    "　ｲ●　､　●　　⊂⊃〈　　/\n",
    "　()　 へ　　　　|　＼〈\n",
    "　　>ｰ ､_　 ィ　 │ ／／\n",
    "　 / へ　　 /　ﾉ＜| ＼＼\n",
    "　 ヽ_ﾉ　　(_／　 │／／\n",
    "　　7　　　　　　　|／\n",
    "　　＞―r￣￣`ｰ―＿\n",
    "            ======YOU LOSE=======\n",
    "        '''\n",
    "    )\n",
    "   \n",
    "  \n",
    "\n",
    "def win():\n",
    "    print(\n",
    "        '''\n",
    "           ======恭喜你，你赢了=======\n",
    "           \n",
    "                   \n",
    "    ◤　　　　　　　　◥◣　　◢◤　　　　　　 █...  \n",
    "▎　　　◢█◣　　　◥◣◢◤　　 ◢█　　　█  \n",
    "◣　　◢◤　　◥◣　　　　　　 ◢◣◥◣　◢◤.  \n",
    "◥██◤　　◢◤　　　　　　　　　◥◣  \n",
    "　　　　　　█　●　　　　　　　●　█  \n",
    "　　　　　　█　〃　　　▄　　　〃　█  \n",
    "　　　　　　◥◣　　　╚╩╝　　　◢◤  \n",
    "　　　　　　　◥█▅▃▃　▃▃▅█◤  \n",
    "　　　　　　　　　◢◤　　　◥◣　  \n",
    "　　　　　　　　　█　　　　　█　  \n",
    "　　　　　　　　◢◤▕　　　▎◥◣  \n",
    "　　　　　　　▕▃◣◢▅▅▅◣◢▃\n",
    "          ======恭喜你，你赢了=======\n",
    "        '''\n",
    "     )\n",
    "\n",
    "def welcome():\n",
    "    print(\n",
    "        '''\n",
    "           ======欢迎来到猜数游戏=======\n",
    "        \n",
    "                     /  \\     ,    ,\n",
    "           _._     _ |oo| _  / \\__/ \\\n",
    "    \n",
    "          _||||   ((/ () \\))   /   \\\n",
    "    \n",
    "          |||||/|  ( ==== )    |oo|    \n",
    "           \\____/  _`\\  /'_    /   \\\n",
    "    \n",
    "           /   /.-' /\\<>/\\ `\\.( () )_._      \n",
    "           |    `  /  \\/  \\  /`'--'////)\n",
    "            \\__,-'`|  |.  |\\/ |/\\/\\|\"\\\"` \n",
    "                   |  |.  | \\___/\\___/  \n",
    "                   |  |.  |   |    |\n",
    "          \n",
    "          ======欢迎来到猜数游戏=======\n",
    "        '''\n",
    "     )\n",
    "\n",
    "def game_over():\n",
    "    print(\n",
    "        '''\n",
    "           ======GAME OVER=======\n",
    "        \n",
    "             _________ \n",
    "            / ======= \\ \n",
    "           / __________\\ \n",
    "          | ___________ | \n",
    "          | | -       | | \n",
    "          | |         | | \n",
    "          | |_________| |________________ \n",
    "          \\=____________/                ) \n",
    "          / \"\"\"\"\"\"\"\"\"\"\" \\               / \n",
    "         / ::::::::::::: \\          =D-' \n",
    "        (_________________) \n",
    "\n",
    "       \n",
    "          ======GAME OVER=======\n",
    "        '''\n",
    "    )\n",
    "    \n",
    "def show_team():\n",
    "    print('''\n",
    "            ======I GOT 7=======\n",
    "            MY NAME IS PEPPER\n",
    "            I AM THE MOST LOVELY IN THE WORLD\n",
    "            kkkkkkkk\n",
    "            ======I GOT 7=======\n",
    "            '''\n",
    "         )\n",
    "def show_instruction():\n",
    "        print('''\n",
    "             ======instruction=======\n",
    "             输入数字，电脑来猜，由你来告诉电脑大了还是小了！！\n",
    "             ======instruction=======\n",
    "          '''\n",
    "         )\n",
    "    \n",
    "def menu():\n",
    "        print('''\n",
    "            \n",
    "            =====游戏菜单=====\n",
    "               1. 游戏说明\n",
    "               2. 开始游戏\n",
    "               3. 退出游戏\n",
    "               4. 制作团队\n",
    "            =====游戏菜单=====\n",
    "            '''\n",
    "         )\n",
    " def guess_game():\n",
    "    n = int(input('请输入一个大于0的整数，作为神秘整数的上界，回车结束。'))\n",
    "    number =random.randint(1, n)\n",
    "    max_times = math.ceil(math.log2(n))\n",
    "    guess_times = 0\n",
    "    while guess_times <= max_times:\n",
    "        guess_ = input('请输入你猜测的整数，回车结束。')\n",
    "        guess_times += 1\n",
    "        print('一共可以猜', max_times, '次')\n",
    "        print('你已经猜了', guess_times, '次')\n",
    "    \n",
    "        if guess == number:\n",
    "          win()\n",
    "          print('神秘数字是：', guess)\n",
    "          print('你比标准次数少', max_times - guess_times, '次')\n",
    "          break \n",
    "        elif guess > number:\n",
    "                print('抱歉，你猜大了')\n",
    "        else:\n",
    "                print('抱歉，你猜小了')\n",
    "    else:\n",
    "                print('神秘数字是：', number)\n",
    "                lose()\n",
    "             \n",
    " def main():\n",
    "         \n",
    "        \n",
    "        \n",
    "          menu()\n",
    "          choice = int(input('请输入你的选择'))\n",
    "          if choice == 1:\n",
    "                       show_instruction()\n",
    "          elif choice == 2:\n",
    "                       guess_game()\n",
    "          elif choice == 3:\n",
    "                       gmae_over()\n",
    "          else:\n",
    "                       show_team()\n",
    "                \n",
    "                \n",
    "                \n",
    "def main():\n",
    "    while True:\n",
    "        menu()\n",
    "        choice = int(input('请输入你的选择'))\n",
    "        if choice == 1:\n",
    "            show_instruction()\n",
    "        elif choice == 2:\n",
    "            guess_game()\n",
    "        elif choice == 3:\n",
    "            game_over()\n",
    "            break\n",
    "        else:\n",
    "            show_team()\n",
    "\n",
    "if __name__ == '__main__':\n",
    "    main()             "
   ]
  },
  {
   "cell_type": "code",
   "execution_count": null,
   "metadata": {
    "collapsed": true
   },
   "outputs": [],
   "source": []
  }
 ],
 "metadata": {
  "kernelspec": {
   "display_name": "Python 3",
   "language": "python",
   "name": "python3"
  },
  "language_info": {
   "codemirror_mode": {
    "name": "ipython",
    "version": 3
   },
   "file_extension": ".py",
   "mimetype": "text/x-python",
   "name": "python",
   "nbconvert_exporter": "python",
   "pygments_lexer": "ipython3",
   "version": "3.6.0"
  }
 },
 "nbformat": 4,
 "nbformat_minor": 2
}
