{
 "cells": [
  {
   "cell_type": "markdown",
   "metadata": {},
   "source": [
    "# 自己定义一个reverse(s)函数，功能返回字符串s的倒序字符串。"
   ]
  },
  {
   "cell_type": "code",
   "execution_count": 15,
   "metadata": {
    "collapsed": false,
    "deletable": true,
    "editable": true
   },
   "outputs": [
    {
     "name": "stdout",
     "output_type": "stream",
     "text": [
      "[9, 6, 3, 2, 1]\n"
     ]
    }
   ],
   "source": [
    "list=[1,2,3,6,9]\n",
    "list.reverse()\n",
    "print(list)"
   ]
  },
  {
   "cell_type": "markdown",
   "metadata": {
    "deletable": true,
    "editable": true
   },
   "source": [
    "# 练习二：写函数，根据给定符号和行数，打印相应直角三角形，等腰三角形及其他形式的三角形。"
   ]
  },
  {
   "cell_type": "code",
   "execution_count": 16,
   "metadata": {
    "collapsed": false,
    "deletable": true,
    "editable": true
   },
   "outputs": [
    {
     "name": "stdout",
     "output_type": "stream",
     "text": [
      "春\n",
      "春春\n",
      "春城春\n",
      "春城城春\n",
      "春城无城春\n",
      "春城无无城春\n",
      "春城无处无城春\n",
      "春城无处处无城春\n",
      "春城无处不处无城春\n",
      "春城无处不不处无城春\n",
      "春城无处不飞不处无城春\n",
      "春城无处不飞飞不处无城春\n",
      "春城无处不飞花飞不处无城春\n"
     ]
    }
   ],
   "source": [
    "line = ('春城无处不飞花')\n",
    "\n",
    "for i in range(1, len(line)*2):\n",
    "    if i == 1:\n",
    "        print((line[0]))\n",
    "    elif i%2 == 1:\n",
    "        print(line[:i//2] + (line[i//2]) + line[i//2-1::-1])\n",
    "    else:\n",
    "        print(line[:i//2] + line[i//2-1::-1])"
   ]
  },
  {
   "cell_type": "markdown",
   "metadata": {
    "deletable": true,
    "editable": true
   },
   "source": [
    "# 练习三：将任务4中的英语名词单数变复数的函数，尽可能的考虑多种情况，重新进行实现。"
   ]
  },
  {
   "cell_type": "code",
   "execution_count": 9,
   "metadata": {
    "collapsed": false,
    "deletable": true,
    "editable": true
   },
   "outputs": [
    {
     "name": "stdout",
     "output_type": "stream",
     "text": [
      "Please input a word:watch\n",
      "watches\n"
     ]
    }
   ],
   "source": [
    "word=input('Please input a word:')\n",
    "if word.endswith('x'):\n",
    "    print(word,'es',sep='')\n",
    "elif word.endswith('ch'):\n",
    "    print(word,'es',sep='')\n",
    "elif word.endswith('sh'):\n",
    "    print(word,'es',sep='')\n",
    "else:\n",
    "    print(word,'s',sep='')"
   ]
  },
  {
   "cell_type": "code",
   "execution_count": null,
   "metadata": {
    "collapsed": true
   },
   "outputs": [],
   "source": []
  },
  {
   "cell_type": "code",
   "execution_count": null,
   "metadata": {
    "collapsed": true
   },
   "outputs": [],
   "source": []
  },
  {
   "cell_type": "code",
   "execution_count": null,
   "metadata": {
    "collapsed": true
   },
   "outputs": [],
   "source": []
  },
  {
   "cell_type": "code",
   "execution_count": null,
   "metadata": {
    "collapsed": true,
    "deletable": true,
    "editable": true
   },
   "outputs": [],
   "source": []
  },
  {
   "cell_type": "code",
   "execution_count": null,
   "metadata": {
    "collapsed": true,
    "deletable": true,
    "editable": true
   },
   "outputs": [],
   "source": []
  },
  {
   "cell_type": "code",
   "execution_count": null,
   "metadata": {
    "collapsed": true,
    "deletable": true,
    "editable": true
   },
   "outputs": [],
   "source": []
  }
 ],
 "metadata": {
  "kernelspec": {
   "display_name": "Python 3",
   "language": "python",
   "name": "python3"
  },
  "language_info": {
   "codemirror_mode": {
    "name": "ipython",
    "version": 3
   },
   "file_extension": ".py",
   "mimetype": "text/x-python",
   "name": "python",
   "nbconvert_exporter": "python",
   "pygments_lexer": "ipython3",
   "version": "3.6.0"
  }
 },
 "nbformat": 4,
 "nbformat_minor": 2
}
