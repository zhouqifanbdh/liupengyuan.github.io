{
 "cells": [
  {
   "cell_type": "code",
   "execution_count": 21,
   "metadata": {
    "collapsed": false
   },
   "outputs": [
    {
     "name": "stdout",
     "output_type": "stream",
     "text": [
      "请输入内容aplle\n",
      "ellpa\n"
     ]
    }
   ],
   "source": [
    "#练习一：实现reverse(s)函数，功能与s.reverse()相同。\n",
    "line=str(input('请输入内容'))\n",
    "\n",
    "def reverse():\n",
    "    print(line[::-1])\n",
    "\n",
    "reverse()\n",
    "        \n"
   ]
  },
  {
   "cell_type": "code",
   "execution_count": 72,
   "metadata": {
    "collapsed": false
   },
   "outputs": [
    {
     "name": "stdout",
     "output_type": "stream",
     "text": [
      "请输入行数3\n",
      "\n",
      "*\n",
      "**\n",
      "***\n",
      "请输入行数4\n",
      "    \n",
      "   *\n",
      "  ***\n",
      " *****\n"
     ]
    }
   ],
   "source": [
    "#练习二：写函数，根据给定符号和行数，打印相应直角三角形，等腰三角形及其他形式的三角形。\n",
    "def print_triangle():\n",
    "    n=int(input('请输入行数'))\n",
    "    for i in range(n+1):\n",
    "        print('*'*i)\n",
    "    \n",
    "print_triangle()\n",
    "\n",
    "\n",
    "def isoceles_triangle():\n",
    "    n=int(input('请输入行数'))\n",
    "    for i in range(0, n):\n",
    "        for k in range(n-i,0,-1):\n",
    "            print(' ', end='')\n",
    "        for j in range(0,2*i-1):\n",
    "            print('*',end='')\n",
    "        print()\n",
    "       \n",
    "isoceles_triangle()\n",
    "\n",
    "    \n",
    "    \n"
   ]
  },
  {
   "cell_type": "code",
   "execution_count": 83,
   "metadata": {
    "collapsed": false
   },
   "outputs": [
    {
     "name": "stdout",
     "output_type": "stream",
     "text": [
      "请输入一个单词apple\n",
      "apples\n"
     ]
    }
   ],
   "source": [
    "#练习三：将任务4中的英语名词单数变复数的函数，尽可能的考虑多种情况，重新进行实现。\n",
    "def words():\n",
    "    word=input('请输入一个单词')\n",
    "    if word.endswith('x') or word.endswith('s') or word.endswith('sh') or word.endswith('ch') :\n",
    "        print(word[::]+'es')\n",
    "    elif word.endswith('y'):\n",
    "        print(word[:len(word)-1]+'ies')\n",
    "    else:\n",
    "        print(word[::]+'s')\n",
    "words()"
   ]
  },
  {
   "cell_type": "code",
   "execution_count": 128,
   "metadata": {
    "collapsed": false
   },
   "outputs": [
    {
     "name": "stdout",
     "output_type": "stream",
     "text": [
      "请输入梯形上底2\n",
      "请输入梯形下底4\n",
      "**\n",
      "***\n",
      "****\n"
     ]
    }
   ],
   "source": [
    "#练习四：写函数，根据给定符号，上底、下底、高，打印各种梯形\n",
    "def print_trapezoid():\n",
    "    m=int(input('请输入梯形上底'))\n",
    "    n=int(input('请输入梯形下底'))\n",
    "    for i in range(m,n+1):\n",
    "        print('*'*i)\n",
    "    \n",
    "print_trapezoid()\n",
    "            \n",
    "\n",
    "        "
   ]
  },
  {
   "cell_type": "code",
   "execution_count": 90,
   "metadata": {
    "collapsed": false
   },
   "outputs": [
    {
     "name": "stdout",
     "output_type": "stream",
     "text": [
      "请输入行数4\n",
      "    \n",
      "   *\n",
      "  ***\n",
      " *****\n",
      "*******\n",
      " *****\n",
      "  ***\n",
      "   *\n",
      "    \n"
     ]
    }
   ],
   "source": [
    "#练习五：写函数，根据给定符号，打印各种菱形\n",
    "def print_rhombus():\n",
    "    n=int(input('请输入行数'))\n",
    "    for i in range(0, n):\n",
    "        for k in range(n-i,0,-1):\n",
    "            print(' ', end='')\n",
    "        for j in range(0,2*i-1):\n",
    "            print('*',end='')\n",
    "        print()\n",
    "    for i in range(n, -1,-1):\n",
    "        for k in range(n-i,0,-1):\n",
    "            print(' ', end='')\n",
    "        for j in range(0,2*i-1):\n",
    "            print('*',end='')\n",
    "        print()\n",
    "\n",
    "print_rhombus()\n",
    "    "
   ]
  },
  {
   "cell_type": "code",
   "execution_count": 89,
   "metadata": {
    "collapsed": false
   },
   "outputs": [
    {
     "name": "stdout",
     "output_type": "stream",
     "text": [
      "赏花归去马如飞飞如马去归花赏\n",
      " 赏花归去马如飞如马去归花赏\n",
      "  赏花归去马如如马去归花赏\n",
      "   赏花归去马如马去归花赏\n",
      "    赏花归去马马去归花赏\n",
      "     赏花归去马去归花赏\n",
      "      赏花归去去归花赏\n",
      "       赏花归去归花赏\n",
      "        赏花归归花赏\n",
      "         赏花归花赏\n",
      "          赏花花赏\n",
      "           赏花赏\n",
      "            赏赏\n",
      "             赏\n"
     ]
    }
   ],
   "source": [
    "#练习六：与本小节任务基本相同，但要求打印回文字符倒三角形。\n",
    "line = '赏花归去马如飞'\n",
    "\n",
    "for i in range(len(line)*2,0,-1):\n",
    "    if i == 1:\n",
    "        print(' '*(len(line)*2-i)+line[0])\n",
    "    elif i%2 == 1:\n",
    "        print(' '*(len(line)*2-i)+line[:i//2] + line[i//2] + line[i//2-1::-1])\n",
    "    else:\n",
    "        print(' '*(len(line)*2-i)+line[:i//2] + line[i//2-1::-1])"
   ]
  }
 ],
 "metadata": {
  "kernelspec": {
   "display_name": "Python 3",
   "language": "python",
   "name": "python3"
  },
  "language_info": {
   "codemirror_mode": {
    "name": "ipython",
    "version": 3
   },
   "file_extension": ".py",
   "mimetype": "text/x-python",
   "name": "python",
   "nbconvert_exporter": "python",
   "pygments_lexer": "ipython3",
   "version": "3.6.0"
  }
 },
 "nbformat": 4,
 "nbformat_minor": 2
}
