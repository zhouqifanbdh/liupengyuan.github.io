{
 "cells": [
  {
   "cell_type": "code",
   "execution_count": 1,
   "metadata": {
    "collapsed": false
   },
   "outputs": [
    {
     "name": "stdout",
     "output_type": "stream",
     "text": [
      "请输入整数的个数3\n",
      "请输入一个数字2\n",
      "请输入一个数字5\n",
      "请输入一个数字4\n",
      "11\n"
     ]
    }
   ],
   "source": [
    "numbers=[]\n",
    "n=int(input('请输入整数的个数'))\n",
    "\n",
    "for i in range(n):\n",
    "    number=int(input('请输入一个数字'))\n",
    "    numbers.append(number)\n",
    "\n",
    "total=0\n",
    "for number in numbers:\n",
    "    total += number\n",
    "    \n",
    "print(total)"
   ]
  },
  {
   "cell_type": "code",
   "execution_count": 2,
   "metadata": {
    "collapsed": false
   },
   "outputs": [
    {
     "name": "stdout",
     "output_type": "stream",
     "text": [
      "请输入整数个数3\n",
      "请输入一个整数2\n",
      "请输入一个数字4\n",
      "请输入一个数字5\n",
      "请输入一个数字4\n",
      "2\n"
     ]
    }
   ],
   "source": [
    "number=[]\n",
    "n=int(input('请输入整数个数'))\n",
    "min_number=int(input('请输入一个整数'))\n",
    "\n",
    "for i in range(n):\n",
    "    number=int(input('请输入一个数字'))\n",
    "\n",
    "m=0\n",
    "while m<number:\n",
    "    m+=1\n",
    "    if number<min_number:\n",
    "        min_number=number\n",
    "    elif number>min_number:\n",
    "        min_number=min_number\n",
    "print(min_number)"
   ]
  },
  {
   "cell_type": "code",
   "execution_count": 4,
   "metadata": {
    "collapsed": false
   },
   "outputs": [
    {
     "name": "stdout",
     "output_type": "stream",
     "text": [
      "请输入整数个数3\n",
      "请输入一个整数2\n",
      "请输入一个整数4\n",
      "请输入一个整数5\n",
      "请输入你要查找的数字4\n",
      "-1\n"
     ]
    }
   ],
   "source": [
    "numbers=[]\n",
    "n=int(input('请输入整数个数'))\n",
    "\n",
    "for i in range(n):\n",
    "     number=int(input('请输入一个整数'))\n",
    "    \n",
    "numbers.append(number)\n",
    "    \n",
    "m=int(input('请输入你要查找的数字'))\n",
    "\n",
    "if m in numbers:\n",
    "    print(numbers.index(m))\n",
    "else:\n",
    "    print(-1)\n",
    "\n"
   ]
  },
  {
   "cell_type": "code",
   "execution_count": 5,
   "metadata": {
    "collapsed": false
   },
   "outputs": [
    {
     "name": "stdout",
     "output_type": "stream",
     "text": [
      "0.4242640687119285\n"
     ]
    }
   ],
   "source": [
    "import math\n",
    "def cos(a,b):\n",
    "    result1=0\n",
    "    result2=0\n",
    "    result3=0\n",
    "    for i in range(len(a)):\n",
    "        result1+=a[i]+b[i]\n",
    "        result2+=a[i]**2\n",
    "        result3+=b[i]**2\n",
    "    print(result1/\n",
    "math.sqrt(result2*result3))\n",
    "    \n",
    "cos([9,3],[2,4])"
   ]
  },
  {
   "cell_type": "code",
   "execution_count": null,
   "metadata": {
    "collapsed": true
   },
   "outputs": [],
   "source": []
  }
 ],
 "metadata": {
  "kernelspec": {
   "display_name": "Python 3",
   "language": "python",
   "name": "python3"
  },
  "language_info": {
   "codemirror_mode": {
    "name": "ipython",
    "version": 3
   },
   "file_extension": ".py",
   "mimetype": "text/x-python",
   "name": "python",
   "nbconvert_exporter": "python",
   "pygments_lexer": "ipython3",
   "version": "3.6.0"
  }
 },
 "nbformat": 4,
 "nbformat_minor": 2
}
