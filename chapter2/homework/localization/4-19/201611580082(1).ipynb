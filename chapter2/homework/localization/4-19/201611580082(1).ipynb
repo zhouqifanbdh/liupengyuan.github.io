{
 "cells": [
  {
   "cell_type": "code",
   "execution_count": 2,
   "metadata": {
    "collapsed": false
   },
   "outputs": [
    {
     "name": "stdout",
     "output_type": "stream",
     "text": [
      "[0, 1, 2, 3, 4, 5, 6, 7, 8, 9]\n"
     ]
    }
   ],
   "source": [
    "#练习一：自己定义一个reverse(s)函数，功能返回字符串s的倒序字符串。\n",
    "def reverse():\n",
    "    x = []\n",
    "    s = [9,8,7,6,5,4,3,2,1,0]\n",
    "    for i in range(len(s)-1,-1,-1):\n",
    "        x.append(s[i])\n",
    "    return(x)\n",
    "    \n",
    "a = reverse()\n",
    "print(a)"
   ]
  },
  {
   "cell_type": "code",
   "execution_count": 4,
   "metadata": {
    "collapsed": false
   },
   "outputs": [
    {
     "name": "stdout",
     "output_type": "stream",
     "text": [
      "*  \n",
      "*  *  \n",
      "*  *  *  \n",
      "*  *  *  *  \n",
      "*  *  *  *  *  \n",
      "------分割线------------分割线------------分割线------\n",
      "    *\n",
      "   ***\n",
      "  *****\n",
      " *******\n",
      "------分割线------------分割线------------分割线------\n",
      "     *  \n",
      "    *  *  \n",
      "   *  *  *  \n",
      "  *  *  *  *  \n",
      " *  *  *  *  *  \n",
      "*  *  *  *  *  *  \n"
     ]
    }
   ],
   "source": [
    "#练习二：写函数，根据给定符号和行数，打印相应直角三角形，等腰三角形及其他形式的三角形。\n",
    "def pattern(pat):\n",
    "    for i in range(1,len(pat)):\n",
    "        for j in range(1,i+1):\n",
    "            print(pat[0],' ',end = '')\n",
    "        print()\n",
    "    \n",
    "    \n",
    "    print(\"------分割线------\"*3)\n",
    "    for i in range(1,len(pat)-1):\n",
    "        for j in range(len(pat)-1-i,0,-1):\n",
    "            print(' ',end = '')\n",
    "        for k in range(1,2*i):\n",
    "            print(pat[0],end = '')\n",
    "        print()\n",
    "        \n",
    "    print(\"------分割线------\"*3)        \n",
    "    for i in range(1,len(pat)+1):\n",
    "        for j in range(len(pat)-i,0,-1):\n",
    "            print(' ',end = '')\n",
    "        for k in range(1,i+1):\n",
    "            print(pat[0],' ',end = '')\n",
    "        print()\n",
    "\n",
    "        \n",
    "def main():\n",
    "    text = \"******\"\n",
    "    pattern(text)   \n",
    "\n",
    "if __name__ == '__main__':\n",
    "    main()"
   ]
  },
  {
   "cell_type": "code",
   "execution_count": null,
   "metadata": {
    "collapsed": false
   },
   "outputs": [],
   "source": [
    "#练习三：将任务4中的英语名词单数变复数的函数，尽可能的考虑多种情况，重新进行实现。\n",
    "def pl():\n",
    "    word = input(\"请输入一个英语名词的单数形式，以回车结束：\")\n",
    "    x1 = ['o','x','s','sh','ch']\n",
    "    x2 = ['by','cy','dy','fy','gy','jy','ky','ly','my','my','py','qy','ry','sy','ty','vy','wy','xy','yy','zy']\n",
    "    while word:\n",
    "        if word[-1] in x1:\n",
    "            print(word + 'es')\n",
    "        elif word[-2:] in x1:\n",
    "            print(word + 'es')\n",
    "        else:\n",
    "            if word[-2:] in x2:\n",
    "                print(word[:-1] + 'es')\n",
    "            else:\n",
    "                print(word +'s')\n",
    "        word = input(\"请输入一个英语名词的单数形式，以回车结束：\")\n",
    "    \n",
    "pl()"
   ]
  },
  {
   "cell_type": "code",
   "execution_count": null,
   "metadata": {
    "collapsed": true
   },
   "outputs": [],
   "source": [
    "#练习四：写函数，根据给定符号，上底、下底、高，打印各种梯形。\n",
    "\n",
    "#不会写\n",
    "symbol = \"#\"\n",
    "def shape():\n",
    "    x= int(input(\"请输入要打印的梯形的s底，以回车结束：\"))\n",
    "    y= int(input(\"请输入要打印的梯形的x底，以回车结束：\"))\n",
    "    z= int(input(\"请输入要打印的梯形的高，以回车结束：\"))\n",
    "    for i in range(1,z+1):\n",
    "        for k in range(1,i+x):\n",
    "            print(\"#\",end='')\n",
    "    #for j in range(z-i,0,-1):\n",
    "        print('\\n')\n",
    "shape()"
   ]
  },
  {
   "cell_type": "code",
   "execution_count": null,
   "metadata": {
    "collapsed": true
   },
   "outputs": [],
   "source": [
    "#练习五：写函数，根据给定符号，打印各种菱形。\n",
    "\n",
    "#什么是各种菱形？空心还是实心？\n",
    "\n",
    "def rhombus():\n",
    "    s = \"*\"\n",
    "    for i in range(1,8,2):\n",
    "        print((s*i).center(7))\n",
    "    for i in reversed(range(1,6,2)):\n",
    "        print((s*i).center(7))\n",
    "    print()\n",
    "    \n",
    "rhombus()"
   ]
  },
  {
   "cell_type": "code",
   "execution_count": null,
   "metadata": {
    "collapsed": true
   },
   "outputs": [],
   "source": [
    "#练习六：与本小节任务基本相同，但要求打印回文字符倒三角形。\n",
    "\n",
    "#烧脑子\n",
    "def plalindrome(line):\n",
    "    for i in range(len(line)*2,0,-1):\n",
    "        if i == 1:\n",
    "            print(' '*(len(line)*2-1) +line[0])\n",
    "        elif i%2 == 1:\n",
    "            print(' '*(len(line)*2-i) + line[:i//2] + line[i//2] + line[i//2-1::-1])\n",
    "        else:\n",
    "            print(' '*(len(line)*2-i) + line[:i//2] + line[i//2-1::-1])\n",
    "\n",
    "def main():\n",
    "    text = '苟利国家生死以'\n",
    "    plalindrome(text)\n",
    "    \n",
    "\n",
    "if __name__ == '__main__':\n",
    "    main()"
   ]
  },
  {
   "cell_type": "code",
   "execution_count": null,
   "metadata": {
    "collapsed": true
   },
   "outputs": [],
   "source": []
  }
 ],
 "metadata": {
  "kernelspec": {
   "display_name": "Python 3",
   "language": "python",
   "name": "python3"
  },
  "language_info": {
   "codemirror_mode": {
    "name": "ipython",
    "version": 3
   },
   "file_extension": ".py",
   "mimetype": "text/x-python",
   "name": "python",
   "nbconvert_exporter": "python",
   "pygments_lexer": "ipython3",
   "version": "3.6.0"
  }
 },
 "nbformat": 4,
 "nbformat_minor": 2
}
