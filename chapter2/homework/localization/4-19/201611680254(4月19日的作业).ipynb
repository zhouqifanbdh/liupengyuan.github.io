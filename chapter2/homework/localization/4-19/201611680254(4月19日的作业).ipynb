{
 "cells": [
  {
   "cell_type": "markdown",
   "metadata": {
    "deletable": true,
    "editable": true
   },
   "source": [
    "练习一：实现reverse(s)函数，功能与s.reverse()相同。"
   ]
  },
  {
   "cell_type": "code",
   "execution_count": 20,
   "metadata": {
    "collapsed": false,
    "deletable": true,
    "editable": true
   },
   "outputs": [
    {
     "name": "stdout",
     "output_type": "stream",
     "text": [
      "dcba\n"
     ]
    }
   ],
   "source": [
    "def reverse(line):\n",
    "    print(line[::-1])\n",
    "\n",
    "line='abcd'\n",
    "reverse(line)"
   ]
  },
  {
   "cell_type": "markdown",
   "metadata": {
    "deletable": true,
    "editable": true
   },
   "source": [
    "练习二：写函数，根据给定符号和行数，打印相应直角三角形，等腰三角形及其他形式的三角形。"
   ]
  },
  {
   "cell_type": "code",
   "execution_count": 15,
   "metadata": {
    "collapsed": false,
    "deletable": true,
    "editable": true
   },
   "outputs": [
    {
     "name": "stdout",
     "output_type": "stream",
     "text": [
      "请输入这个直角三角形的边长5\n",
      "|\\\n",
      "| \\\n",
      "|  \\\n",
      "|   \\\n",
      "|____\\\n",
      "请输入这个等腰三角形的边长5\n",
      "      /\\\n",
      "     /  \\\n",
      "    /    \\\n",
      "   /      \\\n",
      "  / ______ \\\n"
     ]
    }
   ],
   "source": [
    "#直角三角形\n",
    "line_1='|'\n",
    "line_2='\\\\'\n",
    "line_3='_'\n",
    "\n",
    "c=int(input('请输入这个直角三角形的边长'))\n",
    "\n",
    "for i in range(c):\n",
    "    if i%1==1:\n",
    "        print(line_1,line_2)\n",
    "    elif i!=(c-1):\n",
    "        print(line_1+i*' '+line_2)\n",
    "    else:\n",
    "        print(line_1+line_3*i+line_2)\n",
    "        \n",
    "#等腰三角形\n",
    "\n",
    "line_1='/'\n",
    "line_2='\\\\'\n",
    "line_3='_'\n",
    "c=int(input('请输入这个等腰三角形的边长'))\n",
    "\n",
    "print((c+1)*' ',line_1,line_2,sep='')\n",
    "\n",
    "for i in range(c-1):\n",
    "    if i!=(c-2):\n",
    "        print((c-i-1)*' ',line_1,2*i*' ',line_2)\n",
    "    else:\n",
    "        print((c-i-1)*' ',line_1,2*i*line_3,line_2)"
   ]
  },
  {
   "cell_type": "markdown",
   "metadata": {
    "deletable": true,
    "editable": true
   },
   "source": [
    "练习三：将任务4中的英语动词变复数的函数，完整实现。"
   ]
  },
  {
   "cell_type": "code",
   "execution_count": 5,
   "metadata": {
    "collapsed": false,
    "deletable": true,
    "editable": true,
    "scrolled": true
   },
   "outputs": [
    {
     "name": "stdout",
     "output_type": "stream",
     "text": [
      "请输入一个单词lunch\n",
      "lunches\n"
     ]
    }
   ],
   "source": [
    "def plural():\n",
    "    word=input('请输入一个单词')\n",
    "    line=list(word)\n",
    "\n",
    "    if 's'==line[len(line)-1]:\n",
    "         print('这个数是复数')\n",
    "    elif 'h'==line[len(line)-1]:\n",
    "        \n",
    "        line.append('es')\n",
    "        line=''.join(line)\n",
    "        print(line)\n",
    "\n",
    "    elif 'y'==line[len(line)-1]:\n",
    "        line.remove('y')\n",
    "        line.append('ies')\n",
    "        line=''.join(line)\n",
    "        print(line)\n",
    "    else:\n",
    "        line.append('s')\n",
    "        line=''.join(line)\n",
    "        print(line)\n",
    "\n",
    "plural()\n"
   ]
  },
  {
   "cell_type": "markdown",
   "metadata": {
    "deletable": true,
    "editable": true
   },
   "source": [
    "挑战性习题：python语言老师为了激励学生学python，自费买了100个完全相同的Macbook Pro，分给三个班级，每个班级至少分5个，用穷举法计算共有多少种分法？"
   ]
  },
  {
   "cell_type": "code",
   "execution_count": 1,
   "metadata": {
    "collapsed": false,
    "deletable": true,
    "editable": true
   },
   "outputs": [
    {
     "name": "stdout",
     "output_type": "stream",
     "text": [
      "一共有 7569 种分法\n"
     ]
    }
   ],
   "source": [
    "a=c=b=5\n",
    "i=0\n",
    "for a in range(4,91):\n",
    "    for b in range(4,91):\n",
    "        c=100-b-a\n",
    "        i+=1\n",
    "        if c<5:\n",
    "            continue\n",
    "print('一共有',i,'种分法')"
   ]
  },
  {
   "cell_type": "code",
   "execution_count": null,
   "metadata": {
    "collapsed": true,
    "deletable": true,
    "editable": true
   },
   "outputs": [],
   "source": []
  },
  {
   "cell_type": "code",
   "execution_count": null,
   "metadata": {
    "collapsed": true,
    "deletable": true,
    "editable": true
   },
   "outputs": [],
   "source": []
  },
  {
   "cell_type": "code",
   "execution_count": null,
   "metadata": {
    "collapsed": true,
    "deletable": true,
    "editable": true
   },
   "outputs": [],
   "source": []
  }
 ],
 "metadata": {
  "kernelspec": {
   "display_name": "Python 3",
   "language": "python",
   "name": "python3"
  },
  "language_info": {
   "codemirror_mode": {
    "name": "ipython",
    "version": 3
   },
   "file_extension": ".py",
   "mimetype": "text/x-python",
   "name": "python",
   "nbconvert_exporter": "python",
   "pygments_lexer": "ipython3",
   "version": "3.6.0"
  }
 },
 "nbformat": 4,
 "nbformat_minor": 2
}
