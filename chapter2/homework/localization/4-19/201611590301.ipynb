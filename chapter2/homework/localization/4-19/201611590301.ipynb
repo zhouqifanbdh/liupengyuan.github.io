{
 "cells": [
  {
   "cell_type": "code",
   "execution_count": 1,
   "metadata": {
    "collapsed": true
   },
   "outputs": [],
   "source": [
    "#练习一：自己定义一个reverse(s)函数，功能返回字符串s的倒序字符串。"
   ]
  },
  {
   "cell_type": "code",
   "execution_count": 7,
   "metadata": {
    "collapsed": false
   },
   "outputs": [
    {
     "name": "stdout",
     "output_type": "stream",
     "text": [
      "请输入字符串：I WANT TO GO TO MANCHESTER\n",
      "RETSEHCNAM OT OG OT TNAW I\n"
     ]
    }
   ],
   "source": [
    "def reverse(line):\n",
    "    print(line[len(line)::-1])\n",
    "\n",
    "line=[]\n",
    "line=input('请输入字符串：')\n",
    "reverse(line)"
   ]
  },
  {
   "cell_type": "code",
   "execution_count": 9,
   "metadata": {
    "collapsed": false
   },
   "outputs": [],
   "source": [
    "#练习二：写函数，根据给定符号和行数，打印相应直角三角形，等腰三角形及其他形式的三角形。"
   ]
  },
  {
   "cell_type": "code",
   "execution_count": 13,
   "metadata": {
    "collapsed": false
   },
   "outputs": [
    {
     "name": "stdout",
     "output_type": "stream",
     "text": [
      "请输入给定符号：yyyyyyyy\n",
      "请输入所打行数：7\n",
      "y\n",
      "yy\n",
      "yyy\n",
      "yyyy\n",
      "yyyyy\n",
      "yyyyyy\n",
      "yyyyyyy\n",
      "      y\n",
      "     yyy\n",
      "    yyyyy\n",
      "   yyyyyyy\n",
      "  yyyyyyyyy\n",
      " yyyyyyyyyyy\n",
      "yyyyyyyyyyyyy\n"
     ]
    }
   ],
   "source": [
    "def Righttriangle(line,hang):\n",
    "    for i in range(1,hang+1):\n",
    "        if i==1:\n",
    "            print(line[0])\n",
    "        elif i%2==1:\n",
    "            print(line[:i//2]+line[i//2]+line[i//2-1::-1])\n",
    "        else:\n",
    "            print(line[:i//2]+line[i//2-1::-1])\n",
    "            \n",
    "            \n",
    "            \n",
    "def Isoscelestriangle(line,hang):\n",
    "    for i in range(1,hang+1):\n",
    "        if i == 1:\n",
    "            print(' '*(hang-1)+line[0])\n",
    "        else:\n",
    "            print(' '*(hang-i)+line[0]*(2*i-1))\n",
    "\n",
    "\n",
    "line=[]\n",
    "line=input('请输入给定符号：')\n",
    "n=int(input('请输入所打行数：'))\n",
    "Righttriangle(line,n)\n",
    "Isoscelestriangle(line,n)"
   ]
  },
  {
   "cell_type": "code",
   "execution_count": null,
   "metadata": {
    "collapsed": true
   },
   "outputs": [],
   "source": [
    "#练习三：将任务4中的英语名词单数变复数的函数，尽可能的考虑多种情况，重新进行实现。"
   ]
  },
  {
   "cell_type": "code",
   "execution_count": 14,
   "metadata": {
    "collapsed": false
   },
   "outputs": [
    {
     "name": "stdout",
     "output_type": "stream",
     "text": [
      "please enter a word:state\n",
      "states\n",
      " \n"
     ]
    }
   ],
   "source": [
    "def plural(words):\n",
    "    n=len(words)\n",
    "    if words.endswith('o' or 'x'):\n",
    "        words += 'es'\n",
    "        print(words)\n",
    "        \n",
    "    elif words.endswith('f'):\n",
    "        n=len(words)\n",
    "        for i in range(n-1):\n",
    "            print(words[i],end='')\n",
    "        print('ves',end='')\n",
    "        \n",
    "    elif words.endswith('y'):\n",
    "        n=len(words)\n",
    "        for i in range(n-1):\n",
    "            print(words[i],end='')\n",
    "        print('ies',end='')\n",
    "        \n",
    "    else:\n",
    "        words += 's'\n",
    "        print(words)\n",
    "    return ' '\n",
    "\n",
    "words=input('please enter a word:')\n",
    "print(plural(words))"
   ]
  },
  {
   "cell_type": "code",
   "execution_count": null,
   "metadata": {
    "collapsed": true
   },
   "outputs": [],
   "source": []
  }
 ],
 "metadata": {
  "kernelspec": {
   "display_name": "Python 3",
   "language": "python",
   "name": "python3"
  },
  "language_info": {
   "codemirror_mode": {
    "name": "ipython",
    "version": 3
   },
   "file_extension": ".py",
   "mimetype": "text/x-python",
   "name": "python",
   "nbconvert_exporter": "python",
   "pygments_lexer": "ipython3",
   "version": "3.6.0"
  }
 },
 "nbformat": 4,
 "nbformat_minor": 2
}
