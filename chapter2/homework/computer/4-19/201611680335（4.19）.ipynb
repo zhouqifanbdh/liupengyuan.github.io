{
 "cells": [
  {
   "cell_type": "code",
   "execution_count": 3,
   "metadata": {
    "collapsed": false,
    "deletable": true,
    "editable": true
   },
   "outputs": [
    {
     "data": {
      "text/plain": [
       "'aixil'"
      ]
     },
     "execution_count": 3,
     "metadata": {},
     "output_type": "execute_result"
    }
   ],
   "source": [
    "#练习一：自己定义一个reverse(s)函数，功能返回字符串s的倒序字符串。\n",
    "def reserse(s):\n",
    "    k=len(s)\n",
    "    return (s[k::-1])\n",
    "\n",
    "s='lixia'\n",
    "reserse(s)"
   ]
  },
  {
   "cell_type": "code",
   "execution_count": 9,
   "metadata": {
    "collapsed": false,
    "deletable": true,
    "editable": true
   },
   "outputs": [
    {
     "name": "stdout",
     "output_type": "stream",
     "text": [
      "直角三角形：\n",
      "\n",
      "小\n",
      "小小\n",
      "小小小\n",
      "小小小小\n",
      "小小小小小\n",
      "小小小小小小\n",
      "小小小小小小小\n",
      "小小小小小小小小\n",
      "小小小小小小小小小\n",
      "等边三角形：\n",
      "         小\n",
      "        小小\n",
      "       小小小\n",
      "      小小小小\n",
      "     小小小小小\n",
      "    小小小小小小\n",
      "   小小小小小小小\n",
      "  小小小小小小小小\n",
      " 小小小小小小小小小\n"
     ]
    }
   ],
   "source": [
    "#练习二：写函数，根据给定符号和行数，打印相应直角三角形，等腰三角形及其他形式的三角形。\n",
    "def typetrangel(s):\n",
    "    print('直角三角形：')\n",
    "    for i in range(1,len(s)*2+1):\n",
    "        for j in range(1,i):\n",
    "            print(s[0],end='')\n",
    "        print()\n",
    "    print('等边三角形：')\n",
    "    for i in range(1, len(s)*2):\n",
    "        if i == 1:\n",
    "            print(' '*(len(s)*2-1) +s[0])\n",
    "        elif i%2 == 1:\n",
    "            print(' '*(len(s)*2-i) + s[:i//2] + s[i//2] + s[i//2-1::-1])\n",
    "        else:\n",
    "            print(' '*(len(s)*2-i) + s[:i//2] + s[i//2-1::-1])\n",
    "\n",
    "s='小'*5\n",
    "typetrangel(s)"
   ]
  },
  {
   "cell_type": "code",
   "execution_count": null,
   "metadata": {
    "collapsed": true,
    "deletable": true,
    "editable": true
   },
   "outputs": [],
   "source": [
    "#练习三：将任务4中的英语名词单数变复数的函数，尽可能的考虑多种情况，重新进行实现。\n",
    "def string_end(word):\n",
    "    if word.endswith('x') or word.endswith('ch') or word.endswith('s') or word.endswith('o'):\n",
    "        print(word,'es',sep='')\n",
    "    elif word.endswith('y'):\n",
    "        print(word[:-1],'ies',sep='')\n",
    "    elif word==man:\n",
    "        print('men')\n",
    "    elif word==foot:\n",
    "        print('feet')\n",
    "    else:\n",
    "        print(word,'s',sep='')\n",
    "word=input('请输入一个英文单词')\n",
    "string_end(word)"
   ]
  }
 ],
 "metadata": {
  "kernelspec": {
   "display_name": "Python 3",
   "language": "python",
   "name": "python3"
  },
  "language_info": {
   "codemirror_mode": {
    "name": "ipython",
    "version": 3
   },
   "file_extension": ".py",
   "mimetype": "text/x-python",
   "name": "python",
   "nbconvert_exporter": "python",
   "pygments_lexer": "ipython3",
   "version": "3.6.0"
  }
 },
 "nbformat": 4,
 "nbformat_minor": 2
}
