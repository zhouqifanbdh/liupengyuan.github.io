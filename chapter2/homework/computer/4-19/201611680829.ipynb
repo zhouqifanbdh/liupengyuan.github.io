{
 "cells": [
  {
   "cell_type": "code",
   "execution_count": 20,
   "metadata": {
    "collapsed": false,
    "deletable": true,
    "editable": true
   },
   "outputs": [
    {
     "name": "stdout",
     "output_type": "stream",
     "text": [
      "please enter a str.:123456\n",
      "直角梯形：\n",
      "12\n",
      "123\n",
      "1234\n",
      "12345\n",
      "123456\n",
      "\n",
      "------------------------------\n",
      "\n",
      "等腰梯形：\n",
      "     11\n",
      "    1212\n",
      "   123123\n",
      "  12341234\n",
      " 1234512345\n",
      "123456123456\n"
     ]
    }
   ],
   "source": [
    "def picture(char):\n",
    "    print('直角梯形：')\n",
    "    for i in range(0, len(char)):\n",
    "        if i==0:\n",
    "            char[0]==' '\n",
    "        else:\n",
    "            print(char[0:i]+char[i])\n",
    "    print()\n",
    "    print('-'*30)\n",
    "    print()\n",
    "            \n",
    "    for i in range(1, len(char)+1):\n",
    "        if i == 1:\n",
    "            print('等腰梯形：')\n",
    "            print(' '*(len(char)-i) +char[0]*2)\n",
    "        else:\n",
    "            print(' '*(len(char)-i) + char[0:i]*2)\n",
    "\n",
    "\n",
    "char=input('please enter a str.:')\n",
    "picture(char)"
   ]
  },
  {
   "cell_type": "code",
   "execution_count": 86,
   "metadata": {
    "collapsed": false
   },
   "outputs": [
    {
     "name": "stdout",
     "output_type": "stream",
     "text": [
      "please enter a str.:1234567\n",
      "菱形1：\n",
      "      1234567\n",
      "     1234567\n",
      "    1234567\n",
      "   1234567\n",
      "  1234567\n",
      " 1234567\n",
      "1234567\n",
      "\n",
      "------------------------------\n",
      "\n",
      "菱形2：\n",
      " 1234567\n",
      "  1234567\n",
      "   1234567\n",
      "    1234567\n",
      "     1234567\n",
      "      1234567\n",
      "       1234567\n",
      "\n",
      "------------------------------\n",
      "\n",
      "菱形3：\n",
      "      1\n",
      "     126\n",
      "    12356\n",
      "   1234456\n",
      "  123453456\n",
      " 12345623456\n",
      "1234567123456\n",
      " 12345623456\n",
      "  123453456\n",
      "   1234456\n",
      "    12356\n",
      "     126\n",
      "      1\n"
     ]
    }
   ],
   "source": [
    "def picture(char):\n",
    "    print('菱形1：')\n",
    "    for i in range(1, len(char)+1):\n",
    "        print(' '*(len(char)-i)+char[0:len(char)])\n",
    "    print()\n",
    "    print('-'*30)\n",
    "    print()\n",
    "    \n",
    "    print('菱形2：')\n",
    "    for i in range(1, len(char)+1):\n",
    "         print(' '*i+char[0:len(char)])\n",
    "    print()\n",
    "    print('-'*30)\n",
    "    print()  \n",
    "    \n",
    "    print('菱形3：')\n",
    "    if len(char)%2==1:\n",
    "        for i in range(1, len(char)*2):\n",
    "            if i==1:\n",
    "                print(' '*(len(char)-i)+char[0])\n",
    "            elif 1< i <= len(char):\n",
    "                print(' '*(len(char)-i)+char[0:i]+char[-i:-1])\n",
    "            else:\n",
    "                   print(' '*(i-len(char))+char[0:len(char)-i]+char[i-len(char):-1]) \n",
    "\n",
    "char=input('please enter a str.:')\n",
    "picture(char)"
   ]
  },
  {
   "cell_type": "code",
   "execution_count": 3,
   "metadata": {
    "collapsed": false
   },
   "outputs": [
    {
     "name": "stdout",
     "output_type": "stream",
     "text": [
      "Enter a str.:赏花归去马如飞\n",
      "赏花归去马如飞如马去归花赏\n",
      "赏花归去马如如马去归花赏\n",
      "赏花归去马如马去归花赏\n",
      "赏花归去马马去归花赏\n",
      "赏花归去马去归花赏\n",
      "赏花归去去归花赏\n",
      "赏花归去归花赏\n",
      "赏花归归花赏\n",
      "赏花归花赏\n",
      "赏花花赏\n",
      "赏花赏\n",
      "赏赏\n",
      "赏\n",
      "我尽力了，真不知道为啥差一个字OTL\n"
     ]
    }
   ],
   "source": [
    "def anti_triple(line):\n",
    "    for i in range(1, len(line)*2+1):\n",
    "        if i==len(line)*2-1:\n",
    "            print(line[0])\n",
    "        elif i == len(line)*2:\n",
    "            print('我尽力了，真不知道为啥差一个字OTL')\n",
    "        elif i%2 == 1 and i<len(line)*2-1:\n",
    "            print(line[:len(line)-i//2-1]+line[len(line)-i//2-1]+line[len(line)-i//2-2::-1])\n",
    "        else:\n",
    "            print(line[:len(line)-i//2] + line[len(line)-i//2-1::-1])\n",
    "        \n",
    "\n",
    "line=input('Enter a str.:')\n",
    "anti_triple(line)"
   ]
  }
 ],
 "metadata": {
  "kernelspec": {
   "display_name": "Python 3",
   "language": "python",
   "name": "python3"
  },
  "language_info": {
   "codemirror_mode": {
    "name": "ipython",
    "version": 3
   },
   "file_extension": ".py",
   "mimetype": "text/x-python",
   "name": "python",
   "nbconvert_exporter": "python",
   "pygments_lexer": "ipython3",
   "version": "3.6.0"
  }
 },
 "nbformat": 4,
 "nbformat_minor": 2
}
