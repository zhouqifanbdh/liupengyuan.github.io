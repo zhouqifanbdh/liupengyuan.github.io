{
 "cells": [
  {
   "cell_type": "code",
   "execution_count": 2,
   "metadata": {
    "collapsed": false,
    "deletable": true,
    "editable": true
   },
   "outputs": [
    {
     "name": "stdout",
     "output_type": "stream",
     "text": [
      "             赏\n",
      "            赏赏\n",
      "           赏花赏\n",
      "          赏花花赏\n",
      "         赏花归花赏\n",
      "        赏花归归花赏\n",
      "       赏花归去归花赏\n",
      "      赏花归去去归花赏\n",
      "     赏花归去马去归花赏\n",
      "    赏花归去马马去归花赏\n",
      "   赏花归去马如马去归花赏\n",
      "  赏花归去马如如马去归花赏\n",
      " 赏花归去马如飞如马去归花赏\n",
      "赏花归去马如飞飞如马去归花赏\n"
     ]
    }
   ],
   "source": [
    "def  plalindrome(line):\n",
    "    for i in range(1,2*len(line)+1):\n",
    "        if i==1:\n",
    "            print(' '*(2*len(line)-i)+line[0])\n",
    "        elif i%2==0 :\n",
    "            print(' '*(2*len(line)-i)+line[:i//2]+line[i//2-1::-1])\n",
    "        else:\n",
    "            print(' '*(2*len(line)-i)+line[:i//2+1]+line[i//2-1::-1])\n",
    "\n",
    "def main():\n",
    "    line = '赏花归去马如飞'\n",
    "    plalindrome(line)\n",
    "    \n",
    "\n",
    "if __name__ == '__main__':\n",
    "    main()"
   ]
  },
  {
   "cell_type": "markdown",
   "metadata": {},
   "source": [
    "- 练习一：实现reverse(s)函数，功能与s.reverse()相同。"
   ]
  },
  {
   "cell_type": "code",
   "execution_count": 3,
   "metadata": {
    "collapsed": false
   },
   "outputs": [
    {
     "name": "stdout",
     "output_type": "stream",
     "text": [
      "[1, 2, 3, 4]reverse 之后是：[4, 3, 2, 1]\n"
     ]
    }
   ],
   "source": [
    "import copy\n",
    "\n",
    "def my_reverse(list):\n",
    "    i=len(list)\n",
    "    list2=list.copy()\n",
    "    for num in list2 :\n",
    "        i-=1\n",
    "        list[i]=num\n",
    "    print(list)\n",
    "\n",
    "def main ():\n",
    "    list=[1,2,3,4]\n",
    "    print(list,end='')\n",
    "    print('reverse 之后是：',end='')\n",
    "    my_reverse(list)\n",
    "\n",
    "if __name__=='__main__':\n",
    "    main()"
   ]
  },
  {
   "cell_type": "markdown",
   "metadata": {},
   "source": [
    "- 练习二：写函数，根据给定符号和行数，打印相应直角三角形，等腰三角形及其他形式的三角形。"
   ]
  },
  {
   "cell_type": "code",
   "execution_count": 4,
   "metadata": {
    "collapsed": false
   },
   "outputs": [
    {
     "name": "stdout",
     "output_type": "stream",
     "text": [
      "please enter a sign  *\n",
      "please enter an integer as the row you want to print  5\n",
      "直角三角形\n",
      "*\n",
      "**\n",
      "***\n",
      "****\n",
      "*****\n",
      "等腰三角形\n",
      "    *\n",
      "   ***\n",
      "  *****\n",
      " *******\n",
      "*********\n",
      "等边三角形\n",
      "    * \n",
      "   * * \n",
      "  * * * \n",
      " * * * * \n",
      "* * * * * \n",
      "其他三角形\n",
      " *\n",
      "  **\n",
      "   ***\n",
      "    ****\n",
      "     *****\n"
     ]
    }
   ],
   "source": [
    "sign=[]\n",
    "i=input('please enter a sign  ')\n",
    "sign.append(i)\n",
    "n=int(input('please enter an integer as the row you want to print  '))\n",
    "\n",
    "print('直角三角形')\n",
    "for i in range(1,n+1):\n",
    "    print(sign[0]*i)\n",
    "\n",
    "print('等腰三角形')\n",
    "for i in range(1,n+1):\n",
    "        print(' '*(n-i)+sign[0]*(i*2-1))\n",
    "    \n",
    "print('等边三角形')\n",
    "for i in range(1,n+1):\n",
    "        print(' '*(n-i)+(sign[0]+' ')*i)\n",
    "\n",
    "print('其他三角形')\n",
    "for i in range(1,n+1):\n",
    "        print(' '*i+sign[0]*i)"
   ]
  },
  {
   "cell_type": "markdown",
   "metadata": {},
   "source": [
    "- 练习三：将任务4中的英语动词变复数的函数，完整实现。"
   ]
  },
  {
   "cell_type": "code",
   "execution_count": 5,
   "metadata": {
    "collapsed": false
   },
   "outputs": [
    {
     "name": "stdout",
     "output_type": "stream",
     "text": [
      "please enter a word stupy\n",
      "stupies\n"
     ]
    }
   ],
   "source": [
    "words=[]\n",
    "word=input('please enter a word ')\n",
    "for i in range(len(word)):\n",
    "    words.append(word[i])\n",
    "if word.endswith('ch')or word.endswith('sh')or word.endswith('x')or word.endswith('s') :\n",
    "    words.append('es')\n",
    "elif word.endswith('y') and not(words[i-1]=='a' or words[i-1]=='u' or words[i-1]=='o' or words[i-1]=='i' or words[i-1]=='e' ):\n",
    "    words[i]='i'\n",
    "    words.append('es')\n",
    "else:\n",
    "    words.append('s')\n",
    "\n",
    "for ch in words :\n",
    "    print(ch,end='')\n",
    "print()"
   ]
  }
 ],
 "metadata": {
  "kernelspec": {
   "display_name": "Python 3",
   "language": "python",
   "name": "python3"
  },
  "language_info": {
   "codemirror_mode": {
    "name": "ipython",
    "version": 3
   },
   "file_extension": ".py",
   "mimetype": "text/x-python",
   "name": "python",
   "nbconvert_exporter": "python",
   "pygments_lexer": "ipython3",
   "version": "3.6.0"
  }
 },
 "nbformat": 4,
 "nbformat_minor": 2
}
