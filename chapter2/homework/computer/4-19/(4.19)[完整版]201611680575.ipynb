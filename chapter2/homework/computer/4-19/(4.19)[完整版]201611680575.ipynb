{
 "cells": [
  {
   "cell_type": "markdown",
   "metadata": {},
   "source": [
    "练习一：自己定义一个reverse(s)函数，功能返回字符串s的倒序字符串。"
   ]
  },
  {
   "cell_type": "code",
   "execution_count": 16,
   "metadata": {
    "collapsed": false
   },
   "outputs": [
    {
     "name": "stdout",
     "output_type": "stream",
     "text": [
      "please enter a string:kdnsg\n"
     ]
    },
    {
     "data": {
      "text/plain": [
       "'gsndk'"
      ]
     },
     "execution_count": 16,
     "metadata": {},
     "output_type": "execute_result"
    }
   ],
   "source": [
    "def reverse(s):\n",
    "    return s[::-1]\n",
    "\n",
    "words=input(\"please enter a string:\")\n",
    "reverse(words)"
   ]
  },
  {
   "cell_type": "markdown",
   "metadata": {},
   "source": [
    "练习二：写函数，根据给定符号和行数，打印相应直角三角形，等腰三角形及其他形式的三角形。"
   ]
  },
  {
   "cell_type": "code",
   "execution_count": 3,
   "metadata": {
    "collapsed": false
   },
   "outputs": [
    {
     "name": "stdout",
     "output_type": "stream",
     "text": [
      "请输入形状:\n",
      "直角=rt 等腰=et 其他随便输反正我不打印rt\n",
      "打印行数 :16\n",
      "\n",
      "*\n",
      "**\n",
      "***\n",
      "****\n",
      "*****\n",
      "******\n",
      "*******\n",
      "********\n",
      "*********\n",
      "**********\n",
      "***********\n",
      "************\n",
      "*************\n",
      "**************\n",
      "***************\n",
      "****************\n"
     ]
    }
   ],
   "source": [
    "def PrintTriangle(s,n):\n",
    "    knot=\"*\"*2*n\n",
    "    if s==\"rt\":\n",
    "        for i in range(n):\n",
    "            print(knot[:i:])\n",
    "    elif s==\"et\":\n",
    "        for i in range(n*2):\n",
    "            if i%2!=0:\n",
    "                print(' '*((2*n-i+1)//2)+knot[:i:]+' '*((2*n-i+1)//2))\n",
    "            else :\n",
    "                i\n",
    "    else :\n",
    "        print(\"你以为我会输给你看嘛？略略略\")\n",
    "        \n",
    "\n",
    "figure=input('''请输入形状:\n",
    "直角=rt 等腰=et 其他随便输反正我不打印''')\n",
    "line=int(input(\"打印行数 :\"))\n",
    "PrintTriangle(figure,line+1)"
   ]
  },
  {
   "cell_type": "markdown",
   "metadata": {},
   "source": [
    "练习三：将任务4中的英语名词单数变复数的函数，尽可能的考虑多种情况，重新进行实现。"
   ]
  },
  {
   "cell_type": "code",
   "execution_count": 5,
   "metadata": {
    "collapsed": false
   },
   "outputs": [
    {
     "name": "stdout",
     "output_type": "stream",
     "text": [
      "please enter a wordhero\n",
      "heroes\n"
     ]
    }
   ],
   "source": [
    "word=input(\"please enter a word\")\n",
    "if word==\"have\" :\n",
    "    print(\"has\")\n",
    "elif word==\"is\" or word==\"am\" or word==\"are\" :\n",
    "    print(\"is\")\n",
    "elif word.endswith('o') :\n",
    "    print(word+\"es\")\n",
    "elif word.endswith('s') or word.endswith('x') or word.endswith('sh') or word.endswith('ch') or word.endswith('e') :\n",
    "    print(word+\"es\")\n",
    "elif ((word.endswith('ay') or word.endswith('ey') or word.endswith('iy') or word.endswith('oy') or word.endswith('uy'))!=1) and word.endswith('y') :\n",
    "    print(word[:-1]+\"ies\")\n",
    "else :\n",
    "    print(word+'s')"
   ]
  },
  {
   "cell_type": "markdown",
   "metadata": {},
   "source": [
    "练习四：写函数，根据给定符号，上底、下底、高，打印各种梯形。"
   ]
  },
  {
   "cell_type": "code",
   "execution_count": null,
   "metadata": {
    "collapsed": true
   },
   "outputs": [],
   "source": []
  },
  {
   "cell_type": "markdown",
   "metadata": {},
   "source": [
    "练习五：写函数，根据给定符号，打印各种菱形。"
   ]
  },
  {
   "cell_type": "code",
   "execution_count": 1,
   "metadata": {
    "collapsed": false
   },
   "outputs": [
    {
     "name": "stdout",
     "output_type": "stream",
     "text": [
      "请输入符号：\n",
      "(回车结束)&\n",
      "请输入边长：5\n",
      "边长：5，符号：&，打印如下：\n",
      "&&&&&\n",
      " &&&&&\n",
      "  &&&&&\n",
      "   &&&&&\n",
      "    &&&&&\n",
      "请输入符号\n",
      "(回车结束)：0\n",
      "请输入边长：12\n",
      "边长：12，符号：0，打印如下：\n",
      "000000000000\n",
      " 000000000000\n",
      "  000000000000\n",
      "   000000000000\n",
      "    000000000000\n",
      "     000000000000\n",
      "      000000000000\n",
      "       000000000000\n",
      "        000000000000\n",
      "         000000000000\n",
      "          000000000000\n",
      "           000000000000\n",
      "请输入符号\n",
      "(回车结束)：56\n",
      "请输入边长：7\n",
      "边长：7，符号：56，打印如下：\n",
      "56565656565656\n",
      " 56565656565656\n",
      "  56565656565656\n",
      "   56565656565656\n",
      "    56565656565656\n",
      "     56565656565656\n",
      "      56565656565656\n",
      "请输入符号\n",
      "(回车结束)：\n"
     ]
    }
   ],
   "source": [
    "def Print(l,p):\n",
    "    for i in range(p):\n",
    "        print(' '*i+l*p)\n",
    "  \n",
    "knot=input('''请输入符号：\n",
    "(回车结束)''')   \n",
    "while knot!='':\n",
    "    side=int(input(\"请输入边长：\"))\n",
    "    print(\"边长：{0}，符号：{1}，打印如下：\".format(side,knot))\n",
    "    Print(knot,side)\n",
    "    knot=input('''请输入符号\n",
    "(回车结束)：''')"
   ]
  },
  {
   "cell_type": "markdown",
   "metadata": {},
   "source": [
    "练习六：与本小节任务基本相同，但要求打印回文字符倒三角形。"
   ]
  },
  {
   "cell_type": "code",
   "execution_count": 3,
   "metadata": {
    "collapsed": false
   },
   "outputs": [
    {
     "name": "stdout",
     "output_type": "stream",
     "text": [
      "赏花归去马如飞飞如马去归花赏\n",
      " 赏花归去马如飞如马去归花赏\n",
      "  赏花归去马如如马去归花赏\n",
      "   赏花归去马如马去归花赏\n",
      "    赏花归去马马去归花赏\n",
      "     赏花归去马去归花赏\n",
      "      赏花归去去归花赏\n",
      "       赏花归去归花赏\n",
      "        赏花归归花赏\n",
      "         赏花归花赏\n",
      "          赏花花赏\n",
      "           赏花赏\n",
      "            赏赏\n",
      "             赏\n"
     ]
    }
   ],
   "source": [
    "def plalindrome(line):\n",
    "    for i in range( len(line)*2,0,-1):\n",
    "        if i == 1:\n",
    "            print(' '*(len(line)*2-1) +line[0])\n",
    "        elif i%2 == 1:\n",
    "            print(' '*(len(line)*2-i) + line[:i//2] + line[i//2] + line[i//2-1::-1])\n",
    "        else:\n",
    "            print(' '*(len(line)*2-i) + line[:i//2] + line[i//2-1::-1])\n",
    "\n",
    "def main():\n",
    "    text = '赏花归去马如飞'\n",
    "    plalindrome(text)\n",
    "    \n",
    "\n",
    "if __name__ == '__main__':\n",
    "    main()"
   ]
  },
  {
   "cell_type": "code",
   "execution_count": null,
   "metadata": {
    "collapsed": true
   },
   "outputs": [],
   "source": []
  }
 ],
 "metadata": {
  "kernelspec": {
   "display_name": "Python 3",
   "language": "python",
   "name": "python3"
  },
  "language_info": {
   "codemirror_mode": {
    "name": "ipython",
    "version": 3
   },
   "file_extension": ".py",
   "mimetype": "text/x-python",
   "name": "python",
   "nbconvert_exporter": "python",
   "pygments_lexer": "ipython3",
   "version": "3.6.0"
  }
 },
 "nbformat": 4,
 "nbformat_minor": 2
}
