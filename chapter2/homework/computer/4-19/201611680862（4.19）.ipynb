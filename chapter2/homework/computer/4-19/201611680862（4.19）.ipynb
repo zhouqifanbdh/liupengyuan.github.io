{
 "cells": [
  {
   "cell_type": "code",
   "execution_count": 1,
   "metadata": {
    "collapsed": false
   },
   "outputs": [
    {
     "name": "stdout",
     "output_type": "stream",
     "text": [
      "hiofdsjipheipwges\n"
     ]
    }
   ],
   "source": [
    "s='segwpiehpijsdfoih'\n",
    "n=len(s)\n",
    "print(s[n::-1])\n"
   ]
  },
  {
   "cell_type": "code",
   "execution_count": 13,
   "metadata": {
    "collapsed": false
   },
   "outputs": [
    {
     "name": "stdout",
     "output_type": "stream",
     "text": [
      "请输入直角三角形所占行数：\n",
      "行数：4\n",
      "*\n",
      "**\n",
      "***\n",
      "****\n",
      "请输入等腰三角形所占行数：\n",
      "行数：4\n",
      "   *\n",
      "  ***\n",
      " *****\n",
      "*******\n"
     ]
    }
   ],
   "source": [
    "import math\n",
    "def fun1():\n",
    "    print('请输入直角三角形所占行数：')\n",
    "    n=int(input('行数：'))\n",
    "    for i in range(1,n+1):\n",
    "        print('*'*i)\n",
    "\n",
    "        \n",
    "def fun2():\n",
    "    print('请输入等腰三角形所占行数：')\n",
    "    n=int(input('行数：'))\n",
    "    for i in range(1,n+1):\n",
    "        print(' '*(n-i)+'*'*i+'*'*(i-1))\n",
    "   \n",
    "\n",
    "fun1()\n",
    "fun2()"
   ]
  },
  {
   "cell_type": "code",
   "execution_count": 16,
   "metadata": {
    "collapsed": false
   },
   "outputs": [
    {
     "name": "stdout",
     "output_type": "stream",
     "text": [
      "请输入一个英语单词：life\n",
      "lives\n"
     ]
    }
   ],
   "source": [
    "word=input('请输入一个英语单词：')\n",
    "if word.endswith('s')or word.endswith('x') or word.endswith('sh') or word.endswith('ch') or word.endswith('o') or word.endswith('z'):\n",
    "    print(word+'es')\n",
    "elif word.endswith('by') or word.endswith('cy') or word.endswith('dy')or word.endswith('fy')or word.endswith('hy')or word.endswith('gy')or word.endswith('jy')or word.endswith('ky')or word.endswith('ly')or word.endswith('my')or word.endswith('ny')or word.endswith('py')or word.endswith('qy')or word.endswith('ry')or word.endswith('sy')or word.endswith('ty')or word.endswith('vy')or word.endswith('wy')or word.endswith('xy')or  word.endswith('yy')or word.endswith('zy'):\n",
    "    print(word[:-1]+'ies')\n",
    "elif word.endswith('f'):\n",
    "    print(word[:-1]+'ves')\n",
    "elif word.endswith('fe'):\n",
    "    print(word[:-2]+'ves')\n",
    "else:\n",
    "    print(word+'s')"
   ]
  },
  {
   "cell_type": "code",
   "execution_count": null,
   "metadata": {
    "collapsed": true
   },
   "outputs": [],
   "source": []
  }
 ],
 "metadata": {
  "kernelspec": {
   "display_name": "Python 3",
   "language": "python",
   "name": "python3"
  },
  "language_info": {
   "codemirror_mode": {
    "name": "ipython",
    "version": 3
   },
   "file_extension": ".py",
   "mimetype": "text/x-python",
   "name": "python",
   "nbconvert_exporter": "python",
   "pygments_lexer": "ipython3",
   "version": "3.6.0"
  }
 },
 "nbformat": 4,
 "nbformat_minor": 2
}
