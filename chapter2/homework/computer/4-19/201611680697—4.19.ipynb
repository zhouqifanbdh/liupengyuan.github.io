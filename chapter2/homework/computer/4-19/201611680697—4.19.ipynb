{
 "cells": [
  {
   "cell_type": "markdown",
   "metadata": {
    "deletable": true,
    "editable": true
   },
   "source": [
    "练习一：自己定义一个reverse(s)函数，功能返回字符串s的倒序字符串。"
   ]
  },
  {
   "cell_type": "code",
   "execution_count": 15,
   "metadata": {
    "collapsed": false,
    "deletable": true,
    "editable": true
   },
   "outputs": [
    {
     "name": "stdout",
     "output_type": "stream",
     "text": [
      "yppah\n"
     ]
    }
   ],
   "source": [
    "def reserve(s):\n",
    "    for i in range((len(s)-1),0,-1):\n",
    "        print(s[i],end='')\n",
    "    print(s[0])\n",
    "\n",
    "s='happy'\n",
    "reserve(s)"
   ]
  },
  {
   "cell_type": "markdown",
   "metadata": {
    "deletable": true,
    "editable": true
   },
   "source": [
    "\n",
    "练习二：写函数，根据给定符号和行数，打印相应直角三角形，等腰三角形及其他形式的三角形。"
   ]
  },
  {
   "cell_type": "code",
   "execution_count": 20,
   "metadata": {
    "collapsed": false,
    "deletable": true,
    "editable": true
   },
   "outputs": [
    {
     "name": "stdout",
     "output_type": "stream",
     "text": [
      "也\n",
      "也无\n",
      "也无风\n",
      "也无风雨\n",
      "也无风雨也\n",
      "也无风雨也无\n",
      "也无风雨也无情\n",
      "--------------------\n"
     ]
    }
   ],
   "source": [
    "def fuc1(s):\n",
    "    for i in range(1,len(s)+1):\n",
    "        for j in range(0,i):\n",
    "            print(s[j],end='')\n",
    "        print()\n",
    "\n",
    "s='也无风雨也无情'\n",
    "fuc1(s)\n",
    "print('-'*20)\n"
   ]
  },
  {
   "cell_type": "code",
   "execution_count": 25,
   "metadata": {
    "collapsed": false,
    "deletable": true,
    "editable": true
   },
   "outputs": [
    {
     "name": "stdout",
     "output_type": "stream",
     "text": [
      "             也\n",
      "            也也\n",
      "           也无也\n",
      "          也无无也\n",
      "         也无风无也\n",
      "        也无风风无也\n",
      "       也无风雨风无也\n",
      "      也无风雨雨风无也\n",
      "     也无风雨也雨风无也\n",
      "    也无风雨也也雨风无也\n",
      "   也无风雨也无也雨风无也\n",
      "  也无风雨也无无也雨风无也\n",
      " 也无风雨也无情无也雨风无也\n",
      "也无风雨也无情情无也雨风无也\n",
      "----------------------------------------\n"
     ]
    }
   ],
   "source": [
    "def fuc1(line):\n",
    "    print((len(line)*2-1)*' '+line[0])\n",
    "    for i in range(2,len(line)*2+1,1):\n",
    "        if (i%2)==0:\n",
    "            print((len(line)*2-i)*' '+line[0:(i//2)] +line[((i//2)-1):0:-1]+line[0])\n",
    "        else:\n",
    "            print((len(line)*2-i)*' '+line[0:((i+1)//2)] +line[((i+1)//2)-2:0:-1]+line[0])\n",
    "    \n",
    "\n",
    "line='也无风雨也无情'\n",
    "fuc1(line)\n",
    "print('-'*40)"
   ]
  },
  {
   "cell_type": "markdown",
   "metadata": {},
   "source": [
    "练习三：将任务4中的英语名词单数变复数的函数，尽可能的考虑多种情况，重新进行实现。"
   ]
  },
  {
   "cell_type": "code",
   "execution_count": 9,
   "metadata": {
    "collapsed": false,
    "deletable": true,
    "editable": true
   },
   "outputs": [
    {
     "name": "stdout",
     "output_type": "stream",
     "text": [
      "sport\n",
      "sports\n"
     ]
    }
   ],
   "source": [
    "def change(word):\n",
    "    if word.endswith(('s','sh','ch','x','o')):\n",
    "        print(word+'es')\n",
    "    elif word.endswith(('by','cy','dy','fy','gy','hy','jy','ky','ly','my','ny','py','qy','ry','sy','ty','vy','wy','xy','zy')):\n",
    "        print('把y改i再加es')\n",
    "    else:\n",
    "        print(word+'s')\n",
    "    \n",
    "a=str(input())\n",
    "change(a)"
   ]
  }
 ],
 "metadata": {
  "kernelspec": {
   "display_name": "Python 3",
   "language": "python",
   "name": "python3"
  },
  "language_info": {
   "codemirror_mode": {
    "name": "ipython",
    "version": 3
   },
   "file_extension": ".py",
   "mimetype": "text/x-python",
   "name": "python",
   "nbconvert_exporter": "python",
   "pygments_lexer": "ipython3",
   "version": "3.6.0"
  }
 },
 "nbformat": 4,
 "nbformat_minor": 2
}
