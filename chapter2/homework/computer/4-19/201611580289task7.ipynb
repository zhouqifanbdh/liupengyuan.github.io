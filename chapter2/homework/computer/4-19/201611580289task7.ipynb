{
 "cells": [
  {
   "cell_type": "code",
   "execution_count": 41,
   "metadata": {
    "collapsed": false
   },
   "outputs": [
    {
     "name": "stdout",
     "output_type": "stream",
     "text": [
      "北京语言大学\n",
      "北 京 语 言 大 学 学 大 言 语 京 北 "
     ]
    }
   ],
   "source": [
    "def reverse(s):\n",
    "    n=0\n",
    "    n=len(s)\n",
    "    for i in range(n):\n",
    "        print(s[i],end=' ')\n",
    "    for j in range(-1,-n-1,-1):\n",
    "        print(s[j],end=' ')\n",
    "line=input()\n",
    "reverse(line)"
   ]
  },
  {
   "cell_type": "code",
   "execution_count": 60,
   "metadata": {
    "collapsed": false
   },
   "outputs": [
    {
     "name": "stdout",
     "output_type": "stream",
     "text": [
      "8\n",
      "4\n",
      "\n",
      "\n",
      "8 \n",
      "8 8 \n",
      "8 8 8 \n",
      "8 8 8 8 \n"
     ]
    }
   ],
   "source": [
    "def right_triangle(s,a):\n",
    "    for i in range(a+2):\n",
    "        for j in range(1,i,1):\n",
    "            print(s,end=' ')\n",
    "        print()\n",
    "\n",
    "line=input()\n",
    "n=int(input())\n",
    "right_triangle(line,n)\n",
    "   "
   ]
  },
  {
   "cell_type": "code",
   "execution_count": 5,
   "metadata": {
    "collapsed": false
   },
   "outputs": [
    {
     "name": "stdout",
     "output_type": "stream",
     "text": [
      "*\n",
      "5\n",
      "        * \n",
      "      * * * \n",
      "    * * * * * \n",
      "  * * * * * * * \n",
      "* * * * * * * * * \n"
     ]
    }
   ],
   "source": [
    "def equal_triangle(t,b):\n",
    "        for i in range(1,b+1):\n",
    "            for j in range(b-i,0,-1):\n",
    "                print(\" \",end=\" \")\n",
    "            for k in range(1,i*2):\n",
    "                print(t,end=\" \")\n",
    "            print()    \n",
    "line=input()\n",
    "n=int(input())\n",
    "equal_triangle(line,n)"
   ]
  },
  {
   "cell_type": "code",
   "execution_count": 6,
   "metadata": {
    "collapsed": false
   },
   "outputs": [
    {
     "name": "stdout",
     "output_type": "stream",
     "text": [
      "apple\n"
     ]
    },
    {
     "data": {
      "text/plain": [
       "'apples'"
      ]
     },
     "execution_count": 6,
     "metadata": {},
     "output_type": "execute_result"
    }
   ],
   "source": [
    "def words(word):  \n",
    "    if word.endswith('y'):  \n",
    "        return word[:-1] + 'ies'  \n",
    "    elif word[-1] in 'sx' or word[-2:] in ['sh', 'ch']:  \n",
    "        return word + 'es'  \n",
    "    elif word.endswith('an'):  \n",
    "        return word[:-2] + 'en'  \n",
    "    else:  \n",
    "        return word + 's'\n",
    "w=input()\n",
    "words(w)"
   ]
  }
 ],
 "metadata": {
  "kernelspec": {
   "display_name": "Python 3",
   "language": "python",
   "name": "python3"
  },
  "language_info": {
   "codemirror_mode": {
    "name": "ipython",
    "version": 3
   },
   "file_extension": ".py",
   "mimetype": "text/x-python",
   "name": "python",
   "nbconvert_exporter": "python",
   "pygments_lexer": "ipython3",
   "version": "3.6.0"
  }
 },
 "nbformat": 4,
 "nbformat_minor": 2
}
