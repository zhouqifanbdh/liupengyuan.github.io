{
 "cells": [
  {
   "cell_type": "markdown",
   "metadata": {},
   "source": [
    "练习一：自己定义一个reverse(s)函数，功能返回字符串s的倒序字符串。"
   ]
  },
  {
   "cell_type": "code",
   "execution_count": 1,
   "metadata": {
    "collapsed": false
   },
   "outputs": [
    {
     "name": "stdout",
     "output_type": "stream",
     "text": [
      "请输入一个字符串，以回车结束：123faghd\n",
      "123faghd\n",
      "dhgaf321\n"
     ]
    }
   ],
   "source": [
    "def reverse(s):\n",
    "    print(s[0:len(s)])\n",
    "    print(s[len(s)-1:0:-1]+s[0])\n",
    "    \n",
    "s=input('请输入一个字符串，以回车结束：')\n",
    "reverse(s)"
   ]
  },
  {
   "cell_type": "markdown",
   "metadata": {},
   "source": [
    "练习二：写函数，根据给定符号和行数，打印相应直角三角形，等腰三角形及其他形式的三角形。"
   ]
  },
  {
   "cell_type": "code",
   "execution_count": 4,
   "metadata": {
    "collapsed": false
   },
   "outputs": [
    {
     "name": "stdout",
     "output_type": "stream",
     "text": [
      "请输入所需行数：6\n",
      ".\n",
      "..\n",
      "...\n",
      "....\n",
      ".....\n",
      "......\n",
      "----------分割线----------\n",
      "     .\n",
      "    ...\n",
      "   .....\n",
      "  .......\n",
      " .........\n",
      "...........\n",
      "----------分割线----------\n",
      ".\n",
      "..\n",
      "...\n",
      "....\n",
      ".....\n",
      "......\n"
     ]
    }
   ],
   "source": [
    "def printzj(fuhao,k):\n",
    "    for i in range(1,k+1):\n",
    "        print(fuhao*i)\n",
    "\n",
    "def printdy(fuhao,k):\n",
    "    for i in range(1,k+1):\n",
    "        if i==1:\n",
    "            print(' '*(k-1) + fuhao)\n",
    "        elif i%2==0:\n",
    "            print(' '*(k-i) + fuhao*(i-1)*2+fuhao)\n",
    "        else:\n",
    "            print(' '*(k-i)+fuhao*(i-1)*2+fuhao)\n",
    "        \n",
    "\n",
    "def printdyzj(fuhao,k):\n",
    "    for i in range(1,k+1):\n",
    "        print(fuhao*i)\n",
    "        \n",
    "k=int(input('请输入所需行数：'))            \n",
    "fuhao='.'\n",
    "printzj(fuhao,k)\n",
    "print('-'*10+'分割线'+'-'*10)\n",
    "printdy(fuhao,k)\n",
    "print('-'*10+'分割线'+'-'*10)\n",
    "printdyzj(fuhao,k)"
   ]
  },
  {
   "cell_type": "markdown",
   "metadata": {},
   "source": [
    "练习三：将任务4中的英语名词单数变复数的函数，尽可能的考虑多种情况，重新进行实现。"
   ]
  },
  {
   "cell_type": "code",
   "execution_count": 8,
   "metadata": {
    "collapsed": false
   },
   "outputs": [
    {
     "name": "stdout",
     "output_type": "stream",
     "text": [
      "请输入一个单词：boy\n",
      "boys\n"
     ]
    }
   ],
   "source": [
    "def n_change(a):\n",
    "    k=len(a) \n",
    "    if a[k-1:k] in ['o','s','x']:\n",
    "        print (a,'es',sep='')\n",
    "    elif a[k-2:k] in ['ch','sh']:\n",
    "        print(a,'es',sep='')\n",
    "    elif a[k-1:k]=='y' and a[k-2:k-1] in ['a','e','i','o','u']:\n",
    "        print(a,'s',sep='')\n",
    "    elif a[k-1:k]=='y':\n",
    "        print(a[:-1],'ies',sep='')\n",
    "    else:\n",
    "        print(a,'s',sep='')\n",
    "\n",
    "a=input('请输入一个单词：')\n",
    "n_change(a)   "
   ]
  },
  {
   "cell_type": "markdown",
   "metadata": {},
   "source": [
    "练习四：写函数，根据给定符号，上底、下底、高，打印各种梯形。"
   ]
  },
  {
   "cell_type": "code",
   "execution_count": null,
   "metadata": {
    "collapsed": true
   },
   "outputs": [],
   "source": []
  },
  {
   "cell_type": "markdown",
   "metadata": {},
   "source": [
    "练习五：写函数，根据给定符号，打印各种菱形。"
   ]
  },
  {
   "cell_type": "code",
   "execution_count": null,
   "metadata": {
    "collapsed": true
   },
   "outputs": [],
   "source": []
  },
  {
   "cell_type": "markdown",
   "metadata": {},
   "source": [
    "练习六：与本小节任务基本相同，但要求打印回文字符倒三角形。"
   ]
  },
  {
   "cell_type": "code",
   "execution_count": null,
   "metadata": {
    "collapsed": true
   },
   "outputs": [],
   "source": []
  }
 ],
 "metadata": {
  "kernelspec": {
   "display_name": "Python 3",
   "language": "python",
   "name": "python3"
  },
  "language_info": {
   "codemirror_mode": {
    "name": "ipython",
    "version": 3
   },
   "file_extension": ".py",
   "mimetype": "text/x-python",
   "name": "python",
   "nbconvert_exporter": "python",
   "pygments_lexer": "ipython3",
   "version": "3.6.0"
  }
 },
 "nbformat": 4,
 "nbformat_minor": 2
}
