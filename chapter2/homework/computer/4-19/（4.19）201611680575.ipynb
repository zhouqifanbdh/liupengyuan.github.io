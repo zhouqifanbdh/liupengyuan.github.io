{
 "cells": [
  {
   "cell_type": "markdown",
   "metadata": {},
   "source": [
    "练习一：实现reverse(s)函数，功能与s.reverse()相同"
   ]
  },
  {
   "cell_type": "code",
   "execution_count": 36,
   "metadata": {
    "collapsed": false
   },
   "outputs": [
    {
     "name": "stdout",
     "output_type": "stream",
     "text": [
      "[7, 6, 5, 4, 3, 2, 1]\n"
     ]
    }
   ],
   "source": [
    "def reverse(s):\n",
    "    temp=s[0]\n",
    "    s[::]=s[len(s)-1:0:-1]\n",
    "    s.append(temp)\n",
    "    return s\n",
    "\n",
    "\n",
    "words=[1,2,3,4,5,6,7]\n",
    "print(reverse(words))"
   ]
  },
  {
   "cell_type": "markdown",
   "metadata": {},
   "source": [
    "练习二：写函数，根据给定符号和行数，打印相应直角三角形，等腰三角形及其他形式的三角形。"
   ]
  },
  {
   "cell_type": "code",
   "execution_count": 22,
   "metadata": {
    "collapsed": false
   },
   "outputs": [
    {
     "name": "stdout",
     "output_type": "stream",
     "text": [
      "please enter the figure: 等腰\n",
      "please enter the number of the lines: 6\n",
      "   \n",
      "   *\n",
      "  **\n",
      "  ***\n",
      " ****\n",
      " *****\n"
     ]
    }
   ],
   "source": [
    "def print_triangle(p,q):\n",
    "    knot='*'*q\n",
    "    blank=' '*q\n",
    "    if p==\"直角\":\n",
    "        for i in range(q):\n",
    "            print(knot[0:i])\n",
    "    elif p==\"等腰\":\n",
    "        for i in range(q,0,-1):\n",
    "            print(blank[0:i//2]+knot[0:q-i])\n",
    "    else :\n",
    "        for i in range(q):\n",
    "            print('其他形式的三角形')\n",
    "            \n",
    "figure=input(\"please enter the figure: \")\n",
    "line=int(input(\"please enter the number of the lines: \"))\n",
    "print_triangle(figure,line+1)\n"
   ]
  },
  {
   "cell_type": "code",
   "execution_count": null,
   "metadata": {
    "collapsed": true
   },
   "outputs": [],
   "source": []
  },
  {
   "cell_type": "markdown",
   "metadata": {},
   "source": [
    "练习三：将任务4中的英语动词变复数的函数，完整实现。"
   ]
  },
  {
   "cell_type": "code",
   "execution_count": 37,
   "metadata": {
    "collapsed": false
   },
   "outputs": [
    {
     "ename": "SyntaxError",
     "evalue": "unexpected EOF while parsing (<ipython-input-37-3e8a5e064d01>, line 1)",
     "output_type": "error",
     "traceback": [
      "\u001b[0;36m  File \u001b[0;32m\"<ipython-input-37-3e8a5e064d01>\"\u001b[0;36m, line \u001b[0;32m1\u001b[0m\n\u001b[0;31m    def converse(s):\u001b[0m\n\u001b[0m                    ^\u001b[0m\n\u001b[0;31mSyntaxError\u001b[0m\u001b[0;31m:\u001b[0m unexpected EOF while parsing\n"
     ]
    }
   ],
   "source": [
    "def converse(s):\n",
    "    if "
   ]
  },
  {
   "cell_type": "code",
   "execution_count": null,
   "metadata": {
    "collapsed": true
   },
   "outputs": [],
   "source": []
  }
 ],
 "metadata": {
  "kernelspec": {
   "display_name": "Python 3",
   "language": "python",
   "name": "python3"
  }
 },
 "nbformat": 4,
 "nbformat_minor": 2
}
