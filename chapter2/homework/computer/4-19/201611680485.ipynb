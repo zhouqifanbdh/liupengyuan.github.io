{
 "cells": [
  {
   "cell_type": "code",
   "execution_count": 20,
   "metadata": {
    "collapsed": false
   },
   "outputs": [
    {
     "name": "stdout",
     "output_type": "stream",
     "text": [
      "123456\n",
      "654321"
     ]
    }
   ],
   "source": [
    "def reverse(s):\n",
    "    for i in range(len(s)-1, -1, -1):\n",
    "        print(s[i], end = '')\n",
    "\n",
    "line = '123456'\n",
    "print(line)\n",
    "reverse(line) "
   ]
  },
  {
   "cell_type": "code",
   "execution_count": 35,
   "metadata": {
    "collapsed": false
   },
   "outputs": [
    {
     "name": "stdout",
     "output_type": "stream",
     "text": [
      "*\n",
      "**\n",
      "***\n",
      "****\n",
      "*****\n",
      "\n",
      "      *\n",
      "     ***\n",
      "    *****\n",
      "   *******\n",
      "  *********\n",
      " ***********\n"
     ]
    }
   ],
   "source": [
    "def print_zhijiao_tri(line):\n",
    "    for i in range(1, line+1):\n",
    "        for j in range(0, i):\n",
    "            print('*', end = '')\n",
    "        print()\n",
    "        \n",
    "def print_dengyao_tri(line):\n",
    "    for i in range(1,line+1):\n",
    "        for k in range(0, line+1-i):\n",
    "            print(' ', end= '')\n",
    "        for j in range(1, i*2):\n",
    "            print('*', end = '')\n",
    "        print()\n",
    "        \n",
    "print_zhijiao_tri(5)\n",
    "print()\n",
    "print_dengyao_tri(6)\n",
    "print()"
   ]
  },
  {
   "cell_type": "code",
   "execution_count": 51,
   "metadata": {
    "collapsed": false
   },
   "outputs": [
    {
     "name": "stdout",
     "output_type": "stream",
     "text": [
      "请输入一个英语单词：leaf\n",
      "leaves\n"
     ]
    }
   ],
   "source": [
    "def difine(words):\n",
    "    if words.endswith('s') or words.endswith('ch') or words.endswith('sh'):\n",
    "        print(words + 'es')\n",
    "    elif words.endswith('y'):\n",
    "        print(words[:-1] + 'ies')\n",
    "    elif words.endswith('f'):\n",
    "        print(words[:-1] + 'ves')\n",
    "    else:\n",
    "        print(words + 's')\n",
    "        \n",
    "word = input('请输入一个英语单词：')\n",
    "difine(word)"
   ]
  }
 ],
 "metadata": {
  "kernelspec": {
   "display_name": "Python 3",
   "language": "python",
   "name": "python3"
  },
  "language_info": {
   "codemirror_mode": {
    "name": "ipython",
    "version": 3
   },
   "file_extension": ".py",
   "mimetype": "text/x-python",
   "name": "python",
   "nbconvert_exporter": "python",
   "pygments_lexer": "ipython3",
   "version": "3.6.0"
  }
 },
 "nbformat": 4,
 "nbformat_minor": 2
}
