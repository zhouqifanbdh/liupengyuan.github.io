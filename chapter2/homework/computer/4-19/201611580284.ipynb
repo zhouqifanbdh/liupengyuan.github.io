{
 "cells": [
  {
   "cell_type": "code",
   "execution_count": null,
   "metadata": {
    "collapsed": false
   },
   "outputs": [],
   "source": []
  },
  {
   "cell_type": "code",
   "execution_count": null,
   "metadata": {
    "collapsed": false
   },
   "outputs": [],
   "source": []
  },
  {
   "cell_type": "code",
   "execution_count": null,
   "metadata": {
    "collapsed": false
   },
   "outputs": [],
   "source": []
  },
  {
   "cell_type": "code",
   "execution_count": null,
   "metadata": {
    "collapsed": false
   },
   "outputs": [],
   "source": []
  },
  {
   "cell_type": "code",
   "execution_count": 11,
   "metadata": {
    "collapsed": false
   },
   "outputs": [
    {
     "name": "stdout",
     "output_type": "stream",
     "text": [
      "00000000\n",
      "00000000"
     ]
    }
   ],
   "source": [
    "print('0'*8+'\\n'+'0'*8, end='')//end=' '表示最后不换行"
   ]
  },
  {
   "cell_type": "code",
   "execution_count": 12,
   "metadata": {
    "collapsed": false
   },
   "outputs": [
    {
     "name": "stdout",
     "output_type": "stream",
     "text": [
      "00000000\n",
      "00000000\n"
     ]
    }
   ],
   "source": [
    "print('0'*8+'\\n'+'0'*8)"
   ]
  },
  {
   "cell_type": "code",
   "execution_count": 13,
   "metadata": {
    "collapsed": false
   },
   "outputs": [
    {
     "name": "stdout",
     "output_type": "stream",
     "text": [
      "乘2： Beijing language and culture university Beijing language and culture university \n",
      "相加：School of Information Studies of Beijing language and culture university \n",
      "乘3： Beijing language and culture university Beijing language and culture university Beijing language and culture university \n",
      "---------------分隔线---------------\n",
      "乘3： [1, 2, 3, 1, 2, 3, 1, 2, 3]\n",
      "相加： [1, 2, 3, 4, 5, 6]\n",
      "乘4： [1, 2, 3, 1, 2, 3, 1, 2, 3, 1, 2, 3]\n"
     ]
    }
   ],
   "source": [
    "line = 'Beijing language and culture university '\n",
    "print('乘2：', line*2)\n",
    "print('相加：''School of Information Studies of ' + line)\n",
    "new_line = line * 3\n",
    "print('乘3：', new_line)\n",
    "\n",
    "print('-'*15 + '分隔线' + '-' *15)\n",
    "\n",
    "numbers = [1,2,3]\n",
    "print('乘3：', numbers * 3)\n",
    "print('相加：', numbers + [4,5,6])\n",
    "new_numbers = numbers * 4\n",
    "print('乘4：', new_numbers)"
   ]
  },
  {
   "cell_type": "code",
   "execution_count": 37,
   "metadata": {
    "collapsed": false
   },
   "outputs": [
    {
     "name": "stdout",
     "output_type": "stream",
     "text": [
      "北京语言言语京北"
     ]
    }
   ],
   "source": [
    "line = '北京语言大学信息科学学院'\n",
    "x = 4\n",
    "sub_line = ''\n",
    "for i in range(x):\n",
    "    sub_line += line[i]\n",
    "print(sub_line, end='')\n",
    "\n",
    "for i in range(x-1, -1, -1):\n",
    "    print(sub_line[i], end='')"
   ]
  },
  {
   "cell_type": "code",
   "execution_count": 25,
   "metadata": {
    "collapsed": false
   },
   "outputs": [
    {
     "name": "stdout",
     "output_type": "stream",
     "text": [
      "北京语言言语京\n"
     ]
    }
   ],
   "source": [
    "line = '北京语言大学信息科学学院'\n",
    "x = 4\n",
    "print(line[0:x] + line[x-1:0:-1])"
   ]
  },
  {
   "cell_type": "code",
   "execution_count": 30,
   "metadata": {
    "collapsed": false
   },
   "outputs": [
    {
     "name": "stdout",
     "output_type": "stream",
     "text": [
      "语言大学\n",
      "语大信\n",
      "语\n",
      "科\n",
      "科信大语\n",
      "---------------分割线---------------\n",
      "北京语言大学\n",
      "北京语言大学\n",
      "信息科学学院\n",
      "信息科学学院\n",
      "北京语言大学信息科学学院\n",
      "北语大信科学\n",
      "---------------分割线---------------\n",
      "息科学\n",
      "北京语言言语京北\n",
      "息科学\n"
     ]
    }
   ],
   "source": [
    "line = '北京语言大学信息科学学院'\n",
    "\n",
    "print(line[2:6])\n",
    "print(line[2:8:2])\n",
    "print(line[2])\n",
    "print(line[8])\n",
    "print(line[8:1:-2])\n",
    "\n",
    "print('-'*15 + '分割线' + '-'*15)\n",
    "\n",
    "print(line[0:6])\n",
    "print(line[:6])\n",
    "print(line[6:12])\n",
    "print(line[6:])\n",
    "print(line[:])\n",
    "print(line[::2])\n",
    "\n",
    "print('-'*15 + '分割线' + '-'*15)\n",
    "\n",
    "print(line[-5:-2])\n",
    "print(line[0:4] + line[3:-1:-1])   \n",
    "print(line[-5:-2])"
   ]
  },
  {
   "cell_type": "code",
   "execution_count": 32,
   "metadata": {
    "collapsed": false
   },
   "outputs": [
    {
     "name": "stdout",
     "output_type": "stream",
     "text": [
      "语言大学\n",
      "语大信\n",
      "语\n",
      "科\n",
      "科信大语\n",
      "---------------分割线---------------\n",
      "北京语言大学\n",
      "北京语言大学\n",
      "信息科学学院\n",
      "信息科学学院\n",
      "北京语言大学信息科学学院\n",
      "北语大信科学\n",
      "---------------分割线---------------\n",
      "息科学\n",
      "北京语言言语京北\n",
      "息科学\n"
     ]
    }
   ],
   "source": [
    "line = '北京语言大学信息科学学院'\n",
    "\n",
    "print(line[2:6])\n",
    "print(line[2:8:2])\n",
    "print(line[2])\n",
    "print(line[8])\n",
    "print(line[8:1:-2])\n",
    "\n",
    "print('-'*15 + '分割线' + '-'*15)\n",
    "\n",
    "print(line[0:6])\n",
    "print(line[:6])\n",
    "print(line[6:12])\n",
    "print(line[6:])\n",
    "print(line[:])\n",
    "print(line[::2])\n",
    "\n",
    "print('-'*15 + '分割线' + '-'*15)\n",
    "\n",
    "print(line[-5:-2])\n",
    "print(line[0:4] + line[3::-1])   \n",
    "print(line[-5:-2])"
   ]
  },
  {
   "cell_type": "code",
   "execution_count": 33,
   "metadata": {
    "collapsed": false
   },
   "outputs": [
    {
     "name": "stdout",
     "output_type": "stream",
     "text": [
      "赏\n",
      "赏赏\n",
      "赏花赏\n",
      "赏花花赏\n",
      "赏花归花赏\n",
      "赏花归归花赏\n",
      "赏花归去归花赏\n",
      "赏花归去去归花赏\n",
      "赏花归去马去归花赏\n",
      "赏花归去马马去归花赏\n",
      "赏花归去马如马去归花赏\n",
      "赏花归去马如如马去归花赏\n",
      "赏花归去马如飞如马去归花赏\n"
     ]
    }
   ],
   "source": [
    "\n",
    "line = '赏花归去马如飞'\n",
    "\n",
    "for i in range(1, len(line)*2):\n",
    "    if i == 1:\n",
    "        print(line[0])\n",
    "    elif i%2 == 1:\n",
    "        print(line[:i//2] + line[i//2] + line[i//2-1::-1])\n",
    "    else:\n",
    "        print(line[:i//2] + line[i//2-1::-1])"
   ]
  },
  {
   "cell_type": "code",
   "execution_count": 34,
   "metadata": {
    "collapsed": false,
    "scrolled": true
   },
   "outputs": [
    {
     "name": "stdout",
     "output_type": "stream",
     "text": [
      "()\n",
      "()\n",
      "1\n",
      "(1,)\n",
      "(1,)\n",
      "(1, 2, 3, 4, 5)\n",
      "(1, 2, 3, 4, 5)\n"
     ]
    }
   ],
   "source": [
    "numbers = ()\n",
    "print(numbers)\n",
    "\n",
    "numbers = tuple()\n",
    "print(numbers)\n",
    "\n",
    "numbers = (1)\n",
    "print(numbers)\n",
    "\n",
    "numbers = (1,)\n",
    "print(numbers)\n",
    "\n",
    "numbers = 1,\n",
    "print(numbers)\n",
    "\n",
    "numbers = (1, 2, 3, 4, 5)\n",
    "print(numbers)\n",
    "\n",
    "numbers = 1, 2, 3, 4, 5\n",
    "print(numbers)"
   ]
  },
  {
   "cell_type": "code",
   "execution_count": 39,
   "metadata": {
    "collapsed": false
   },
   "outputs": [
    {
     "name": "stdout",
     "output_type": "stream",
     "text": [
      "1\n",
      "2\n",
      "3\n",
      "4\n",
      "5\n",
      "------------------------------\n",
      "1\n",
      "2\n",
      "3\n",
      "4\n",
      "5\n",
      "1\n",
      "2\n",
      "3\n",
      "4\n",
      "5\n",
      "------------------------------\n",
      "(1, 2, 3, 4, 5, 1, 2, 3, 4, 5, 1, 2, 3, 4, 5, 1, 2, 3, 4, 5)\n"
     ]
    }
   ],
   "source": [
    "\n",
    "numbers = 1, 2, 3, 4, 5\n",
    "for number in numbers:\n",
    "    print(number)\n",
    "\n",
    "print('-'*30)\n",
    "\n",
    "numbers *= 2\n",
    "for i in range(10):\n",
    "    print(numbers[i])\n",
    "\n",
    "print('-'*30)\n",
    "numbers = (1, 2, 3, 4, 5) * 4\n",
    "print(numbers)"
   ]
  },
  {
   "cell_type": "code",
   "execution_count": 40,
   "metadata": {
    "collapsed": false
   },
   "outputs": [
    {
     "name": "stdout",
     "output_type": "stream",
     "text": [
      "(1, 2, 3)\n",
      "('one', 'two', 'three')\n",
      "((1, 2, 3), (4, 5, 6))\n",
      "([1, 2, 3], [4, 5, 6])\n"
     ]
    }
   ],
   "source": [
    "def three_return_value():\n",
    "    return 1, 2, 3\n",
    "    \n",
    "print(three_return_value())\n",
    "\n",
    "def three_return_word():\n",
    "    return 'one', 'two', 'three'\n",
    "\n",
    "print(three_return_word())\n",
    "\n",
    "def two_return_tuple():\n",
    "    numbers1 = 1,2,3\n",
    "    numbers2 = 4,5,6\n",
    "    return numbers1, numbers2\n",
    "\n",
    "print(two_return_tuple())\n",
    "\n",
    "def two_return_list():\n",
    "    numbers1 = [1,2,3]\n",
    "    numbers2 = [4,5,6]\n",
    "    return numbers1, numbers2\n",
    "\n",
    "print(two_return_list())"
   ]
  },
  {
   "cell_type": "code",
   "execution_count": 43,
   "metadata": {
    "collapsed": false
   },
   "outputs": [
    {
     "name": "stdout",
     "output_type": "stream",
     "text": [
      "[10, 10]\n"
     ]
    }
   ],
   "source": [
    "\n",
    "numbers = []\n",
    "numbers.append(10)\n",
    "numbers.append(10)\n",
    "print(numbers)\n",
    "\n",
    "nums = []\n",
    "nums.append(10)"
   ]
  },
  {
   "cell_type": "code",
   "execution_count": 45,
   "metadata": {
    "collapsed": false
   },
   "outputs": [
    {
     "name": "stdout",
     "output_type": "stream",
     "text": [
      "[1, 2, 8, 4]\n"
     ]
    },
    {
     "ename": "TypeError",
     "evalue": "'str' object does not support item assignment",
     "output_type": "error",
     "traceback": [
      "\u001b[0;31m---------------------------------------------------------------------------\u001b[0m",
      "\u001b[0;31mTypeError\u001b[0m                                 Traceback (most recent call last)",
      "\u001b[0;32m<ipython-input-45-c5cc4a2fc182>\u001b[0m in \u001b[0;36m<module>\u001b[0;34m()\u001b[0m\n\u001b[1;32m      8\u001b[0m \u001b[1;33m\u001b[0m\u001b[0m\n\u001b[1;32m      9\u001b[0m \u001b[0mline\u001b[0m \u001b[1;33m=\u001b[0m \u001b[1;34m'abcde'\u001b[0m\u001b[1;33m\u001b[0m\u001b[0m\n\u001b[0;32m---> 10\u001b[0;31m \u001b[0mline\u001b[0m\u001b[1;33m[\u001b[0m\u001b[1;36m2\u001b[0m\u001b[1;33m]\u001b[0m \u001b[1;33m=\u001b[0m \u001b[1;34m'f'\u001b[0m         \u001b[1;31m#错误，不支持\u001b[0m\u001b[1;33m\u001b[0m\u001b[0m\n\u001b[0m",
      "\u001b[0;31mTypeError\u001b[0m: 'str' object does not support item assignment"
     ]
    }
   ],
   "source": [
    "\n",
    "numbers = [1,2,3,4]\n",
    "numbers[2] = 8\n",
    "print(numbers)\n",
    "\n",
    "nums =[1,2,3,4] \n",
    "nums[2] = 8         \n",
    "\n",
    "line = 'abcde'\n",
    "line[2] = 'f'      #元组，字符串不可变"
   ]
  },
  {
   "cell_type": "code",
   "execution_count": 46,
   "metadata": {
    "collapsed": false,
    "scrolled": true
   },
   "outputs": [
    {
     "name": "stdout",
     "output_type": "stream",
     "text": [
      "用str()初始化： True\n",
      "True\n",
      "False\n",
      "a\n",
      "b\n",
      "c\n",
      "d\n",
      "e\n",
      "f\n",
      "g\n",
      "h\n",
      "i\n",
      "j\n",
      "k\n",
      "l\n",
      "m\n",
      "n\n",
      "--------------分隔线----------------\n",
      "0 a\n",
      "1 b\n",
      "2 c\n",
      "3 d\n",
      "4 e\n",
      "5 f\n",
      "6 g\n",
      "7 h\n",
      "8 i\n",
      "9 j\n"
     ]
    }
   ],
   "source": [
    "\n",
    "line = str()\n",
    "print('用str()初始化：', line == '')\n",
    "\n",
    "line = 'abcdefghijklmn'\n",
    "print('a' in line)\n",
    "print('a' not in line)\n",
    "\n",
    "for ch in line:\n",
    "    print(ch)\n",
    "    \n",
    "print('--------------分隔线----------------')\n",
    "for i in range(10):\n",
    "    print(i, line[i])"
   ]
  },
  {
   "cell_type": "code",
   "execution_count": 49,
   "metadata": {
    "collapsed": false
   },
   "outputs": [
    {
     "name": "stdout",
     "output_type": "stream",
     "text": [
      "             赏\n",
      "            赏赏\n",
      "           赏花赏\n",
      "          赏花花赏\n",
      "         赏花归花赏\n",
      "        赏花归归花赏\n",
      "       赏花归去归花赏\n",
      "      赏花归去去归花赏\n",
      "     赏花归去马去归花赏\n",
      "    赏花归去马马去归花赏\n",
      "   赏花归去马如马去归花赏\n",
      "  赏花归去马如如马去归花赏\n",
      " 赏花归去马如飞如马去归花赏\n"
     ]
    }
   ],
   "source": [
    "#coding: utf-8\n",
    "# 示例代码 30\n",
    "\n",
    "def plalindrome(line):\n",
    "    for i in range(1, len(line)*2):\n",
    "        if i == 1:\n",
    "            print(' '*(len(line)*2-1) +line[0])\n",
    "        elif i%2 == 1:\n",
    "            print(' '*(len(line)*2-i) + line[:i//2] + line[i//2] + line[i//2-1::-1])\n",
    "        else:\n",
    "            print(' '*(len(line)*2-i) + line[:i//2] + line[i//2-1::-1])\n",
    "\n",
    "def main():\n",
    "    text = '赏花归去马如飞'\n",
    "    plalindrome(text)\n",
    "    \n",
    "\n",
    "if __name__ == '__main__':\n",
    "    main()"
   ]
  },
  {
   "cell_type": "code",
   "execution_count": 64,
   "metadata": {
    "collapsed": false
   },
   "outputs": [
    {
     "name": "stdout",
     "output_type": "stream",
     "text": [
      "请输入一个字符串：123\n",
      "3\n",
      "321"
     ]
    }
   ],
   "source": [
    "\n",
    "def reverse(s):\n",
    "    print(len(s))\n",
    "    for i in range(len(s)-1,-1,-1):\n",
    "        print(s[i],end='')\n",
    "\n",
    "s=input('请输入一个字符串：')\n",
    "reverse(s)"
   ]
  },
  {
   "cell_type": "code",
   "execution_count": 69,
   "metadata": {
    "collapsed": false,
    "scrolled": true
   },
   "outputs": [
    {
     "name": "stdout",
     "output_type": "stream",
     "text": [
      "1.zhijiao.2.dengyao2\n",
      "hangshu6\n",
      "fuhao*\n",
      "      \n",
      "     *\n",
      "    ***\n",
      "   *****\n",
      "  *******\n",
      " *********\n"
     ]
    }
   ],
   "source": [
    "def tri(ch,row,cho):\n",
    "    if(cho==1):\n",
    "        for i in range(row+1):\n",
    "            print(ch*i)\n",
    "    if(cho==2):\n",
    "        for i in range(row):\n",
    "            print(' '*(row-i)+ch*(i*2-1))\n",
    "\n",
    "cho=int(input('1.zhijiao.2.dengyao'))\n",
    "row=int(input('hangshu'))\n",
    "ch=input('fuhao')\n",
    "tri(ch,row,cho)"
   ]
  },
  {
   "cell_type": "code",
   "execution_count": null,
   "metadata": {
    "collapsed": false
   },
   "outputs": [],
   "source": []
  },
  {
   "cell_type": "code",
   "execution_count": 9,
   "metadata": {
    "collapsed": false
   },
   "outputs": [
    {
     "name": "stdout",
     "output_type": "stream",
     "text": [
      "pls x \n",
      "坐标:x1\n",
      "y1\n",
      "\n",
      "        1    2     3\n",
      "\n",
      "    1  x |  n |  n\n",
      "      ----------------\n",
      "    2  n |  n |  n\n",
      "      ----------------    \n",
      "    3  n |  n |  n\n",
      "\n",
      "    \n",
      "pls o \n",
      "坐标:x2\n",
      "y2\n",
      "\n",
      "        1    2     3\n",
      "\n",
      "    1  x |  n |  n\n",
      "      ----------------\n",
      "    2  n |  o |  n\n",
      "      ----------------    \n",
      "    3  n |  n |  n\n",
      "\n",
      "    \n",
      "pls x \n",
      "坐标:x3\n",
      "y3\n",
      "\n",
      "        1    2     3\n",
      "\n",
      "    1  x |  n |  n\n",
      "      ----------------\n",
      "    2  n |  o |  n\n",
      "      ----------------    \n",
      "    3  n |  n |  x\n",
      "\n",
      "    \n",
      "pls o \n",
      "坐标:x2\n",
      "y1\n",
      "\n",
      "        1    2     3\n",
      "\n",
      "    1  x |  n |  n\n",
      "      ----------------\n",
      "    2  o |  o |  n\n",
      "      ----------------    \n",
      "    3  n |  n |  x\n",
      "\n",
      "    \n",
      "pls x \n",
      "坐标:x2\n",
      "y3\n",
      "\n",
      "        1    2     3\n",
      "\n",
      "    1  x |  n |  n\n",
      "      ----------------\n",
      "    2  o |  o |  x\n",
      "      ----------------    \n",
      "    3  n |  n |  x\n",
      "\n",
      "    \n",
      "pls o \n",
      "坐标:x2\n",
      "y2\n",
      "\n",
      "        1    2     3\n",
      "\n",
      "    1  x |  n |  n\n",
      "      ----------------\n",
      "    2  o |  o |  x\n",
      "      ----------------    \n",
      "    3  n |  n |  x\n",
      "\n",
      "    \n",
      "pls x \n",
      "坐标:x2\n",
      "y2\n",
      "x  win\n"
     ]
    }
   ],
   "source": [
    "#棋盘\n",
    "def pan(q):\n",
    "    flag=0\n",
    "    for i in range(3):\n",
    "        if((q[i+1][1]==q[i+1][2]==q[i+1][3]) and q[i+1][3]!='n'):\n",
    "            flag=1\n",
    "            char=q[i+1][1]\n",
    "        if((q[1][1]==q[2][2]==q[3][3]) and q[1][1]!='n'):\n",
    "            flag=1\n",
    "            char=q[1][1]\n",
    "        if((q[1][i+1]==q[2][i+1]==q[3][i+1]) and q[1][i+1]!='n'):\n",
    "            flag=1\n",
    "            char=q[1][i+1]\n",
    "    if(flag):\n",
    "        return char\n",
    "    else :\n",
    "        return 0\n",
    "\n",
    "q=[['0','0','0','0'],['0','0','0','0'],['0','0','0','0'],['0','0','0','0']]\n",
    "for i in range(4):\n",
    "    q[i][1]='n'\n",
    "    q[i][2]='n'\n",
    "    q[i][3]='n'\n",
    "def show(q):\n",
    "    print('''\n",
    "        1    2     3\n",
    "\n",
    "    1  %c |  %c |  %c\n",
    "      ----------------\n",
    "    2  %c |  %c |  %c\n",
    "      ----------------    \n",
    "    3  %c |  %c |  %c\n",
    "\n",
    "    '''%(q[1][1],q[1][2],q[1][3],q[2][1],q[2][2],q[2][3],q[3][1],q[3][2],q[3][3]))\n",
    "    \n",
    "\n",
    "while(1) :\n",
    "    print('pls x ')\n",
    "    a=int(input('坐标:x'))\n",
    "    b=int(input(\"y\"))\n",
    "    q[a][b]='x'\n",
    "    if(pan(q)):\n",
    "        char=pan(q)\n",
    "        break\n",
    "    show(q)\n",
    "    print('pls o ')\n",
    "    c=int(input('坐标:x'))\n",
    "    d=int(input('y'))\n",
    "    q[c][d]='o'\n",
    "    if(pan(q)):\n",
    "        char=pan(q)\n",
    "        break\n",
    "    show(q)\n",
    "print(char,' win')"
   ]
  },
  {
   "cell_type": "code",
   "execution_count": null,
   "metadata": {
    "collapsed": true
   },
   "outputs": [],
   "source": []
  }
 ],
 "metadata": {
  "kernelspec": {
   "display_name": "Python 3",
   "language": "python",
   "name": "python3"
  },
  "language_info": {
   "codemirror_mode": {
    "name": "ipython",
    "version": 3
   },
   "file_extension": ".py",
   "mimetype": "text/x-python",
   "name": "python",
   "nbconvert_exporter": "python",
   "pygments_lexer": "ipython3",
   "version": "3.6.0"
  }
 },
 "nbformat": 4,
 "nbformat_minor": 2
}
