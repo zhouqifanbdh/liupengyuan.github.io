{
 "cells": [
  {
   "cell_type": "code",
   "execution_count": null,
   "metadata": {
    "collapsed": true
   },
   "outputs": [],
   "source": [
    "#自己定义一个reverse(s)函数，功能返回字符串s的倒序字符串。\n",
    "def reverse(s):\n",
    "    for i in range(1,len(s)):\n",
    "        print(s[len(s)-i],end='')        \n",
    "s=input('请输入一个字符串')  \n",
    "reverse(s)"
   ]
  },
  {
   "cell_type": "code",
   "execution_count": null,
   "metadata": {
    "collapsed": true
   },
   "outputs": [],
   "source": [
    "#写函数，根据给定符号和行数，打印相应直角三角形，等腰三角形及其他形式的三角形\n",
    "def R_at(s):\n",
    "    for i in range(1, len(s)*2+1):\n",
    "        for j in range(1,i):\n",
    "            print(s[0], end='')\n",
    "        print()\n",
    "        \n",
    "def I_t(s):\n",
    "    for m in range(1, len(s)*2+1):\n",
    "        print((len(s)*2-m)*' ' + s[0]*m, end='')\n",
    "        print()        \n",
    "s=input('请输入一个字符串')\n",
    "R_at(s)\n",
    "I_t(s)"
   ]
  },
  {
   "cell_type": "code",
   "execution_count": null,
   "metadata": {
    "collapsed": true
   },
   "outputs": [],
   "source": [
    "def my_word(a):\n",
    "    if a.endswith('s')or a.endswith('ch') or a.endswith('sh') or a.endswith('x') or a.endswith('o'):\n",
    "        print(a,'es',sep='')\n",
    "    else:\n",
    "        print(a,'s',sep='')\n",
    "\n",
    "a=input('请输入一个英文名词（单数形式）')\n",
    "my_word(a)"
   ]
  }
 ],
 "metadata": {
  "kernelspec": {
   "display_name": "Python 3",
   "language": "python",
   "name": "python3"
  },
  "language_info": {
   "codemirror_mode": {
    "name": "ipython",
    "version": 3
   },
   "file_extension": ".py",
   "mimetype": "text/x-python",
   "name": "python",
   "nbconvert_exporter": "python",
   "pygments_lexer": "ipython3",
   "version": "3.6.0"
  }
 },
 "nbformat": 4,
 "nbformat_minor": 2
}
