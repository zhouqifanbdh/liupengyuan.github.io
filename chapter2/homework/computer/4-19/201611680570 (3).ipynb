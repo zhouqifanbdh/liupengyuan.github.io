{
 "cells": [
  {
   "cell_type": "code",
   "execution_count": null,
   "metadata": {
    "collapsed": false
   },
   "outputs": [],
   "source": [
    "\n",
    "def reverse(s):\n",
    "    i=len(s)-1\n",
    "    str1=[]\n",
    "    while i>=0:\n",
    "        str1.append(s[i])\n",
    "        i=i-1\n",
    "    print(str1)\n",
    "reverse('fgcdfxs')"
   ]
  },
  {
   "cell_type": "code",
   "execution_count": 43,
   "metadata": {
    "collapsed": false
   },
   "outputs": [
    {
     "name": "stdout",
     "output_type": "stream",
     "text": [
      "\n",
      "6\n",
      "66\n",
      "666\n",
      "6666\n",
      "66666\n",
      "666666\n",
      "       \n",
      "      九\n",
      "     九九\n",
      "    九九九\n",
      "   九九九九\n",
      "  九九九九九\n",
      " 九九九九九九\n"
     ]
    }
   ],
   "source": [
    "\n",
    "\n",
    "line = '666666'\n",
    "for i in range(1, 8):\n",
    "    for j in range(1,i):\n",
    "        print(line[0], end='')\n",
    "    print()\n",
    "line = '九'*5\n",
    "for i in range(1,8):\n",
    "    for k in range(8-i,0,-1):\n",
    "        print(' ', end='')\n",
    "    for j in range(1,i):\n",
    "        print(line[0], end='')\n",
    "    print()\n"
   ]
  },
  {
   "cell_type": "code",
   "execution_count": 37,
   "metadata": {
    "collapsed": false
   },
   "outputs": [
    {
     "name": "stdout",
     "output_type": "stream",
     "text": [
      "['f', 'g', 'g', 'h', 's', 'e', 's']\n"
     ]
    }
   ],
   "source": [
    "def change(s):\n",
    "    i=len(s)-1\n",
    "    if  s[i]=='h' and s[i-1]=='c':\n",
    "        s.append('e')\n",
    "        s.append('s')\n",
    "    elif s[i]=='h' and s[i-1]=='s':       \n",
    "        s.append('e')\n",
    "        s.append('s')\n",
    "    elif s[i]=='s' or s[i]=='x':\n",
    "        \n",
    "        s.append('e')\n",
    "        s.append('s')\n",
    "        \n",
    "    elif s[i]=='f':\n",
    "        s.append('v')\n",
    "        s.append('e')\n",
    "        s.append('s')\n",
    "\n",
    "\n",
    "\n",
    "    else:\n",
    "        s.append('s')\n",
    "    print(s)\n",
    "line=['f','g','g','h','s']\n",
    "change(line)"
   ]
  },
  {
   "cell_type": "code",
   "execution_count": 58,
   "metadata": {
    "collapsed": false
   },
   "outputs": [
    {
     "name": "stdout",
     "output_type": "stream",
     "text": [
      "666\n",
      "6666\n",
      "66666\n",
      "666666\n",
      "6666666\n",
      "66666666\n",
      "666666666\n",
      "           6666\n",
      "           66666\n",
      "           666666\n",
      "           6666666\n",
      "           66666666\n",
      "           666666666\n"
     ]
    }
   ],
   "source": [
    "line = '666666'\n",
    "def tixing(line):\n",
    "    for i in range(4,11):\n",
    "        for j in range(1,i):\n",
    "            print(line[0], end='')\n",
    "        print()\n",
    "line2 = '九'*5\n",
    "def tixing2(line2):\n",
    "    for i in range(5,11):\n",
    "        for k in range(11,0,-1):\n",
    "            print(' ', end='')\n",
    "        for j in range(1,i):\n",
    "            print(line[0], end='')\n",
    "        print()\n",
    "tixing(line)\n",
    "tixing2(line2)\n",
    "\n"
   ]
  },
  {
   "cell_type": "code",
   "execution_count": 65,
   "metadata": {
    "collapsed": false
   },
   "outputs": [
    {
     "name": "stdout",
     "output_type": "stream",
     "text": [
      "年年岁岁花相似似相花岁岁年年\n",
      " 年年岁岁花相似相花岁岁年年\n",
      "  年年岁岁花相相花岁岁年年\n",
      "   年年岁岁花相花岁岁年年\n",
      "    年年岁岁花花岁岁年年\n",
      "     年年岁岁花岁岁年年\n",
      "      年年岁岁岁岁年年\n",
      "       年年岁岁岁年年\n",
      "        年年岁岁年年\n",
      "         年年岁年年\n",
      "          年年年年\n",
      "           年年年\n",
      "            年年\n",
      "             年\n"
     ]
    }
   ],
   "source": [
    "\n",
    "\n",
    "def daosanjiao(line):\n",
    "    for i in range(len(line)*2,0,-1):\n",
    "        if i == 1:\n",
    "            print(' '*(len(line)*2-1) +line[0])\n",
    "        elif i%2 == 1:\n",
    "            print(' '*(len(line)*2-i) + line[:i//2] + line[i//2] + line[i//2-1::-1])\n",
    "        else:\n",
    "            print(' '*(len(line)*2-i) + line[:i//2] + line[i//2-1::-1])\n",
    "\n",
    "def main():\n",
    "    str1 = '年年岁岁花相似'\n",
    "    daosanjiao(str1)\n",
    "    \n",
    "\n",
    "if __name__ == '__main__':\n",
    "    main()"
   ]
  },
  {
   "cell_type": "code",
   "execution_count": null,
   "metadata": {
    "collapsed": true
   },
   "outputs": [],
   "source": []
  }
 ],
 "metadata": {
  "kernelspec": {
   "display_name": "Python 3",
   "language": "python",
   "name": "python3"
  },
  "language_info": {
   "codemirror_mode": {
    "name": "ipython",
    "version": 3
   },
   "file_extension": ".py",
   "mimetype": "text/x-python",
   "name": "python",
   "nbconvert_exporter": "python",
   "pygments_lexer": "ipython3",
   "version": "3.6.0"
  }
 },
 "nbformat": 4,
 "nbformat_minor": 2
}
