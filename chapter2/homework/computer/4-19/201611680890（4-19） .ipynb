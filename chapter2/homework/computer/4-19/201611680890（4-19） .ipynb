{
 "cells": [
  {
   "cell_type": "code",
   "execution_count": 2,
   "metadata": {
    "collapsed": false,
    "deletable": true,
    "editable": true
   },
   "outputs": [
    {
     "name": "stdout",
     "output_type": "stream",
     "text": [
      "enter you string: hello world\n",
      "dlrow olleh\n"
     ]
    }
   ],
   "source": [
    "#练习一：自己定义一个reverse(s)函数，功能返回字符串s的倒序字符串。\n",
    "\n",
    "def reverse(s):\n",
    "    print(s[len(s)-1::-1])\n",
    "   \n",
    "s = str(input('enter you string: '))\n",
    "reverse(s)\n"
   ]
  },
  {
   "cell_type": "code",
   "execution_count": 7,
   "metadata": {
    "collapsed": false,
    "deletable": true,
    "editable": true,
    "scrolled": true
   },
   "outputs": [
    {
     "name": "stdout",
     "output_type": "stream",
     "text": [
      "\n",
      "    ------------------------\n",
      "   | 1    -----> 直角三角形 |\n",
      "   | 2    -----> 等腰三角形 |\n",
      "   | 随便 -----> 没有三角形 |\n",
      "    ------------------------\n",
      "    \n",
      "enter the triangle type: 1\n",
      "enter your symbol: 5\n",
      "enter your hight: 5\n",
      "\n",
      "5\n",
      "55\n",
      "555\n",
      "5555\n",
      "55555\n",
      "\n",
      "    ------------------------\n",
      "   | 1    -----> 直角三角形 |\n",
      "   | 2    -----> 等腰三角形 |\n",
      "   | 随便 -----> 没有三角形 |\n",
      "    ------------------------\n",
      "    \n",
      "enter the triangle type: 2\n",
      "enter your symbol: 5\n",
      "enter your hight: 5\n",
      "    \n",
      "\n",
      "   5\n",
      "\n",
      "  555\n",
      "\n",
      " 55555\n",
      "\n",
      "5555555\n",
      "\n",
      "555555555\n",
      "\n",
      "\n",
      "    ------------------------\n",
      "   | 1    -----> 直角三角形 |\n",
      "   | 2    -----> 等腰三角形 |\n",
      "   | 随便 -----> 没有三角形 |\n",
      "    ------------------------\n",
      "    \n",
      "enter the triangle type: 3\n"
     ]
    }
   ],
   "source": [
    "#练习二：写函数，根据给定符号和行数，打印相应直角三角形，等腰三角形及其他形式的三角形。\n",
    "\n",
    "def intro():\n",
    "    print('''\n",
    "    ------------------------\n",
    "   | 1    -----> 直角三角形 |\n",
    "   | 2    -----> 等腰三角形 |\n",
    "   | 随便 -----> 没有三角形 |\n",
    "    ------------------------\n",
    "    ''')\n",
    "\n",
    "def tri1():\n",
    "    sym = (input('enter your symbol: '))\n",
    "    h = int(input('enter your hight: '))\n",
    "    for i in range(0, h+1):\n",
    "        for j in range(0, i):\n",
    "            print(sym, end = '')\n",
    "        print()\n",
    "\n",
    "def tri2():\n",
    "    sym = (input('enter your symbol: '))\n",
    "    h = int(input('enter your hight: '))\n",
    "    \n",
    "    for i in range(0, h+1):\n",
    "        print(' '*(h-i-1) + sym*(2*i-1))\n",
    "        print()\n",
    "        \n",
    "while True:\n",
    "    intro()\n",
    "    type = int(input('enter the triangle type: '))\n",
    "    if type == 1:\n",
    "        tri1()\n",
    "    elif type == 2:\n",
    "        tri2()\n",
    "    else:\n",
    "        break\n",
    "    "
   ]
  },
  {
   "cell_type": "code",
   "execution_count": 11,
   "metadata": {
    "collapsed": false,
    "deletable": true,
    "editable": true
   },
   "outputs": [
    {
     "name": "stdout",
     "output_type": "stream",
     "text": [
      "请输入英文单词wish\n",
      "词尾加es\n"
     ]
    }
   ],
   "source": [
    "#练习三：将任务4中的英语名词单数变复数的函数，尽可能的考虑多种情况，重新进行实现。\n",
    "\n",
    "def change(word):\n",
    "    if word.endswith('s') | word.endswith('x') | word.endswith('sh') | word.endswith('ch'):\n",
    "        print('词尾加es')\n",
    "    elif word.endwith('f') | word.endswith('fe'):\n",
    "        print('将f变为v，加s')\n",
    "    elif word.endwith('y'):\n",
    "        print('去掉y加ies')    \n",
    "    else:\n",
    "        print('直接加s')\n",
    "\n",
    "word = input('请输入英文单词')\n",
    "change(word)"
   ]
  },
  {
   "cell_type": "code",
   "execution_count": 23,
   "metadata": {
    "collapsed": false,
    "deletable": true,
    "editable": true
   },
   "outputs": [
    {
     "name": "stdout",
     "output_type": "stream",
     "text": [
      "enter your symbol: *\n",
      "enter your hight: 4\n",
      "enter your shangdi: 2\n",
      "enter your xiadi: 5\n",
      "**\n",
      "***\n",
      "****\n",
      "*****\n"
     ]
    }
   ],
   "source": [
    "#练习四：写函数，根据给定符号，上底、下底、高，打印各种梯形。\n",
    "\n",
    "sym = (input('enter your symbol: '))\n",
    "h = int(input('enter your hight: '))\n",
    "s1 = int(input('enter your shangdi: '))\n",
    "s2 = int(input('enter your xiadi: '))\n",
    "\n",
    "for i in range(0, h):\n",
    "    print(sym * (s1+i))"
   ]
  },
  {
   "cell_type": "code",
   "execution_count": 37,
   "metadata": {
    "collapsed": false,
    "deletable": true,
    "editable": true
   },
   "outputs": [
    {
     "name": "stdout",
     "output_type": "stream",
     "text": [
      "enter the size(only odd numbers are allowed): 9\n",
      "    *\n",
      "   ***\n",
      "  *****\n",
      " *******\n",
      "*********\n",
      " *******\n",
      "  *****\n",
      "   ***\n",
      "    *\n"
     ]
    }
   ],
   "source": [
    "#练习五：写函数，根据给定符号，打印各种菱形。\n",
    "\n",
    "n = int(input('enter the size(only odd numbers are allowed): '))\n",
    "for i in range(0,n//2+1):\n",
    "    print((n//2-i)*' ' + ((i*2)+1)*'*')\n",
    "\n",
    "for i in range(0,n-n//2-1):\n",
    "    print((i+1)*' ' + (n-2*i-2)*sym)"
   ]
  },
  {
   "cell_type": "code",
   "execution_count": 28,
   "metadata": {
    "collapsed": false,
    "deletable": true,
    "editable": true
   },
   "outputs": [
    {
     "name": "stdout",
     "output_type": "stream",
     "text": [
      "赏花归去马如飞飞如马去归花赏\n",
      " 赏花归去马如飞如马去归花赏\n",
      "  赏花归去马如如马去归花赏\n",
      "   赏花归去马如马去归花赏\n",
      "    赏花归去马马去归花赏\n",
      "     赏花归去马去归花赏\n",
      "      赏花归去去归花赏\n",
      "       赏花归去归花赏\n",
      "        赏花归归花赏\n",
      "         赏花归花赏\n",
      "          赏花花赏\n",
      "           赏花赏\n",
      "            赏赏\n",
      "             赏\n"
     ]
    }
   ],
   "source": [
    "#练习六：与本小节任务基本相同，但要求打印回文字符倒三角形。\n",
    "\n",
    "def oppo(line):\n",
    "    for i in range(len(line)*2,0,-1):\n",
    "        if i == 1:\n",
    "            print(' '*(len(line)*2-1) + line[0])\n",
    "        elif i%2 == 1:\n",
    "            print(' '*(len(line)*2-i) + line[:i//2] + line[i//2] + line[i//2-1::-1])\n",
    "        else:\n",
    "            print(' '*(len(line)*2-i) + line[:i//2] + line[i//2-1::-1])\n",
    "\n",
    "def main():\n",
    "    string = '赏花归去马如飞'\n",
    "    oppo(string)\n",
    "    \n",
    "if __name__ == '__main__':\n",
    "    main()\n"
   ]
  }
 ],
 "metadata": {
  "kernelspec": {
   "display_name": "Python 3",
   "language": "python",
   "name": "python3"
  },
  "language_info": {
   "codemirror_mode": {
    "name": "ipython",
    "version": 3
   },
   "file_extension": ".py",
   "mimetype": "text/x-python",
   "name": "python",
   "nbconvert_exporter": "python",
   "pygments_lexer": "ipython3",
   "version": "3.6.0"
  }
 },
 "nbformat": 4,
 "nbformat_minor": 2
}
