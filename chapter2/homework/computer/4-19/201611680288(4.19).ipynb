{
 "cells": [
  {
   "cell_type": "code",
   "execution_count": 1,
   "metadata": {
    "collapsed": false
   },
   "outputs": [
    {
     "name": "stdout",
     "output_type": "stream",
     "text": [
      "请输入一个字符串,以回车结束.北京\n",
      "北京京北\n"
     ]
    }
   ],
   "source": [
    "#自己定义一个reverse(s)函数，功能返回字符串s的倒序字符串。\n",
    "\n",
    "def reverse(s):\n",
    "    x=len(s)\n",
    "    print(s[0:x] + s[x-1:0:-1] + s[0])\n",
    "    \n",
    "s= input('请输入一个字符串,以回车结束.') \n",
    "reverse(s)"
   ]
  },
  {
   "cell_type": "code",
   "execution_count": 2,
   "metadata": {
    "collapsed": false
   },
   "outputs": [
    {
     "name": "stdout",
     "output_type": "stream",
     "text": [
      "\n",
      "马\n",
      "马马\n",
      "马马马\n",
      "马马马马\n",
      "马马马马马\n",
      "马马马马马马\n",
      "马马马马马马马\n",
      "马马马马马马马马\n",
      "马马马马马马马马马\n",
      "         马\n",
      "        马马\n",
      "       马马马\n",
      "      马马马马\n",
      "     马马马马马\n",
      "    马马马马马马\n",
      "   马马马马马马马\n",
      "  马马马马马马马马\n",
      " 马马马马马马马马马\n",
      "马马马马马马马马马马\n"
     ]
    }
   ],
   "source": [
    "#写函数，根据给定符号和行数，打印相应直角三角形，等腰三角形及其他形式的三角形\n",
    "s='马'*5\n",
    "def R_at(s):\n",
    "    for i in range(1, len(s)*2+1):\n",
    "        for j in range(1,i):\n",
    "            print(s[0], end='')\n",
    "        print()\n",
    "        \n",
    "def I_t(s):\n",
    "    for m in range(1, len(s)*2+1):\n",
    "        print((len(s)*2-m)*' ' + s[0]*m, end='')\n",
    "        print()        \n",
    "R_at(s)\n",
    "I_t(s)"
   ]
  },
  {
   "cell_type": "code",
   "execution_count": null,
   "metadata": {
    "collapsed": false
   },
   "outputs": [],
   "source": [
    "#将任务4中的英语名词单数变复数的函数，尽可能的考虑多种情况，重新进行实现\n",
    "def n_change(a):\n",
    "    if a.endwith('y'):\n",
    "        print(a[:-1],'ies',ep='')\n",
    "    elif a[:-1]in 'sx' or a[:-2]in ['sh','ch']:\n",
    "        print (a,'es',sep='')\n",
    "    elif a.endwith('an'):\n",
    "        print (a[:-2],'en',sep='')\n",
    "    else:\n",
    "        print  (a,'s',sep='')\n",
    "\n",
    "a=input('请输入一个可数英文单词的单数形式，以回车结束')\n",
    "n_change(a)"
   ]
  },
  {
   "cell_type": "code",
   "execution_count": null,
   "metadata": {
    "collapsed": false
   },
   "outputs": [],
   "source": [
    "\n"
   ]
  }
 ],
 "metadata": {
  "kernelspec": {
   "display_name": "Python 3",
   "language": "python",
   "name": "python3"
  },
  "language_info": {
   "codemirror_mode": {
    "name": "ipython",
    "version": 3
   },
   "file_extension": ".py",
   "mimetype": "text/x-python",
   "name": "python",
   "nbconvert_exporter": "python",
   "pygments_lexer": "ipython3",
   "version": "3.6.0"
  }
 },
 "nbformat": 4,
 "nbformat_minor": 2
}
