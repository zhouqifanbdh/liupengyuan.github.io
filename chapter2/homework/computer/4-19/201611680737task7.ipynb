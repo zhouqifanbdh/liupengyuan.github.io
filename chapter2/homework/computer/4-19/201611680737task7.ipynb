{
 "cells": [
  {
   "cell_type": "markdown",
   "metadata": {},
   "source": [
    "自己定义一个reverse(s)函数，功能返回字符串s的倒序字符串。"
   ]
  },
  {
   "cell_type": "code",
   "execution_count": 2,
   "metadata": {
    "collapsed": false
   },
   "outputs": [
    {
     "name": "stdout",
     "output_type": "stream",
     "text": [
      "我爱你\n"
     ]
    }
   ],
   "source": [
    "def reverse(s):\n",
    "    x=len(s)\n",
    "    print(s[x-1:0:-1] + s[0])\n",
    "reverse(\"你爱我\")"
   ]
  },
  {
   "cell_type": "markdown",
   "metadata": {},
   "source": [
    "写函数，根据给定符号和行数，打印相应直角三角形，等腰三角形及其他形式的三角形。"
   ]
  },
  {
   "cell_type": "code",
   "execution_count": 5,
   "metadata": {
    "collapsed": false
   },
   "outputs": [
    {
     "name": "stdout",
     "output_type": "stream",
     "text": [
      "\n",
      "啦\n",
      "啦啦\n",
      "啦啦啦\n",
      "啦啦啦啦\n",
      "啦啦啦啦啦\n",
      "啦啦啦啦啦啦\n",
      "啦啦啦啦啦啦啦\n",
      "啦啦啦啦啦啦啦啦\n",
      "啦啦啦啦啦啦啦啦啦\n",
      "         啦\n",
      "        啦啦\n",
      "       啦啦啦\n",
      "      啦啦啦啦\n",
      "     啦啦啦啦啦\n",
      "    啦啦啦啦啦啦\n",
      "   啦啦啦啦啦啦啦\n",
      "  啦啦啦啦啦啦啦啦\n",
      " 啦啦啦啦啦啦啦啦啦\n",
      "啦啦啦啦啦啦啦啦啦啦\n"
     ]
    }
   ],
   "source": [
    "def Right(a):\n",
    "    for i in range(1, len(a)*2+1):\n",
    "        for j in range(1,i):\n",
    "            print(a[0], end='')\n",
    "        print()\n",
    "        \n",
    "def Equilateral(a):\n",
    "    for m in range(1, len(a)*2+1):\n",
    "        print((len(a)*2-m)*' ' + a[0]*m, end='')\n",
    "        print()        \n",
    "Right(\"啦啦啦啦啦\")\n",
    "Equilateral(\"啦啦啦啦啦\")\n"
   ]
  },
  {
   "cell_type": "markdown",
   "metadata": {},
   "source": [
    "将任务4中的英语名词单数变复数的函数，尽可能的考虑多种情况，重新进行实现。"
   ]
  },
  {
   "cell_type": "code",
   "execution_count": 6,
   "metadata": {
    "collapsed": false
   },
   "outputs": [
    {
     "name": "stdout",
     "output_type": "stream",
     "text": [
      "请输入一个英文单词：girl\n",
      "girls\n"
     ]
    }
   ],
   "source": [
    "def danci(word):\n",
    "    if word.endswith('x') or word.endswith('o'):\n",
    "        print(word+\"es\")\n",
    "    elif word.endswith('ch') or word.endswith('sh'):\n",
    "        print(word+\"es\")\n",
    "    else :\n",
    "        print(word+\"s\")\n",
    "        \n",
    "word=input(\"请输入一个英文单词：\")\n",
    "danci(word)"
   ]
  }
 ],
 "metadata": {
  "kernelspec": {
   "display_name": "Python 3",
   "language": "python",
   "name": "python3"
  },
  "language_info": {
   "codemirror_mode": {
    "name": "ipython",
    "version": 3
   },
   "file_extension": ".py",
   "mimetype": "text/x-python",
   "name": "python",
   "nbconvert_exporter": "python",
   "pygments_lexer": "ipython3",
   "version": "3.6.0"
  }
 },
 "nbformat": 4,
 "nbformat_minor": 2
}
