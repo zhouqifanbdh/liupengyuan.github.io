{
 "cells": [
  {
   "cell_type": "code",
   "execution_count": 39,
   "metadata": {
    "collapsed": false
   },
   "outputs": [
    {
     "name": "stdout",
     "output_type": "stream",
     "text": [
      "输入一个数字表示想输入的字符个数，回车结束4\n",
      "请输入一个字符，回车结束3345\n",
      "请输入一个字符，回车结束4567\n",
      "请输入一个字符，回车结束56\n",
      "请输入一个字符，回车结束67\n",
      "67\n",
      "56\n",
      "4567\n",
      "3345\n"
     ]
    }
   ],
   "source": [
    "def reverse(s):\n",
    "    words=[]\n",
    "    for i in range(s):\n",
    "        word=input('请输入一个字符，回车结束')\n",
    "        words.append(word)\n",
    "    for j in range(s-1,-1,-1):\n",
    "        print(words[j])\n",
    "        \n",
    "s=int(input('输入一个数字表示想输入的字符个数，回车结束'))\n",
    "reverse(s)"
   ]
  },
  {
   "cell_type": "code",
   "execution_count": 30,
   "metadata": {
    "collapsed": false
   },
   "outputs": [
    {
     "name": "stdout",
     "output_type": "stream",
     "text": [
      "输入一个整数，0代表直角三角形，1代表等腰三角形   0\n",
      "输入一个整数，表示想要的行数  4\n",
      "* \n",
      "* * \n",
      "* * * \n",
      "* * * * \n"
     ]
    }
   ],
   "source": [
    "def sanjiaoxing(x):\n",
    "    line=\"* \"\n",
    "    blank=\" \"    \n",
    "    n=int(input('输入一个整数，表示想要的行数  '))\n",
    "    if x==0:\n",
    "        for i in range(1,n+1):\n",
    "            print(line*i)\n",
    "    if x==1:\n",
    "        for i in range(1,n+1):\n",
    "            print(blank*(n-i)+line*i)\n",
    "                      \n",
    "x=int(input('输入一个整数，0代表直角三角形，1代表等腰三角形   '))            \n",
    "sanjiaoxing(x)\n",
    "\n",
    "        "
   ]
  },
  {
   "cell_type": "code",
   "execution_count": 36,
   "metadata": {
    "collapsed": false
   },
   "outputs": [
    {
     "name": "stdout",
     "output_type": "stream",
     "text": [
      "输入一个英文单词，回车结束myself\n"
     ]
    },
    {
     "data": {
      "text/plain": [
       "'myselves'"
      ]
     },
     "execution_count": 36,
     "metadata": {},
     "output_type": "execute_result"
    }
   ],
   "source": [
    "def pl(word):  \n",
    "    if word.endswith('y'):  \n",
    "        return word[:-1] + 'ies'  \n",
    "    elif word.endswith('sh'or'ch'or'x'or's'):  \n",
    "        return word + 'es'  \n",
    "    elif word.endswith('fe'):  \n",
    "        return word[:-2] + 'ves'\n",
    "    elif word.endswith('f'):\n",
    "        return word[:-1]+'ves'\n",
    "    elif word.endswith('o'):\n",
    "        if word==['hero','Negro','tomato','patopa']:\n",
    "            return word+'es'\n",
    "        else:\n",
    "            return word+'s'\n",
    "    else:  \n",
    "        return word + 's'  \n",
    "\n",
    "word=input('输入一个英文单词，回车结束')\n",
    "pl(word)"
   ]
  },
  {
   "cell_type": "code",
   "execution_count": null,
   "metadata": {
    "collapsed": true
   },
   "outputs": [],
   "source": []
  }
 ],
 "metadata": {
  "kernelspec": {
   "display_name": "Python 3",
   "language": "python",
   "name": "python3"
  },
  "language_info": {
   "codemirror_mode": {
    "name": "ipython",
    "version": 3
   },
   "file_extension": ".py",
   "mimetype": "text/x-python",
   "name": "python",
   "nbconvert_exporter": "python",
   "pygments_lexer": "ipython3",
   "version": "3.6.0"
  }
 },
 "nbformat": 4,
 "nbformat_minor": 2
}
