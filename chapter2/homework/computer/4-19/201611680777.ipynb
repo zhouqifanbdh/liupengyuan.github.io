{
 "cells": [
  {
   "cell_type": "code",
   "execution_count": null,
   "metadata": {
    "collapsed": false
   },
   "outputs": [],
   "source": [
    "def reverse(string):\n",
    "    return string[::-1]\n",
    "\n",
    "string=str(input())\n",
    "print(reverse(string))"
   ]
  },
  {
   "cell_type": "code",
   "execution_count": null,
   "metadata": {
    "collapsed": true
   },
   "outputs": [],
   "source": [
    "word=[input()]\n",
    "if word[(len(word)-1)]=='s' or 'x' or 'sh' or 'ch':\n",
    "    word.append('es')\n",
    "elif word[(len(word)-1)]==y:\n",
    "    word[(len(word)-1)]='ies'\n",
    "elif word[(len(word)-1)]==f:\n",
    "    word[(len(word)-1)]='ves'\n",
    "else:\n",
    "    word.append('s')\n",
    "print(word)"
   ]
  },
  {
   "cell_type": "code",
   "execution_count": null,
   "metadata": {
    "collapsed": true
   },
   "outputs": [],
   "source": [
    "number=int(input('请选择三角形一边*的个数输入,number>=4'))\n",
    "n=int(input('请选择三角形，1为直角三角形，2为等腰三角形，3为普通三角形'))\n",
    "a='*'\n",
    "if n==1:\n",
    "    print(number*a)\n",
    "    for i in range(1,number-1):                                       \n",
    "            print(a+(number-2-i)*' '+a)\n",
    "            print('\\n')\n",
    "    print(a)\n",
    "if n==2:\n",
    "    i=1\n",
    "    while i<=((number+1)/2):\n",
    "        print((i-1)*' '+(number-(i-1)*2)*a+(i-1)*' ')\n",
    "        i+=1\n",
    "    \n",
    "        "
   ]
  }
 ],
 "metadata": {
  "kernelspec": {
   "display_name": "Python 3",
   "language": "python",
   "name": "python3"
  },
  "language_info": {
   "codemirror_mode": {
    "name": "ipython",
    "version": 3
   },
   "file_extension": ".py",
   "mimetype": "text/x-python",
   "name": "python",
   "nbconvert_exporter": "python",
   "pygments_lexer": "ipython3",
   "version": "3.6.0"
  }
 },
 "nbformat": 4,
 "nbformat_minor": 2
}
