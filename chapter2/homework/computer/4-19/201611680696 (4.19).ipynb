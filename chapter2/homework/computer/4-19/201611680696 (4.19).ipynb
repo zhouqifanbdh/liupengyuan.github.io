{
 "cells": [
  {
   "cell_type": "code",
   "execution_count": 1,
   "metadata": {
    "collapsed": false,
    "deletable": true,
    "editable": true
   },
   "outputs": [
    {
     "name": "stdout",
     "output_type": "stream",
     "text": [
      "dgrguihgre"
     ]
    }
   ],
   "source": [
    "#练习一：自己定义一个reverse(s)函数，功能返回字符串s的倒序字符串。\n",
    "\n",
    "def reverse(s):\n",
    "    for i in range(len(s)-1,-1,-1):\n",
    "        print(s[i],end='')\n",
    "        \n",
    "s='erghiugrgd'\n",
    "reverse(s)"
   ]
  },
  {
   "cell_type": "code",
   "execution_count": 2,
   "metadata": {
    "collapsed": false,
    "deletable": true,
    "editable": true
   },
   "outputs": [
    {
     "name": "stdout",
     "output_type": "stream",
     "text": [
      "请输入指定符号：*\n",
      "请输入指定行数：5\n",
      "直角三角形：\n",
      "*\n",
      "**\n",
      "***\n",
      "****\n",
      "*****\n",
      "等腰三角形：\n",
      "    *\n",
      "   ***\n",
      "  *****\n",
      " *******\n",
      "*********\n",
      "钝角三角形：\n",
      " *\n",
      "  ***\n",
      "   *****\n",
      "    *******\n",
      "     *********\n",
      "锐角三角形：\n",
      "        *\n",
      "      ****\n",
      "    *******\n",
      "  **********\n",
      "*************\n"
     ]
    }
   ],
   "source": [
    "#练习二：写函数，根据给定符号和行数，打印相应直角三角形，等腰三角形及其他形式的三角形。\n",
    "\n",
    "def sjx(s):\n",
    "    print(\"直角三角形：\")\n",
    "    for i in range(s[1]):\n",
    "        print(s[0]*(i+1))\n",
    "\n",
    "    print(\"等腰三角形：\")\n",
    "    for i in range(s[1]):\n",
    "        print(' '*(s[1]-1-i)+s[0]*(2*i+1))\n",
    "    \n",
    "    print(\"钝角三角形：\")\n",
    "    for i in range(s[1]):\n",
    "        print(' '*i,s[0]*(i*2+1))\n",
    "    \n",
    "    print(\"锐角三角形：\")\n",
    "    for i in range(s[1]):\n",
    "        print(' '*(2*s[1]-2*i-2)+s[0]*(3*i+1))\n",
    "    \n",
    "a=input('请输入指定符号：')\n",
    "b=int(input('请输入指定行数：'))\n",
    "s=(a,b)\n",
    "sjx(s)"
   ]
  },
  {
   "cell_type": "code",
   "execution_count": 6,
   "metadata": {
    "collapsed": false,
    "deletable": true,
    "editable": true
   },
   "outputs": [
    {
     "name": "stdout",
     "output_type": "stream",
     "text": [
      "请输入一个单词：fly\n",
      "flies\n"
     ]
    }
   ],
   "source": [
    "#练习三：将任务4中的英语名词单数变复数的函数，尽可能的考虑多种情况，重新进行实现。\n",
    "\n",
    "def change(s):\n",
    "    n=len(s)\n",
    "    if s[n-1] in 'y':\n",
    "        print(s[:n-1]+'ies')\n",
    "    elif s[n-1] in 'x' or s[n-1] in 's':\n",
    "        print(s[:n]+'es')\n",
    "    elif s[n-2:n] in 'sh' or 'ch':\n",
    "        print(s[:n]+'es')\n",
    "    else:\n",
    "        print(s[:n]+'s')\n",
    "        \n",
    "test=str(input(\"请输入一个单词：\"))\n",
    "change(test)"
   ]
  },
  {
   "cell_type": "code",
   "execution_count": null,
   "metadata": {
    "collapsed": true
   },
   "outputs": [],
   "source": []
  }
 ],
 "metadata": {
  "kernelspec": {
   "display_name": "Python 3",
   "language": "python",
   "name": "python3"
  },
  "language_info": {
   "codemirror_mode": {
    "name": "ipython",
    "version": 3
   },
   "file_extension": ".py",
   "mimetype": "text/x-python",
   "name": "python",
   "nbconvert_exporter": "python",
   "pygments_lexer": "ipython3",
   "version": "3.6.0"
  }
 },
 "nbformat": 4,
 "nbformat_minor": 2
}
