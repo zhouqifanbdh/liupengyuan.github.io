{
 "cells": [
  {
   "cell_type": "code",
   "execution_count": 1,
   "metadata": {},
   "outputs": [
    {
     "name": "stdout",
     "output_type": "stream",
     "text": [
      "输入字符串：12345\n",
      "54321\n"
     ]
    }
   ],
   "source": [
    "def reverse(s):\n",
    "    l=len(s)\n",
    "    return s[l::-1]\n",
    "s=str(input('输入字符串：'))\n",
    "print(reverse(s))"
   ]
  },
  {
   "cell_type": "code",
   "execution_count": 2,
   "metadata": {},
   "outputs": [
    {
     "name": "stdout",
     "output_type": "stream",
     "text": [
      "请输入字符：a\n",
      "请输入三角形的高：3\n",
      "\n",
      "a\n",
      "aa\n",
      "aaa\n",
      "   a\n",
      "  aaa\n",
      " aaaaa\n",
      "aaaaaaa\n",
      "\n",
      " a\n",
      "  aa\n",
      "   aaa\n"
     ]
    }
   ],
   "source": [
    "def triangle(ch,h):\n",
    "    for i in range(h+1):\n",
    "        print(ch*i)\n",
    "    for j in range(h+1):\n",
    "        if ord(ch)<256:\n",
    "            print(' '*(h-j)+ch*(2*j+1))\n",
    "        else:\n",
    "            print(' '*(h*2-j*2)+ch*(2*j+1))\n",
    "    for k in range(h+1):\n",
    "        print(' '*k+ch*k)\n",
    "ch=str(input('请输入字符：'))\n",
    "h=int(input('请输入三角形的高：'))\n",
    "triangle(ch,h)"
   ]
  },
  {
   "cell_type": "code",
   "execution_count": 3,
   "metadata": {},
   "outputs": [
    {
     "name": "stdout",
     "output_type": "stream",
     "text": [
      "请输入一个单词：box\n",
      "boxes\n"
     ]
    }
   ],
   "source": [
    "def fushu(word):\n",
    "    length=len(word)\n",
    "    if word[length-1:length]=='s':\n",
    "        print(word+'es')\n",
    "    elif word[length-1:length]=='x':\n",
    "        print(word+'es')\n",
    "    elif word[length-2:length]=='sh':\n",
    "        print(word+'es')\n",
    "    elif word[length-2:length]=='ch':\n",
    "        print(word+'es')\n",
    "    else:\n",
    "        print(word+'s') \n",
    "word=str(input('请输入一个单词：'))\n",
    "fushu(word)"
   ]
  },
  {
   "cell_type": "code",
   "execution_count": null,
   "metadata": {
    "collapsed": true
   },
   "outputs": [],
   "source": []
  }
 ],
 "metadata": {
  "kernelspec": {
   "display_name": "Python 3",
   "language": "python",
   "name": "python3"
  },
  "language_info": {
   "codemirror_mode": {
    "name": "ipython",
    "version": 3
   },
   "file_extension": ".py",
   "mimetype": "text/x-python",
   "name": "python",
   "nbconvert_exporter": "python",
   "pygments_lexer": "ipython3",
   "version": "3.6.0"
  }
 },
 "nbformat": 4,
 "nbformat_minor": 2
}
