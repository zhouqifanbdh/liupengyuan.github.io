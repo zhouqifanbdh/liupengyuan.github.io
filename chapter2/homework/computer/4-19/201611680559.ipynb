{
 "cells": [
  {
   "cell_type": "code",
   "execution_count": 14,
   "metadata": {
    "collapsed": false,
    "deletable": true,
    "editable": true
   },
   "outputs": [
    {
     "name": "stdout",
     "output_type": "stream",
     "text": [
      "请输入一串字符串:got7\n",
      "7tog"
     ]
    }
   ],
   "source": [
    "def reverse(s):\n",
    "    n=len(s)\n",
    "    for i in range(n-1,-1,-1):\n",
    "        print(s[i], end='')\n",
    "        \n",
    "text=str(input(\"请输入一串字符串:\"))\n",
    "reverse(text)"
   ]
  },
  {
   "cell_type": "code",
   "execution_count": 7,
   "metadata": {
    "collapsed": false,
    "deletable": true,
    "editable": true
   },
   "outputs": [
    {
     "name": "stdout",
     "output_type": "stream",
     "text": [
      "请输入一个字符&\n",
      "请输入行数5\n",
      "直角三角形：\n",
      "&\n",
      "&&\n",
      "&&&\n",
      "&&&&\n",
      "&&&&&\n",
      "等腰三角形：\n",
      "    &\n",
      "   &&&\n",
      "  &&&&&\n",
      " &&&&&&&\n",
      "&&&&&&&&&\n",
      "钝角三角形：\n",
      "&\n",
      " &&&\n",
      "  &&&&&\n",
      "   &&&&&&&\n",
      "    &&&&&&&&&\n",
      "锐角三角形：\n",
      "        &\n",
      "      &&&&\n",
      "    &&&&&&&\n",
      "  &&&&&&&&&&\n",
      "&&&&&&&&&&&&&\n"
     ]
    }
   ],
   "source": [
    "def triangle(s,n):\n",
    "    print(\"直角三角形：\")\n",
    "    for i in range(n):\n",
    "        print(s*(i+1))\n",
    "        \n",
    "    print(\"等腰三角形：\")\n",
    "    for i in range(n):\n",
    "        print(' '*(n-1-i)+s*(2*i+1))\n",
    "        \n",
    "    print(\"钝角三角形：\")\n",
    "    for i in range(n):\n",
    "        print(' '*i+s*(i*2+1))\n",
    "        \n",
    "    print(\"锐角三角形：\")\n",
    "    for i in range(n):\n",
    "        print(' '*(2*n-2*i-2)+s*(3*i+1))\n",
    "        \n",
    "text=str(input(\"请输入一个字符\"))\n",
    "h=int(input(\"请输入行数\"))\n",
    "triangle(text,h)"
   ]
  },
  {
   "cell_type": "code",
   "execution_count": 8,
   "metadata": {
    "collapsed": false,
    "deletable": true,
    "editable": true,
    "scrolled": true
   },
   "outputs": [
    {
     "name": "stdout",
     "output_type": "stream",
     "text": [
      "请输入一串字符串:tax\n",
      "taxes\n"
     ]
    }
   ],
   "source": [
    "def fushu(s):\n",
    "    n=len(s)\n",
    "    if s[n-1] in 'y':\n",
    "        print (s[:n-1]+'ies')\n",
    "    elif s[n-1] in 'x' or s[n-1] in 's':\n",
    "        print (s[:n]+'es')\n",
    "    elif s[n-2:n] in 'sh' or 'ch':\n",
    "        print (s[:n]+'es')\n",
    "    else:\n",
    "        print (s[:n]+'s')\n",
    "    \n",
    "text=str(input(\"请输入一串字符串:\"))\n",
    "fushu(text)"
   ]
  }
 ],
 "metadata": {
  "kernelspec": {
   "display_name": "Python 3",
   "language": "python",
   "name": "python3"
  },
  "language_info": {
   "codemirror_mode": {
    "name": "ipython",
    "version": 3
   },
   "file_extension": ".py",
   "mimetype": "text/x-python",
   "name": "python",
   "nbconvert_exporter": "python",
   "pygments_lexer": "ipython3",
   "version": "3.6.0"
  }
 },
 "nbformat": 4,
 "nbformat_minor": 2
}
