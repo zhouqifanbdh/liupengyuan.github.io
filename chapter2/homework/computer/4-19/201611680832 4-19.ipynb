{
 "cells": [
  {
   "cell_type": "code",
   "execution_count": 1,
   "metadata": {
    "collapsed": false
   },
   "outputs": [
    {
     "name": "stdout",
     "output_type": "stream",
     "text": [
      "xchjjhcx\n"
     ]
    }
   ],
   "source": [
    "line='xchjldet'\n",
    "x=4\n",
    "print(line[0:x]+line[x-1:0:-1]+line[0])"
   ]
  },
  {
   "cell_type": "code",
   "execution_count": 2,
   "metadata": {
    "collapsed": false
   },
   "outputs": [
    {
     "name": "stdout",
     "output_type": "stream",
     "text": [
      "天\n",
      "天天\n",
      "天天天\n",
      "天天天天\n",
      "天天天天天\n",
      "天天天天天天\n",
      "天天天天天天天\n",
      "天天天天天天天天\n",
      "天天天天天天天天天\n",
      "天天天天天天天天天天\n",
      "天天天天天天天天天天天\n",
      "天天天天天天天天天天天天\n"
     ]
    }
   ],
   "source": [
    "line='天'*6\n",
    "for i in range(1,len(line)*2+1):\n",
    "    print((len(line)*2-i)*''+line[0]*i,end='')\n",
    "    print()"
   ]
  }
 ],
 "metadata": {
  "kernelspec": {
   "display_name": "Python 3",
   "language": "python",
   "name": "python3"
  },
  "language_info": {
   "codemirror_mode": {
    "name": "ipython",
    "version": 3
   },
   "file_extension": ".py",
   "mimetype": "text/x-python",
   "name": "python",
   "nbconvert_exporter": "python",
   "pygments_lexer": "ipython3",
   "version": "3.6.0"
  }
 },
 "nbformat": 4,
 "nbformat_minor": 2
}
