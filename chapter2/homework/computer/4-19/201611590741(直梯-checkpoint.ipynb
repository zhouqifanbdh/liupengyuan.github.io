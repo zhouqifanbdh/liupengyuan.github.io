{
 "cells": [
  {
   "cell_type": "code",
   "execution_count": 3,
   "metadata": {
    "collapsed": false,
    "deletable": true,
    "editable": true
   },
   "outputs": [
    {
     "name": "stdout",
     "output_type": "stream",
     "text": [
      "请输入符号：*\n",
      "请输入上底：2\n",
      "请输入高：5\n",
      "       **\n",
      "       ***\n",
      "       ****\n",
      "       *****\n",
      "       ******\n"
     ]
    }
   ],
   "source": [
    "def print_traid(a,b,d):\n",
    "    for i in range(0,d):\n",
    "        print(' '*(h + ul) + a*(i + ul))\n",
    "            \n",
    "s = input('请输入符号：')\n",
    "ul = int(input('请输入上底：'))\n",
    "\n",
    "h = int(input('请输入高：'))\n",
    "print_traid(s,ul,h)"
   ]
  }
 ],
 "metadata": {
  "kernelspec": {
   "display_name": "Python 3",
   "language": "python",
   "name": "python3"
  },
  "language_info": {
   "codemirror_mode": {
    "name": "ipython",
    "version": 3
   },
   "file_extension": ".py",
   "mimetype": "text/x-python",
   "name": "python",
   "nbconvert_exporter": "python",
   "pygments_lexer": "ipython3",
   "version": "3.6.0"
  }
 },
 "nbformat": 4,
 "nbformat_minor": 2
}
