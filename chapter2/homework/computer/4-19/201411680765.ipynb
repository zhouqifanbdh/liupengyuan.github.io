{
 "cells": [
  {
   "cell_type": "code",
   "execution_count": 1,
   "metadata": {
    "collapsed": false
   },
   "outputs": [
    {
     "name": "stdout",
     "output_type": "stream",
     "text": [
      "[5, 4, 3, 2, 1]\n",
      "[5, 4, 3, 2, 1]\n"
     ]
    }
   ],
   "source": [
    "#练习一：实现reverse(s)函数，功能与s.reverse()相同。\n",
    "\n",
    "import copy\n",
    "\n",
    "def reverse(List):\n",
    "    numbers = copy.deepcopy(List)\n",
    "    for i in range(len(List)):\n",
    "        numbers[len(List)-1-i] = List[i]\n",
    "    return numbers\n",
    "    \n",
    "numbers = [1,2,3,4,5]\n",
    "#numbers.reverse()\n",
    "print(reverse(numbers))\n",
    "numbers.reverse()\n",
    "print(numbers)"
   ]
  },
  {
   "cell_type": "code",
   "execution_count": 2,
   "metadata": {
    "collapsed": false
   },
   "outputs": [
    {
     "name": "stdout",
     "output_type": "stream",
     "text": [
      "请输入一个你想用来组成三角形的符号：￥\n",
      "请输入你想构造的三角形的行数:5\n",
      "等腰直角三角形：\n",
      "￥\n",
      "￥￥\n",
      "￥￥￥\n",
      "￥￥￥￥\n",
      "￥￥￥￥￥\n",
      "\n",
      "一般的直角三角形：\n",
      "￥\n",
      "￥￥￥\n",
      "￥￥￥￥￥\n",
      "￥￥￥￥￥￥￥\n",
      "￥￥￥￥￥￥￥￥￥\n",
      "\n",
      "等腰三角形：\n",
      "    ￥\n",
      "   ￥￥\n",
      "  ￥￥￥\n",
      " ￥￥￥￥\n",
      "￥￥￥￥￥\n",
      "\n",
      "任意三角形：\n",
      "    ￥\n",
      "   ￥￥￥\n",
      "  ￥￥￥￥￥\n",
      " ￥￥￥￥￥￥￥\n",
      "￥￥￥￥￥￥￥￥￥\n"
     ]
    }
   ],
   "source": [
    "#练习二：写函数，根据给定符号（此处输入的符号受限，要是全角的才行）和行数，打印相应直角三角形，等腰三角形及其他形式的三角形。\n",
    "\n",
    "def triangles(mark,line_number):\n",
    "    print ('等腰直角三角形：')\n",
    "    for i in range(1,line_number+1):\n",
    "        print(mark*i)\n",
    "    print()\n",
    "    print ('一般的直角三角形：')\n",
    "    for i in range(1,line_number+1):\n",
    "        print(mark*(2*i-1))\n",
    "    print()\n",
    "    print ('等腰三角形：')\n",
    "    for i in range(1,line_number+1):\n",
    "        print(' '*(line_number-i) + mark*i)\n",
    "    print()\n",
    "    print ('任意三角形：')\n",
    "    for i in range(1,line_number+1):\n",
    "        print(' '*(line_number-i) + mark*(2*i-1))\n",
    "        \n",
    "    \n",
    "mark = input('请输入一个你想用来组成三角形的符号：')\n",
    "line_number = int(input('请输入你想构造的三角形的行数:'))\n",
    "triangles(mark,line_number)\n",
    "\n",
    "\n"
   ]
  },
  {
   "cell_type": "code",
   "execution_count": 3,
   "metadata": {
    "collapsed": false
   },
   "outputs": [
    {
     "name": "stdout",
     "output_type": "stream",
     "text": [
      "请输入一个英文动词的第三人称单数形式：does\n",
      "该动词的复数形式为： do\n"
     ]
    }
   ],
   "source": [
    "#练习三：将任务4中的英语动词变复数的函数，完整实现。\n",
    "\n",
    "def sgv_to_plv (sgword):\n",
    "    if sgword.endswith('ies'):\n",
    "        plword=sgword[:-3]+'y'\n",
    "        print ('该动词的复数形式为：',plword)\n",
    "    elif sgword.endswith('es'):\n",
    "        plword = sgword[:-2]\n",
    "        print ('该动词的复数形式为：',plword)\n",
    "    elif sgword.endswith('s'):\n",
    "        plword = sgword[:-1]\n",
    "        print ('该动词的复数形式为：',plword)\n",
    "    \n",
    "sgword=input('请输入一个英文动词的第三人称单数形式：')\n",
    "sgv_to_plv(sgword)"
   ]
  },
  {
   "cell_type": "code",
   "execution_count": 5,
   "metadata": {
    "collapsed": false
   },
   "outputs": [
    {
     "name": "stdout",
     "output_type": "stream",
     "text": [
      "请输入一个你想用来组成三角形的符号：￥\n",
      "请输入你想要的梯形上底：3\n",
      "请输入你想要的梯形下底：7\n",
      "请输入你想构造的三角形的行数:5\n",
      "直角梯形：\n",
      "￥￥￥\n",
      "￥￥￥￥\n",
      "￥￥￥￥￥\n",
      "￥￥￥￥￥￥\n",
      "￥￥￥￥￥￥￥\n"
     ]
    }
   ],
   "source": [
    "#练习四：写函数，根据给定符号，上底、下底、高，打印各种梯形。\n",
    "\n",
    "def trapezoidals(mark,top,bottom,height):\n",
    "    print('直角梯形：')  \n",
    "    if bottom-top < top:    \n",
    "        shang,yushu = divmod(height,(bottom-top+1))\n",
    "     #print('直角梯形：')\n",
    "        i = 1\n",
    "        times = 0\n",
    "        while i < height+1:  #控制循环行数\n",
    "            if i <= (shang+1)*yushu:   #看当前行数是否在重复次数多的范围内\n",
    "                count = shang +1 #每组内符号相同时应当重复的次数\n",
    "                #times = 0\n",
    "                for j in range(1,count+1):   #重复打印\n",
    "                    print(mark*(top+times))   #这里有问题：如何控制使输出符号个数变化？？？\n",
    "                #times += 1\n",
    "            else:\n",
    "                count = shang\n",
    "                for j in range(1,count+1):   #重复打印\n",
    "                    print(mark*(top+times))   #这里有问题：如何控制使输出符号个数变化？？？\n",
    "                #times += 1\n",
    "                \n",
    "            times += 1\n",
    "            i = i+count\n",
    "    else:   #问题在于：当高过大时，输出混乱\n",
    "        #j = 1\n",
    "        if height < bottom-top:\n",
    "            j = 1\n",
    "            for i in range(1,height+1):\n",
    "                if i == 1 :\n",
    "                    print(mark*(top))\n",
    "                elif i == height:\n",
    "                    print(mark*(bottom))\n",
    "                else:\n",
    "                    ternal = ((bottom-top)//(height-2+1))\n",
    "                    print(mark*(top+ternal*j))\n",
    "                    j += 1\n",
    "        else:\n",
    "            shang,yushu = divmod(height,(bottom-top+1))\n",
    "            i = 1\n",
    "            times = 0\n",
    "            while i < height+1:  #控制循环行数\n",
    "                if i <= (shang+1)*yushu:   #看当前行数是否在重复次数多的范围内\n",
    "                    count = shang +1 #每组内符号相同时应当重复的次数\n",
    "                \n",
    "                    for j in range(1,count+1):   #重复打印\n",
    "                        print(mark*(top+times))   #这里有问题：如何控制使输出符号个数变化？？？\n",
    "                \n",
    "                else:\n",
    "                    count = shang\n",
    "                    for j in range(1,count+1):   #重复打印\n",
    "                        print(mark*(top+times))   #这里有问题：如何控制使输出符号个数变化？？？\n",
    "                \n",
    "                \n",
    "                times += 1\n",
    "                i = i+count\n",
    "  \n",
    "       \n",
    "   \n",
    "   \n",
    "mark = input('请输入一个你想用来组成梯形的符号：')\n",
    "top = int(input('请输入你想要的梯形上底：'))\n",
    "bottom = int(input('请输入你想要的梯形下底：'))\n",
    "height = int(input('请输入你想构造的梯形的行数:'))\n",
    "trapezoidals(mark,top,bottom,height)"
   ]
  },
  {
   "cell_type": "code",
   "execution_count": 6,
   "metadata": {
    "collapsed": false
   },
   "outputs": [
    {
     "name": "stdout",
     "output_type": "stream",
     "text": [
      "请输入一个你想用来组成菱形的符号：￥\n",
      "请输入你想要的菱形的边长：7\n",
      "任意菱形：\n",
      "      ￥\n",
      "     ￥￥\n",
      "    ￥￥￥\n",
      "   ￥￥￥￥\n",
      "  ￥￥￥￥￥\n",
      " ￥￥￥￥￥￥\n",
      "￥￥￥￥￥￥￥\n",
      " ￥￥￥￥￥￥\n",
      "  ￥￥￥￥￥\n",
      "   ￥￥￥￥\n",
      "    ￥￥￥\n",
      "     ￥￥\n",
      "      ￥\n",
      "       \n",
      "\n"
     ]
    }
   ],
   "source": [
    "#练习五：写函数，根据给定符号，打印各种菱形。\n",
    "\n",
    "def diamonds(mark,edge):\n",
    "    print('任意菱形：')\n",
    "    for i in range(1,2*edge+1):\n",
    "        if i < edge+1:\n",
    "            print(' '*(edge-i) + mark*i)\n",
    "        else:\n",
    "            print(' '*(i-edge) + mark*(2*edge-i))\n",
    "    print() \n",
    "    \n",
    "    \n",
    "mark = input('请输入一个你想用来组成菱形的符号：')\n",
    "edge = int(input('请输入你想要的菱形的边长：'))\n",
    "diamonds(mark,edge)"
   ]
  },
  {
   "cell_type": "code",
   "execution_count": 7,
   "metadata": {
    "collapsed": false
   },
   "outputs": [
    {
     "name": "stdout",
     "output_type": "stream",
     "text": [
      " 赏花归去马如飞飞如马去归花赏\n",
      "  赏花归去马如飞如马去归花赏\n",
      "   赏花归去马如如马去归花赏\n",
      "    赏花归去马如马去归花赏\n",
      "     赏花归去马马去归花赏\n",
      "      赏花归去马去归花赏\n",
      "       赏花归去去归花赏\n",
      "        赏花归去归花赏\n",
      "         赏花归归花赏\n",
      "          赏花归花赏\n",
      "           赏花花赏\n",
      "            赏花赏\n",
      "             赏赏\n",
      "              赏\n"
     ]
    }
   ],
   "source": [
    "#练习六：与本小节任务基本相同，但要求打印回文字符倒三角形\n",
    "\n",
    "\n",
    "def plalindrome(line):\n",
    "    for i in range(1,len(line)*2+1):\n",
    "        if i == len(line)*2:\n",
    "            print(' '*(i) + line[0])\n",
    "        elif i%2 == 0:\n",
    "            print(' '*(i) + line[:(2*len(line)-i+1)//2] + line[(2*len(line)-i+1)//2] + line[(2*len(line)-i+1)//2-1::-1])\n",
    "        else:\n",
    "            print(' '*(i) + line[:(2*len(line)-i+1)//2] + line[(2*len(line)-i+1)//2-1::-1])\n",
    "            \n",
    "def main():\n",
    "    text = '赏花归去马如飞'\n",
    "    plalindrome(text)\n",
    "    \n",
    "if __name__ == '__main__':\n",
    "    main()\n"
   ]
  }
 ],
 "metadata": {
  "kernelspec": {
   "display_name": "Python 3",
   "language": "python",
   "name": "python3"
  },
  "language_info": {
   "codemirror_mode": {
    "name": "ipython",
    "version": 3
   },
   "file_extension": ".py",
   "mimetype": "text/x-python",
   "name": "python",
   "nbconvert_exporter": "python",
   "pygments_lexer": "ipython3",
   "version": "3.6.0"
  }
 },
 "nbformat": 4,
 "nbformat_minor": 2
}
