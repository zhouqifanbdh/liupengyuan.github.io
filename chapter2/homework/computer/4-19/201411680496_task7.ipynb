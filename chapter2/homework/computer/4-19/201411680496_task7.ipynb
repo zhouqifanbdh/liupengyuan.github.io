{
 "cells": [
  {
   "cell_type": "markdown",
   "metadata": {
    "deletable": true,
    "editable": true
   },
   "source": [
    "练习一：自己定义一个reverse(s)函数，功能返回字符串s的倒序字符串。"
   ]
  },
  {
   "cell_type": "code",
   "execution_count": 11,
   "metadata": {
    "collapsed": false,
    "deletable": true,
    "editable": true
   },
   "outputs": [
    {
     "name": "stdout",
     "output_type": "stream",
     "text": [
      "飞\n",
      "如\n",
      "马\n",
      "去\n",
      "归\n",
      "花\n",
      "赏\n"
     ]
    }
   ],
   "source": [
    "def reverse(s):\n",
    "    for i in range(0,len(s)):\n",
    "        j=len(s)-i-1\n",
    "        print (s[j])         \n",
    "    \n",
    "def main():\n",
    "    text = '赏花归去马如飞'\n",
    "    reverse(text) \n",
    "main()"
   ]
  },
  {
   "cell_type": "markdown",
   "metadata": {
    "deletable": true,
    "editable": true
   },
   "source": [
    "练习二：写函数，根据给定符号和行数，打印相应直角三角形，等腰三角形及其他形式的三角形。"
   ]
  },
  {
   "cell_type": "code",
   "execution_count": 32,
   "metadata": {
    "collapsed": false,
    "deletable": true,
    "editable": true
   },
   "outputs": [
    {
     "name": "stdout",
     "output_type": "stream",
     "text": [
      "plz input line num: 7\n",
      "       \n",
      "      *\n",
      "     ***\n",
      "    *****\n",
      "   *******\n",
      "  *********\n",
      " ***********\n",
      "\n",
      "* \n",
      "* * \n",
      "* * * \n",
      "* * * * \n",
      "* * * * * \n",
      "* * * * * * \n",
      "* * * * * * * \n"
     ]
    }
   ],
   "source": [
    "def tri1(m,n):\n",
    "    for i in range(0, n):\n",
    "        for j in range(0,n-i):           \n",
    "            print(' ',end='')\n",
    "        for k in range(0,2*i-1):\n",
    "            print (m,end='')\n",
    "        print()\n",
    "def tri2(m,n):\n",
    "    for i in range(1,n+1):\n",
    "        for j in range(1,i+1):\n",
    "            print (m, end=' ')\n",
    "        print()  \n",
    "\n",
    "        \n",
    "def main():\n",
    "    sym='*'\n",
    "    n=int(input('plz input line num: '))\n",
    "    tri1(sym,n) \n",
    "    print()\n",
    "    tri2(sym,n)\n",
    "main()  "
   ]
  },
  {
   "cell_type": "markdown",
   "metadata": {
    "deletable": true,
    "editable": true
   },
   "source": [
    "练习三：将任务4中的英语名词单数变复数的函数，尽可能的考虑多种情况，重新进行实现。"
   ]
  },
  {
   "cell_type": "code",
   "execution_count": 1,
   "metadata": {
    "collapsed": false,
    "deletable": true,
    "editable": true
   },
   "outputs": [
    {
     "name": "stdout",
     "output_type": "stream",
     "text": [
      "plz input a word: tomato\n",
      "tomates\n",
      "plz input a word: apple\n",
      "apples\n",
      "plz input a word: sandwich\n",
      "sandwices\n",
      "plz input a word: q\n",
      "qs\n"
     ]
    }
   ],
   "source": [
    "def plur(s):\n",
    "    l=len(s)\n",
    "    if (s.endswith('o') or s.endswith('ch') or s.endswith('sh') ):        \n",
    "        print (s[0:l-1],end='')\n",
    "        print ('es')\n",
    "    else:\n",
    "        print (s[0:l],end='')\n",
    "        print ('s')        \n",
    "    \n",
    "def main():\n",
    "    s='st'\n",
    "    while(s != 'q'):\n",
    "        s=str(input('plz input a word: '))\n",
    "        plur(s)\n",
    "main()    "
   ]
  },
  {
   "cell_type": "markdown",
   "metadata": {
    "collapsed": true,
    "deletable": true,
    "editable": true
   },
   "source": [
    "练习四：写函数，根据给定符号，上底、下底、高，打印各种梯形。"
   ]
  },
  {
   "cell_type": "code",
   "execution_count": 9,
   "metadata": {
    "collapsed": false
   },
   "outputs": [
    {
     "name": "stdout",
     "output_type": "stream",
     "text": [
      "plz input upper line: 4\n",
      "plz input lower line: 8\n",
      "plz input height: 4\n",
      "****\n",
      "*****\n",
      "******\n",
      "*******\n"
     ]
    }
   ],
   "source": [
    "def trap(a,b,h):\n",
    "    x=(b-a)//h\n",
    "    for i in range(0,h):\n",
    "        for j in range(0,a):\n",
    "            print ('*',end='')\n",
    "        a+=x\n",
    "        print()\n",
    "def main():\n",
    "    a=int(input('plz input upper line: '))\n",
    "    b=int(input('plz input lower line: '))\n",
    "    h=int(input('plz input height: '))\n",
    "    trap(a,b,h)\n",
    "main()"
   ]
  },
  {
   "cell_type": "markdown",
   "metadata": {},
   "source": [
    "练习五：写函数，根据给定符号，打印各种菱形。"
   ]
  },
  {
   "cell_type": "code",
   "execution_count": 18,
   "metadata": {
    "collapsed": false
   },
   "outputs": [
    {
     "name": "stdout",
     "output_type": "stream",
     "text": [
      "plz input line num: 5\n",
      "     \n",
      "    *\n",
      "   ***\n",
      "  *****\n",
      " *******\n",
      "*********\n",
      " *******\n",
      "  *****\n",
      "   ***\n",
      "    *\n",
      "\n"
     ]
    }
   ],
   "source": [
    "def tri(m,n):\n",
    "    for i in range(0, n):\n",
    "        for j in range(0,n-i):           \n",
    "            print(' ',end='')\n",
    "        for k in range(0,2*i-1):\n",
    "            print (m,end='')\n",
    "        print()\n",
    "    for i in range(n,0,-1):\n",
    "        for j in range(0,n-i):           \n",
    "            print(' ',end='')\n",
    "        for k in range(0,2*i-1):\n",
    "            print (m,end='')\n",
    "        print()\n",
    "def main():\n",
    "    sym='*'\n",
    "    n=int(input('plz input line num: '))\n",
    "    tri(sym,n) \n",
    "    print()\n",
    "\n",
    "main()  \n",
    "    "
   ]
  },
  {
   "cell_type": "markdown",
   "metadata": {},
   "source": [
    "练习六：与本小节任务基本相同，但要求打印回文字符倒三角形。"
   ]
  },
  {
   "cell_type": "code",
   "execution_count": 20,
   "metadata": {
    "collapsed": false
   },
   "outputs": [
    {
     "name": "stdout",
     "output_type": "stream",
     "text": [
      "赏花归去马如飞飞如马去归花赏\n",
      " 赏花归去马如飞如马去归花赏\n",
      "  赏花归去马如如马去归花赏\n",
      "   赏花归去马如马去归花赏\n",
      "    赏花归去马马去归花赏\n",
      "     赏花归去马去归花赏\n",
      "      赏花归去去归花赏\n",
      "       赏花归去归花赏\n",
      "        赏花归归花赏\n",
      "         赏花归花赏\n",
      "          赏花花赏\n",
      "           赏花赏\n",
      "            赏赏\n"
     ]
    }
   ],
   "source": [
    "def plalindrome(line):\n",
    "    for i in range( len(line)*2,1,-1):\n",
    "        if i == 1:\n",
    "            print(' '*(len(line)*2-1) +line[0])\n",
    "        elif i%2 == 1:\n",
    "            print(' '*(len(line)*2-i) + line[:i//2] + line[i//2] + line[i//2-1::-1])\n",
    "        else:\n",
    "            print(' '*(len(line)*2-i) + line[:i//2] + line[i//2-1::-1])\n",
    "\n",
    "def main():\n",
    "    text = '赏花归去马如飞'\n",
    "    plalindrome(text)\n",
    "\n",
    "main()"
   ]
  }
 ],
 "metadata": {
  "kernelspec": {
   "display_name": "Python 3",
   "language": "python",
   "name": "python3"
  },
  "language_info": {
   "codemirror_mode": {
    "name": "ipython",
    "version": 3
   },
   "file_extension": ".py",
   "mimetype": "text/x-python",
   "name": "python",
   "nbconvert_exporter": "python",
   "pygments_lexer": "ipython3",
   "version": "3.6.0"
  }
 },
 "nbformat": 4,
 "nbformat_minor": 2
}
