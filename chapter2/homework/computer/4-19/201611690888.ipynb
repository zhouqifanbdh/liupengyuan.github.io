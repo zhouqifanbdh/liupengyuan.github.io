{
 "cells": [
  {
   "cell_type": "code",
   "execution_count": 1,
   "metadata": {
    "collapsed": false
   },
   "outputs": [
    {
     "name": "stdout",
     "output_type": "stream",
     "text": [
      "学大言语京北"
     ]
    }
   ],
   "source": [
    "s = '北京语言大学'\n",
    "\n",
    "def reverse(s) :\n",
    "    x = len(s)\n",
    "    sub_s = ''\n",
    "    for i in range(x) :\n",
    "        sub_s += s[i]\n",
    "        \n",
    "    for i in range(x-1 , -1 , -1) :\n",
    "        print(sub_s[i],end = '')\n",
    "        \n",
    "reverse(s)"
   ]
  },
  {
   "cell_type": "code",
   "execution_count": 21,
   "metadata": {
    "collapsed": false
   },
   "outputs": [
    {
     "name": "stdout",
     "output_type": "stream",
     "text": [
      "输入行数，以回车结束。 5\n",
      "等腰直角三角形\n",
      " *  *  *  *  * \n",
      " *  *  *  * \n",
      " *  *  * \n",
      " *  * \n",
      " * \n",
      "\n",
      "\n",
      "\n",
      "\n",
      "\n",
      "\n",
      "\n",
      "\n",
      "\n",
      "\n"
     ]
    }
   ],
   "source": [
    "rows = int(input('输入行数，以回车结束。 '))\n",
    "i = 1\n",
    "j = 1\n",
    "k = 1\n",
    "\n",
    "print(\"等腰直角三角形\")\n",
    "for i in range(0, rows):\n",
    "    for k in range(0, rows+1 - j):\n",
    "        print (\" * \"*(rows+1-j))\n",
    "        k += 1\n",
    "        j+=1\n",
    "    i += 1\n",
    "    print (\"\\n\")"
   ]
  },
  {
   "cell_type": "code",
   "execution_count": 25,
   "metadata": {
    "collapsed": false
   },
   "outputs": [
    {
     "name": "stdout",
     "output_type": "stream",
     "text": [
      "请输入一个单词：fly\n",
      "flies\n"
     ]
    }
   ],
   "source": [
    "def wordends(word) :\n",
    "    if word.endswith('x') or word.endswith('ch') or word.endswith('s') or word.endswith('z') or word.endswith('sh'):\n",
    "        print(word,'es',sep='')\n",
    "    elif word.endswith('y') :\n",
    "        print(word[:-1]+'ies')\n",
    "    elif word.endswith('f') :\n",
    "        print(word[:-1]+'ves')\n",
    "    else:\n",
    "        print(word,'s',sep='')\n",
    "        \n",
    "        \n",
    "word = input('请输入一个单词：')\n",
    "wordends(word)"
   ]
  },
  {
   "cell_type": "code",
   "execution_count": null,
   "metadata": {
    "collapsed": true
   },
   "outputs": [],
   "source": []
  }
 ],
 "metadata": {
  "kernelspec": {
   "display_name": "Python 3",
   "language": "python",
   "name": "python3"
  },
  "language_info": {
   "codemirror_mode": {
    "name": "ipython",
    "version": 3
   },
   "file_extension": ".py",
   "mimetype": "text/x-python",
   "name": "python",
   "nbconvert_exporter": "python",
   "pygments_lexer": "ipython3",
   "version": "3.6.0"
  }
 },
 "nbformat": 4,
 "nbformat_minor": 2
}
