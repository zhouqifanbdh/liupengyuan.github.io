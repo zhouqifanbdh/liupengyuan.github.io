{
 "cells": [
  {
   "cell_type": "code",
   "execution_count": 5,
   "metadata": {
    "collapsed": false
   },
   "outputs": [
    {
     "name": "stdout",
     "output_type": "stream",
     "text": [
      "请输入字符串，以回车结尾:your\n",
      "ruoy\n"
     ]
    }
   ],
   "source": [
    "#自己定义一个reverse(s)函数，功能返回字符串s的倒序字符串。\n",
    "\n",
    "def reverse(s):\n",
    "    print(s[(len(s)):0:-1]+s[0])\n",
    "        \n",
    "s = str(input('请输入字符串，以回车结尾:'))\n",
    "reverse(s)\n",
    "    "
   ]
  },
  {
   "cell_type": "code",
   "execution_count": 1,
   "metadata": {
    "collapsed": false,
    "deletable": true,
    "editable": true
   },
   "outputs": [
    {
     "name": "stdout",
     "output_type": "stream",
     "text": [
      "请输入符号：right\n",
      "请输入行数：5\n",
      "|\\\n",
      "| \\\n",
      "|  \\\n",
      "|   \\\n",
      "|____\\"
     ]
    }
   ],
   "source": [
    "#写函数，根据给定符号和行数，打印相应直角三角形，等腰三角形及其他形式的三角形。\n",
    "\n",
    "def triangle(s,n):\n",
    "    if s == 'right':\n",
    "        for i in range(0,n):\n",
    "            if n == (i+1):\n",
    "                print('|' + '_'*i + '\\\\',end='')\n",
    "            else:\n",
    "                print('|' + ' '*i + '\\\\')\n",
    "    if s == 'isosceles':\n",
    "        for i in range(0,n+1):\n",
    "            if n == (i+1):\n",
    "                print(' '*(n-i) + '/' + '_'*(2*i) + '\\\\',end='')\n",
    "            else:\n",
    "                print(' '*(n-i) + '/' + ' '*(2*i) + '\\\\')\n",
    "\n",
    "                      \n",
    "s = str(input('请输入符号：'))\n",
    "n = int(input('请输入行数：'))\n",
    "triangle(s,n)\n",
    "        \n",
    "    "
   ]
  },
  {
   "cell_type": "code",
   "execution_count": 4,
   "metadata": {
    "collapsed": false
   },
   "outputs": [
    {
     "name": "stdout",
     "output_type": "stream",
     "text": [
      "请输入要输入的英文单词，回车结束。knife\n",
      "knives\n"
     ]
    }
   ],
   "source": [
    "#将任务4中的英语名词单数变复数的函数，尽可能的考虑多种情况，重新进行实现。\n",
    "def word(m):\n",
    "    if  m.endswith('s') or m.endswith('x') or m.endswith('z') or m.endswith('ch') or m.endswith('sh'):\n",
    "        print(m[0:len(m) + 'es'])\n",
    "    elif m.endswith('y'):\n",
    "        print(m[0:(len(m)-1)] + 'es')\n",
    "    elif m.endswith('f'):\n",
    "        print(m[0:(len(m)-1)] + 'ves')\n",
    "    elif m.endswith('fe'):\n",
    "        print(m[0:(len(m)-2)] + 'ves')\n",
    "    else:\n",
    "        print(m[0:len(m)] + 's')\n",
    "\n",
    "m = str(input('请输入要输入的英文单词，回车结束。'))\n",
    "word(m)"
   ]
  }
 ],
 "metadata": {
  "kernelspec": {
   "display_name": "Python 3",
   "language": "python",
   "name": "python3"
  },
  "language_info": {
   "codemirror_mode": {
    "name": "ipython",
    "version": 3
   },
   "file_extension": ".py",
   "mimetype": "text/x-python",
   "name": "python",
   "nbconvert_exporter": "python",
   "pygments_lexer": "ipython3",
   "version": "3.6.0"
  }
 },
 "nbformat": 4,
 "nbformat_minor": 2
}
