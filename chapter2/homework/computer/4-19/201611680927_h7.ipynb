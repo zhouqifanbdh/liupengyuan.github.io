{
 "cells": [
  {
   "cell_type": "code",
   "execution_count": 9,
   "metadata": {
    "collapsed": false,
    "deletable": true,
    "editable": true
   },
   "outputs": [
    {
     "name": "stdout",
     "output_type": "stream",
     "text": [
      "请输入一个字符串：happy\n",
      "yppah\n"
     ]
    }
   ],
   "source": [
    "def reverse(s):\n",
    "    print(s[len(s)::-1])\n",
    "n=input('请输入一个字符串：')\n",
    "reverse(n)"
   ]
  },
  {
   "cell_type": "code",
   "execution_count": 8,
   "metadata": {
    "collapsed": false,
    "deletable": true,
    "editable": true
   },
   "outputs": [
    {
     "name": "stdout",
     "output_type": "stream",
     "text": [
      "请输入想打印的符号：h\n",
      "请输入想打印符号的行数：5\n",
      "h\n",
      "hh\n",
      "hhh\n",
      "hhhh\n",
      "hhhhh\n",
      "hhhhhh\n",
      "    h\n",
      "   hhh\n",
      "  hhhhh\n",
      " hhhhhhh\n",
      "hhhhhhhhh\n",
      "    h\n",
      "   hhhh\n",
      "  hhhhhhh\n",
      " hhhhhhhhhh\n",
      "hhhhhhhhhhhhh\n"
     ]
    }
   ],
   "source": [
    "def RT_triangle(m,n):\n",
    "    for i in range(n+1):\n",
    "        print(m*(i+1))\n",
    "        \n",
    "def IT_triangle(m,n):\n",
    "    for i in range(1,n+1):\n",
    "        print(' '*(n-i) +m*(2*i-1))\n",
    "def OR_triangle(m,n):\n",
    "    for i in range(1,n+1):\n",
    "        print(' '*(n-i) +m*(3*i-2))\n",
    "\n",
    "m=input('请输入想打印的符号：')\n",
    "n=int(input('请输入想打印符号的行数：'))\n",
    "RT_triangle(m,n)\n",
    "IT_triangle(m,n)\n",
    "OR_triangle(m,n)"
   ]
  },
  {
   "cell_type": "code",
   "execution_count": 21,
   "metadata": {
    "collapsed": false,
    "deletable": true,
    "editable": true
   },
   "outputs": [
    {
     "name": "stdout",
     "output_type": "stream",
     "text": [
      "请输入一个单数形式的英语名词:leaf\n",
      "leaves\n"
     ]
    }
   ],
   "source": [
    "some_string=(input('请输入一个单数形式的英语名词:'))\n",
    "def plural(some_string):\n",
    "    if some_string.endswith('s') or some_string.endswith('sh') or some_string.endswith('ch') or some_string.endswith('x'):\n",
    "        print(some_string+'es')\n",
    "    elif some_string.endswith('y'):\n",
    "        t='ies'\n",
    "        print(some_string[:-1]+'ies')\n",
    "    elif some_string.endswith('f'):\n",
    "        print(some_string[:-1]+'ves')\n",
    "    elif some_string.endswith('fe'):\n",
    "        print(some_string[:-2]+'ves')\n",
    "    else:\n",
    "        print(some_string+'s')\n",
    "\n",
    "plural(some_string)"
   ]
  },
  {
   "cell_type": "code",
   "execution_count": 12,
   "metadata": {
    "collapsed": false,
    "deletable": true,
    "editable": true,
    "scrolled": true
   },
   "outputs": [
    {
     "name": "stdout",
     "output_type": "stream",
     "text": [
      "请输入想输出的字符：l\n",
      "请输入上底：2\n",
      "请输入下底：4\n",
      "请输入高：3\n",
      "ll\n",
      "lll\n",
      "llll\n",
      "  ll\n",
      " llll\n",
      "llllll\n"
     ]
    }
   ],
   "source": [
    "def RT_ladder(s,m,n,h):\n",
    "    for i in range(h):\n",
    "        print(s*(m+i))\n",
    "def IT_ladder(s,m,n,h):\n",
    "    for i in range(h):\n",
    "        print(' '*(h-1-i) +s*(m+(2*i)))\n",
    "s=input('请输入想输出的字符：')\n",
    "m=int(input('请输入上底：'))\n",
    "n=int(input('请输入下底：'))\n",
    "h=int(input('请输入高：'))\n",
    "RT_ladder(s,m,n,h)\n",
    "IT_ladder(s,m,n,h)"
   ]
  },
  {
   "cell_type": "code",
   "execution_count": 15,
   "metadata": {
    "collapsed": false,
    "deletable": true,
    "editable": true
   },
   "outputs": [
    {
     "name": "stdout",
     "output_type": "stream",
     "text": [
      "请输入想输出的字符：k\n",
      "请输入菱形顶点到相对对角线的距离：5\n",
      "    k\n",
      "   kkk\n",
      "  kkkkk\n",
      " kkkkkkk\n",
      "kkkkkkkkk\n",
      " kkkkkkk\n",
      "  kkkkk\n",
      "   kkk\n",
      "    k\n"
     ]
    }
   ],
   "source": [
    "def diamond(s,n):\n",
    "    for i in range(1,2*n):\n",
    "        if i<n+1:\n",
    "            print(' '*(n-i) +s*(2*i-1))\n",
    "        else:\n",
    "            print(' '*(i-n) +s*(3*n-2*i+4))\n",
    "s=input('请输入想输出的字符：')\n",
    "n=int(input('请输入菱形顶点到相对对角线的距离：'))\n",
    "diamond(s,n)"
   ]
  },
  {
   "cell_type": "code",
   "execution_count": 19,
   "metadata": {
    "collapsed": false
   },
   "outputs": [
    {
     "name": "stdout",
     "output_type": "stream",
     "text": [
      "赏花归去马如飞如马去归花赏\n",
      " 赏花归去马如如马去归花赏\n",
      "  赏花归去马如马去归花赏\n",
      "   赏花归去马马去归花赏\n",
      "    赏花归去马去归花赏\n",
      "     赏花归去去归花赏\n",
      "      赏花归去归花赏\n",
      "       赏花归归花赏\n",
      "        赏花归花赏\n",
      "         赏花花赏\n",
      "          赏花赏\n",
      "           赏赏\n",
      "            赏\n"
     ]
    }
   ],
   "source": [
    "def plalindrome(line):\n",
    "    for i in range(1, len(line)*2):\n",
    "        if i == len(line)*2-1:\n",
    "            print(' '*(len(line)*2-2) +line[0])\n",
    "        elif i%2 == 1:\n",
    "            print(' '*(i-1) + line[:(len(line)*2-i)//2] + line[(len(line)*2-i)//2] + line[(len(line)*2-i)//2-1::-1])\n",
    "        else:\n",
    "            print(' '*(i-1) + line[:(len(line)*2-i)//2] + line[(len(line)*2-i)//2-1::-1])\n",
    "\n",
    "def main():\n",
    "    text = '赏花归去马如飞'\n",
    "    plalindrome(text)\n",
    "    \n",
    "\n",
    "if __name__ == '__main__':\n",
    "    main()"
   ]
  }
 ],
 "metadata": {
  "kernelspec": {
   "display_name": "Python 3",
   "language": "python",
   "name": "python3"
  },
  "language_info": {
   "codemirror_mode": {
    "name": "ipython",
    "version": 3
   },
   "file_extension": ".py",
   "mimetype": "text/x-python",
   "name": "python",
   "nbconvert_exporter": "python",
   "pygments_lexer": "ipython3",
   "version": "3.6.0"
  }
 },
 "nbformat": 4,
 "nbformat_minor": 2
}
