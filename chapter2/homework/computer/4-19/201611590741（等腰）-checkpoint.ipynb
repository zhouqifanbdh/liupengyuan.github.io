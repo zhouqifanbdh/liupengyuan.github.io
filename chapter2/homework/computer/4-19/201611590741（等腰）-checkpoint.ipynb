{
 "cells": [
  {
   "cell_type": "code",
   "execution_count": 6,
   "metadata": {
    "collapsed": false
   },
   "outputs": [
    {
     "name": "stdout",
     "output_type": "stream",
     "text": [
      "请输入符号：\\\n",
      "请输入行数：8\n",
      "       \\ \n",
      "      \\ \\ \n",
      "     \\ \\ \\ \n",
      "    \\ \\ \\ \\ \n",
      "   \\ \\ \\ \\ \\ \n",
      "  \\ \\ \\ \\ \\ \\ \n",
      " \\ \\ \\ \\ \\ \\ \\ \n",
      "\\ \\ \\ \\ \\ \\ \\ \\ \n"
     ]
    }
   ],
   "source": [
    "def print_trigle(m, n):\n",
    "    for i in range(1, n+1):\n",
    "        for k in range(n - i, 0, -1):\n",
    "            print(' ',end = '')\n",
    "        for j in range(1, i+1):\n",
    "            print(m,'',end = '')\n",
    "        print()\n",
    "a = input('请输入符号：')\n",
    "b = int(input('请输入行数：'))\n",
    "print_trigle(a, b)"
   ]
  }
 ],
 "metadata": {
  "kernelspec": {
   "display_name": "Python 3",
   "language": "python",
   "name": "python3"
  },
  "language_info": {
   "codemirror_mode": {
    "name": "ipython",
    "version": 3
   },
   "file_extension": ".py",
   "mimetype": "text/x-python",
   "name": "python",
   "nbconvert_exporter": "python",
   "pygments_lexer": "ipython3",
   "version": "3.6.0"
  }
 },
 "nbformat": 4,
 "nbformat_minor": 2
}
