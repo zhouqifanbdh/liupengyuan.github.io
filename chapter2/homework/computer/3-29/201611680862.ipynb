{
 "cells": [
  {
   "cell_type": "code",
   "execution_count": 3,
   "metadata": {
    "collapsed": false
   },
   "outputs": [
    {
     "name": "stdout",
     "output_type": "stream",
     "text": [
      "请输入第一个整数：3\n",
      "请输入第二个整数：2\n",
      "请输入第三个整数：4\n",
      "32\n"
     ]
    }
   ],
   "source": [
    "def fun(n):\n",
    "    i=1\n",
    "    total=1\n",
    "    while i<=n:\n",
    "        total=total*i\n",
    "        i+=1\n",
    "    return total\n",
    "\n",
    "m=int(input('请输入第一个整数：'))\n",
    "n=int(input('请输入第二个整数：'))\n",
    "k=int(input('请输入第三个整数：'))\n",
    "total1=fun(m)\n",
    "total2=fun(n)\n",
    "total3=fun(k)\n",
    "print(total1+total2+total3)\n",
    "        "
   ]
  },
  {
   "cell_type": "code",
   "execution_count": 7,
   "metadata": {
    "collapsed": false
   },
   "outputs": [
    {
     "name": "stdout",
     "output_type": "stream",
     "text": [
      "4.0\n",
      "3.1414926535900345\n"
     ]
    }
   ],
   "source": [
    "def fun(n):\n",
    "    i=1\n",
    "    total=0\n",
    "    while i<=n:\n",
    "        k=(-1)**(i+1)/(2*i-1)\n",
    "        total=total+k\n",
    "        i+=1\n",
    "    return total\n",
    "\n",
    "print(4*fun(1000))\n",
    "print(4*fun(10000))\n",
    "        "
   ]
  },
  {
   "cell_type": "code",
   "execution_count": 13,
   "metadata": {
    "collapsed": false
   },
   "outputs": [
    {
     "ename": "SyntaxError",
     "evalue": "invalid syntax (<ipython-input-13-62952a306703>, line 29)",
     "output_type": "error",
     "traceback": [
      "\u001b[0;36m  File \u001b[0;32m\"<ipython-input-13-62952a306703>\"\u001b[0;36m, line \u001b[0;32m29\u001b[0m\n\u001b[0;31m    fun(date)\u001b[0m\n\u001b[0m      ^\u001b[0m\n\u001b[0;31mSyntaxError\u001b[0m\u001b[0;31m:\u001b[0m invalid syntax\n"
     ]
    }
   ],
   "source": [
    "def fun(date):\n",
    "    if 3.21<=date<=4.19:\n",
    "        print(name,'你是非常有性格的白羊座')\n",
    "    elif 4.20<=date<=5.20:\n",
    "        print(name,'你是非常有性格的金牛座')\n",
    "    elif 5.21<=date<=6.21:\n",
    "        print(name,'你是非常有性格的双子座')\n",
    "    elif 6.22<=date<=7.22:\n",
    "        print(name,'你是非常有性格的巨蟹座')\n",
    "    elif 7.23<=date<=8.22:\n",
    "        print(name,'你是非常有性格的狮子座')\n",
    "    elif 8.23<=date<=9.22:\n",
    "        print(name,'你是非常有性格的处女座')\n",
    "    elif 9.23<=date<=10.23:\n",
    "        print(name,'你是非常有性格的天秤座')\n",
    "    elif 10.24<=date<=11.22:\n",
    "        print(name,'你是非常有性格的天蝎座')\n",
    "    elif 11.23<=date<=12.21:\n",
    "        print(name,'你是非常有性格的射手座')\n",
    "    elif 12.22<=date<=12.31 or 1.1<=date<=1.19:\n",
    "        print(name,'你是非常有性格的摩羯座')\n",
    "    elif 1.20<=date<=2.18:\n",
    "        print(name,'你是非常有性格的水瓶座')\n",
    "    else:\n",
    "        print(name,'你是非常有性格的双鱼座')\n",
    "\n",
    "name=input('请输入你的名字：')\n",
    "date=float(input('请输入你的生日（例如3.26）：')\n",
    "fun(date)\n"
   ]
  },
  {
   "cell_type": "code",
   "execution_count": 22,
   "metadata": {
    "collapsed": false
   },
   "outputs": [
    {
     "name": "stdout",
     "output_type": "stream",
     "text": [
      "请输入一个英文单词fly\n",
      "flies\n"
     ]
    }
   ],
   "source": [
    "def fun(word):\n",
    "    if word.endswith('ch') or word.endswith('sh')or word.endswith('s') or word.endswith('x') or word.endswith('o') or word.endswith('z'):  \n",
    "        return word+'es'\n",
    "    elif word.endswith('by') or word.endswith('cy') or word.endswith('dy') or word.endswith('fy') or word.endswith('gy') or word.endswith('hy') or word.endswith('jy') or word.endswith('ky') or word.endswith('ly') or word.endswith('my') or word.endswith('ny') or word.endswith('py') or word.endswith('qy') or word.endswith('ry') or word.endswith('sy') or word.endswith('ty') or word.endswith('wy') or word.endswith('xy') or word.endswith('zy'):\n",
    "        return word[:-1]+'ies'    \n",
    "    elif word.endswith('f'):\n",
    "        return word[:-1]+'ves'\n",
    "    elif word.endswith('fe'):\n",
    "        return word[:-2]+'ves'\n",
    "    else:\n",
    "        return word+'s'\n",
    "        \n",
    "        \n",
    "word=input('请输入一个英文单词')\n",
    "m=fun(word)\n",
    "print(m)"
   ]
  },
  {
   "cell_type": "code",
   "execution_count": 12,
   "metadata": {
    "collapsed": false
   },
   "outputs": [
    {
     "name": "stdout",
     "output_type": "stream",
     "text": [
      "请输入第一个整数：3\n",
      "请输入第二个整数（大于第一个数）：10\n",
      "请输入您想要的间隔：2\n",
      "24\n"
     ]
    }
   ],
   "source": [
    "def fun(m,n,k):\n",
    "    i=m\n",
    "    total=0\n",
    "    while i<=n:\n",
    "        total=total+i\n",
    "        i+=k\n",
    "    \n",
    "    return total\n",
    "    \n",
    "    \n",
    "m=int(input('请输入第一个整数：'))\n",
    "n=int(input('请输入第二个整数（大于第一个数）：'))\n",
    "k=int(input('请输入您想要的间隔：'))\n",
    "print(fun(m,n,k))"
   ]
  }
 ],
 "metadata": {
  "kernelspec": {
   "display_name": "Python 3",
   "language": "python",
   "name": "python3"
  }
 },
 "nbformat": 4,
 "nbformat_minor": 2
}
