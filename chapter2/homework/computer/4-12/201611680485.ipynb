{
 "cells": [
  {
   "cell_type": "code",
   "execution_count": 2,
   "metadata": {
    "collapsed": false
   },
   "outputs": [
    {
     "name": "stdout",
     "output_type": "stream",
     "text": [
      "请输入第一个整数，以回车结束。1\n",
      "请输入第二个整数，以回车结束。2\n",
      "请输入第三个整数，以回车结束。3\n",
      "最终的和是 9\n"
     ]
    }
   ],
   "source": [
    "def computer_square(end):\n",
    "    total_end = 1\n",
    "    for i in range(end):\n",
    "        total_end = total_end * (i+1)\n",
    "        \n",
    "    return total_end\n",
    "\n",
    "m = int(input('请输入第一个整数，以回车结束。'))\n",
    "n = int(input('请输入第二个整数，以回车结束。'))\n",
    "k = int(input('请输入第三个整数，以回车结束。'))\n",
    "\n",
    "print('最终的和是', computer_square(m) + computer_square(n) + computer_square(k))\n",
    "\n"
   ]
  },
  {
   "cell_type": "code",
   "execution_count": 23,
   "metadata": {
    "collapsed": false
   },
   "outputs": [
    {
     "name": "stdout",
     "output_type": "stream",
     "text": [
      "最终的和是 -404023.1492139774\n"
     ]
    }
   ],
   "source": [
    "def computer_total(end):\n",
    "    i = 1\n",
    "    total_end = 1\n",
    "    for i in range(1,end+!):\n",
    "        total_end = total_end + -1 ** i *(1/(2*i)+1)\n",
    "        i = i + 1\n",
    "        \n",
    "    return total_end\n",
    "\n",
    "print('最终的和是', (computer_total(1000) + computer_total(100000))*4)"
   ]
  },
  {
   "cell_type": "code",
   "execution_count": 26,
   "metadata": {
    "collapsed": false
   },
   "outputs": [
    {
     "name": "stdout",
     "output_type": "stream",
     "text": [
      "请输入起始数字1\n",
      "请输入终止数字7\n",
      "请输入间隔大小3\n",
      "和为 12\n"
     ]
    }
   ],
   "source": [
    "def computer_total(x, y, z):\n",
    "    total = 0\n",
    "    for a in range(x, y+1, z):\n",
    "        total = total + a\n",
    "    return total\n",
    "\n",
    "m = int(input('请输入起始数字'))\n",
    "n = int(input('请输入终止数字'))\n",
    "k = int(input('请输入间隔大小'))\n",
    "\n",
    "print('和为', computer_total(m, n, k))"
   ]
  },
  {
   "cell_type": "code",
   "execution_count": null,
   "metadata": {
    "collapsed": true
   },
   "outputs": [],
   "source": [
    "def computer(x, y, t):\n",
    "    total = 0\n",
    "    i = 0\n",
    "    while i < t:\n",
    "        import random\n",
    "        number = random.randint(x, y)\n",
    "        total = total + number\n",
    "        i = i + 1\n",
    "    aver = total/t\n",
    "    import math\n",
    "    squareroot = math.sqrt(aver)\n",
    "    print(squareroot)\n",
    "    \n",
    "n = int(input('请输入随机数个数n '))\n",
    "m = int(input('请输入整数下限m '))\n",
    "k = int(input('请输入整数上限k '))\n",
    "computer(m, k, n)"
   ]
  },
  {
   "cell_type": "code",
   "execution_count": 3,
   "metadata": {
    "collapsed": false
   },
   "outputs": [
    {
     "name": "stdout",
     "output_type": "stream",
     "text": [
      "[1, 2, 3, 4, 5, 6, 7]\n"
     ]
    },
    {
     "data": {
      "text/plain": [
       "28"
      ]
     },
     "execution_count": 3,
     "metadata": {},
     "output_type": "execute_result"
    }
   ],
   "source": [
    "def printlist(numbers):\n",
    "    total = 0\n",
    "    for number in numbers:\n",
    "        total = total + number\n",
    "    return total\n",
    "\n",
    "numberlist = [1,2,3,4,5,6,7]\n",
    "print(numberlist)\n",
    "printlist(numberlist)"
   ]
  },
  {
   "cell_type": "code",
   "execution_count": 8,
   "metadata": {
    "collapsed": false
   },
   "outputs": [
    {
     "name": "stdout",
     "output_type": "stream",
     "text": [
      "[7, 1, 2, 3, 5, 8, 4]\n"
     ]
    },
    {
     "data": {
      "text/plain": [
       "1"
      ]
     },
     "execution_count": 8,
     "metadata": {},
     "output_type": "execute_result"
    }
   ],
   "source": [
    "def choosemin(numbers):\n",
    "    number_min = numbers[0]\n",
    "    for number in numbers:\n",
    "        if number < number_min:\n",
    "            number_min = number\n",
    "    return(number_min)\n",
    "\n",
    "numberlist = [7,1,2,3,5,8,4]\n",
    "print(numberlist)\n",
    "choosemin(numberlist)"
   ]
  },
  {
   "cell_type": "markdown",
   "metadata": {},
   "source": [
    "老师，题，没太读懂【捂脸\n",
    "那个被判断的元素，是手动输入的？\n",
    "可以讲一下吗，爱您~❤️"
   ]
  },
  {
   "cell_type": "code",
   "execution_count": 12,
   "metadata": {
    "collapsed": false
   },
   "outputs": [
    {
     "name": "stdout",
     "output_type": "stream",
     "text": [
      "[1, 1] [0, 1]\n"
     ]
    },
    {
     "data": {
      "text/plain": [
       "0.7071067811865475"
      ]
     },
     "execution_count": 12,
     "metadata": {},
     "output_type": "execute_result"
    }
   ],
   "source": [
    "import math\n",
    "\n",
    "def compute_cos(vector1,vector2):\n",
    "    total1 = 0\n",
    "    total2 = 0\n",
    "    for vector in vector1:\n",
    "        total1 = total1 + vector**2\n",
    "    a = math.sqrt(total1)\n",
    "    \n",
    "    for vector in vector2:\n",
    "        total2 = total2 + vector**2\n",
    "    b = math.sqrt(total2)\n",
    "    \n",
    "    fenzi = vector1[0]*vector2[0] + vector1[1]*vector2[1]\n",
    "    cos = fenzi/a*b\n",
    "    return cos\n",
    "\n",
    "vector1list= [1,1]\n",
    "vector2list= [0,1]\n",
    "print(vector1list,vector2list)\n",
    "compute_cos(vector1list,vector2list)"
   ]
  },
  {
   "cell_type": "code",
   "execution_count": 19,
   "metadata": {
    "collapsed": false
   },
   "outputs": [
    {
     "name": "stdout",
     "output_type": "stream",
     "text": [
      "3741\n"
     ]
    }
   ],
   "source": [
    "total = 0\n",
    "for a in range(5, 101):\n",
    "    for b in range(5, 101-a):\n",
    "        for c in range(5, 101-a-b):\n",
    "            if a + b + c == 100:\n",
    "                total = total + 1\n",
    "                \n",
    "print(total)"
   ]
  },
  {
   "cell_type": "code",
   "execution_count": 21,
   "metadata": {
    "collapsed": false
   },
   "outputs": [
    {
     "ename": "IndentationError",
     "evalue": "expected an indented block (<ipython-input-21-e0372ec1cac1>, line 7)",
     "output_type": "error",
     "traceback": [
      "\u001b[0;36m  File \u001b[0;32m\"<ipython-input-21-e0372ec1cac1>\"\u001b[0;36m, line \u001b[0;32m7\u001b[0m\n\u001b[0;31m    total1 = total1 + 1\u001b[0m\n\u001b[0m         ^\u001b[0m\n\u001b[0;31mIndentationError\u001b[0m\u001b[0;31m:\u001b[0m expected an indented block\n"
     ]
    }
   ],
   "source": [
    "total1 = 0\n",
    "total2 = 0\n",
    "for a in range(5, 101):\n",
    "    for b in range(5, 101-a):\n",
    "        c = 100 - a - b\n",
    "        if a + b + c == 100:\n",
    "        total1 = total1 + 1\n",
    "    total2 = total2 + 1\n",
    "                \n",
    "print(total2)"
   ]
  }
 ],
 "metadata": {
  "kernelspec": {
   "display_name": "Python 3",
   "language": "python",
   "name": "python3"
  },
  "language_info": {
   "codemirror_mode": {
    "name": "ipython",
    "version": 3
   },
   "file_extension": ".py",
   "mimetype": "text/x-python",
   "name": "python",
   "nbconvert_exporter": "python",
   "pygments_lexer": "ipython3",
   "version": "3.6.0"
  }
 },
 "nbformat": 4,
 "nbformat_minor": 2
}
