{
 "cells": [
  {
   "cell_type": "code",
   "execution_count": 6,
   "metadata": {
    "collapsed": false
   },
   "outputs": [
    {
     "name": "stdout",
     "output_type": "stream",
     "text": [
      "Please input an integer,and end with Enter.3\n",
      "Please input an integer,and end with Enter.1\n",
      "Please input an integer,and end with Enter.2\n",
      "Please input an integer,and end with Enter.3\n",
      "This is the sum of these numbers: 6\n"
     ]
    }
   ],
   "source": [
    "n=int(input('Please input an integer,and end with Enter.'))\n",
    "i=0\n",
    "j=0\n",
    "\n",
    "def sum_(a):\n",
    "    total=0\n",
    "    for i in range(a):\n",
    "        j=int(input('Please input an integer,and end with Enter.'))\n",
    "        total=total+j\n",
    "    return total\n",
    "    \n",
    "print('This is the sum of these numbers:',sum_(n))"
   ]
  },
  {
   "cell_type": "code",
   "execution_count": 7,
   "metadata": {
    "collapsed": false
   },
   "outputs": [
    {
     "name": "stdout",
     "output_type": "stream",
     "text": [
      "Please input an integer,and end with Enter1\n",
      "if you do not want to input numbers,please input out,if you want to continue inputing,please input in\n",
      "in\n",
      "Please input an integer,and end with Enter1\n",
      "if you do not want to input numbers,please input out,if you want to continue inputing,please input in\n",
      "out\n"
     ]
    }
   ],
   "source": [
    "i=0\n",
    "ms=[0]\n",
    "\n",
    "for i in range(1000): \n",
    "    n=int(input('Please input an integer,and end with Enter'))\n",
    "    print('if you do not want to input numbers,please input out,if you want to continue inputing,please input in')\n",
    "    m=input()\n",
    "    if 'out'==m:\n",
    "        break\n",
    "    else:\n",
    "        continue"
   ]
  },
  {
   "cell_type": "code",
   "execution_count": null,
   "metadata": {
    "collapsed": false
   },
   "outputs": [
    {
     "name": "stdout",
     "output_type": "stream",
     "text": [
      "Please input an integer,and end with Enter.\n"
     ]
    }
   ],
   "source": [
    "i=0\n",
    "j=0 \n",
    "m=0 \n",
    "n=0 \n",
    "b=0 \n",
    "a=0\n",
    "for i in range(1000): \n",
    "    print('Please input an integer,and end with Enter.') \n",
    "    a=int(input()) \n",
    "    m=m+a \n",
    "    n=n*a \n",
    "    if m<a and n<a*a: \n",
    "        break \n",
    "    else:\n",
    "        continue"
   ]
  },
  {
   "cell_type": "code",
   "execution_count": 1,
   "metadata": {
    "collapsed": false
   },
   "outputs": [
    {
     "name": "stdout",
     "output_type": "stream",
     "text": [
      "请输入一个整数，以回车结束2\n",
      "请输入一个整数，以回车结束4\n",
      "请输入一个整数，以回车结束3\n",
      "最终和是： 32\n"
     ]
    }
   ],
   "source": [
    "def _sum(end): \n",
    "    i=0 \n",
    "    total=1\n",
    "    for i in range(end):\n",
    "        i=i+1\n",
    "        total=total*i\n",
    "\n",
    "    return total\n",
    "m=int(input('请输入一个整数，以回车结束')) \n",
    "n=int(input('请输入一个整数，以回车结束')) \n",
    "k=int(input('请输入一个整数，以回车结束'))\n",
    "print('最终和是：',_sum(m)+_sum(n)+_sum(k))"
   ]
  },
  {
   "cell_type": "code",
   "execution_count": 12,
   "metadata": {
    "collapsed": false
   },
   "outputs": [
    {
     "name": "stdout",
     "output_type": "stream",
     "text": [
      "请输入一个整数1\n",
      "请输入一个整数9\n",
      "请输入一个整数1\n",
      "45\n"
     ]
    }
   ],
   "source": [
    "def he(a,b,c):\n",
    "    i=0\n",
    "    total=0\n",
    "    i=a\n",
    "    j=0\n",
    "    for j in range(1000):\n",
    "        total=total+i\n",
    "        i=i+c\n",
    "        if i>b:\n",
    "            break\n",
    "        else:\n",
    "            continue\n",
    "    return total\n",
    "        \n",
    "m=int(input('请输入一个整数'))\n",
    "n=int(input('请输入一个整数'))\n",
    "k=int(input('请输入一个整数'))\n",
    "print(he(m,n,k))"
   ]
  },
  {
   "cell_type": "code",
   "execution_count": 15,
   "metadata": {
    "collapsed": false
   },
   "outputs": [
    {
     "name": "stdout",
     "output_type": "stream",
     "text": [
      "请输入一个整数，以回车结束100000\n",
      "-3.1415726535897814\n"
     ]
    }
   ],
   "source": [
    "def end(a):\n",
    "    i=1\n",
    "    total=0\n",
    "    j=0\n",
    "    k=0\n",
    "    \n",
    "    for k in range(10000000000):\n",
    "        if(j%2==0):\n",
    "            total=total-1/i\n",
    "        else:\n",
    "            total=total+1/i\n",
    "        i=i+2\n",
    "        j=j+1\n",
    "        if(i>=a):\n",
    "            break\n",
    "        else:\n",
    "            continue\n",
    "        \n",
    "    return total\n",
    "\n",
    "b=int(input('请输入一个整数，以回车结束'))\n",
    "print(end(b)*4)"
   ]
  },
  {
   "cell_type": "code",
   "execution_count": 16,
   "metadata": {
    "collapsed": false
   },
   "outputs": [
    {
     "name": "stdout",
     "output_type": "stream",
     "text": [
      "请输入一个整数，以回车键结束9\n",
      "请输入一个整数，以回车键结束1\n",
      "请输入一个整数，以回车键结束8\n",
      "2.160246899469287\n"
     ]
    }
   ],
   "source": [
    "import math,random\n",
    "def c_sqrt():\n",
    "    n=int(input('请输入一个整数，以回车键结束'))\n",
    "    m=int(input('请输入一个整数，以回车键结束'))\n",
    "    k=int(input('请输入一个整数，以回车键结束'))\n",
    "    i=0\n",
    "    total=0\n",
    "    num=0\n",
    "    for i in range(n):\n",
    "        num=random.randint(m,k)\n",
    "        total=total+num\n",
    "    total=math.sqrt(total/n)\n",
    "    print(total)\n",
    "\n",
    "c_sqrt()"
   ]
  },
  {
   "cell_type": "code",
   "execution_count": 17,
   "metadata": {
    "collapsed": false
   },
   "outputs": [
    {
     "name": "stdout",
     "output_type": "stream",
     "text": [
      "请输入一个整数，以回车键结束9\n",
      "请输入一个整数，以回车键结束1\n",
      "请输入一个整数，以回车键结束6\n",
      "4.510545010206613\n"
     ]
    }
   ],
   "source": [
    "import math,random\n",
    "def c_log():\n",
    "    n=int(input('请输入一个整数，以回车键结束'))\n",
    "    m=int(input('请输入一个整数，以回车键结束'))\n",
    "    k=int(input('请输入一个整数，以回车键结束'))\n",
    "    i=0\n",
    "    total=0\n",
    "    num=0\n",
    "    for i in range(n):\n",
    "        num=random.randint(m,k)\n",
    "        num=math.log10(num)\n",
    "        total=total+num\n",
    "    print(total)\n",
    "\n",
    "c_log()"
   ]
  },
  {
   "cell_type": "markdown",
   "metadata": {
    "collapsed": false
   },
   "source": [
    "def sum_(n):\n",
    "    number=[]\n",
    "    total=0\n",
    "    for i in range(n):\n",
    "        num=int(input(\"Please input an interge, end with Enter\"))\n",
    "        num.append(number)\n",
    "    for num in number:\n",
    "        total=total+num\n",
    "    print(total)\n",
    "\n",
    "a=int(input(\"please input an interge, end with Enter\"))\n",
    "sum_(a)"
   ]
  },
  {
   "cell_type": "markdown",
   "metadata": {
    "collapsed": true
   },
   "source": [
    "def sum_():\n",
    "    number=[]\n",
    "    total=0\n",
    "    num=0\n",
    "    for i in range(10):\n",
    "        num=input()\n",
    "        number.append(num)\n",
    "    for num in number:\n",
    "        total=total+num\n",
    "    print(total)\n",
    "\n",
    "sum_()"
   ]
  },
  {
   "cell_type": "code",
   "execution_count": 8,
   "metadata": {
    "collapsed": false
   },
   "outputs": [
    {
     "name": "stdout",
     "output_type": "stream",
     "text": [
      "45\n"
     ]
    }
   ],
   "source": [
    "number=[1,2,3,4,5,6,7,8,9]\n",
    "total=0\n",
    "num=0\n",
    "for num in number:\n",
    "    total+=num\n",
    "print(total)"
   ]
  },
  {
   "cell_type": "code",
   "execution_count": 10,
   "metadata": {
    "collapsed": false
   },
   "outputs": [
    {
     "name": "stdout",
     "output_type": "stream",
     "text": [
      "2\n",
      "1\n",
      "2\n",
      "1\n"
     ]
    }
   ],
   "source": [
    "number=[]\n",
    "min=0\n",
    "num=0\n",
    "i=0\n",
    "n=int(input())\n",
    "for i in range(n):\n",
    "    num=int(input())\n",
    "    number.append(num)\n",
    "min=number[0]\n",
    "for num in number:\n",
    "    if min<num or min==num:\n",
    "        min=min\n",
    "    else:\n",
    "        min=num\n",
    "print(min)"
   ]
  },
  {
   "cell_type": "code",
   "execution_count": 12,
   "metadata": {
    "collapsed": false
   },
   "outputs": [
    {
     "name": "stdout",
     "output_type": "stream",
     "text": [
      "2\n",
      "13\n"
     ]
    }
   ],
   "source": [
    "number=[12,13,24,45,56,36,32]\n",
    "num=0\n",
    "l=0\n",
    "n=int(input())\n",
    "l=len(number)\n",
    "if n<=l:\n",
    "    print(number[n-1])\n",
    "else:\n",
    "    print(\"none\")"
   ]
  },
  {
   "cell_type": "code",
   "execution_count": 14,
   "metadata": {
    "collapsed": false
   },
   "outputs": [
    {
     "name": "stdout",
     "output_type": "stream",
     "text": [
      "请输入x12\n",
      "请输入x23\n",
      "请输入y11\n",
      "请输入y24\n",
      "1.381966011250105\n"
     ]
    }
   ],
   "source": [
    "import math\n",
    "def cosine():\n",
    "    x1=int(input(\"请输入x1\"))\n",
    "    x2=int(input(\"请输入x2\"))\n",
    "    y1=int(input(\"请输入y1\"))\n",
    "    y2=int(input(\"请输入y2\"))\n",
    "    cos=(x1*x2+y1*y2)/(math.sqrt(x1*x1+y1*y1)+math.sqrt(x2*x2+y2*y2))\n",
    "    print(cos)\n",
    "cosine()\n",
    "    "
   ]
  },
  {
   "cell_type": "code",
   "execution_count": 18,
   "metadata": {
    "collapsed": false
   },
   "outputs": [
    {
     "name": "stdout",
     "output_type": "stream",
     "text": [
      "170\n"
     ]
    }
   ],
   "source": [
    "a=5\n",
    "b=5\n",
    "c=100-a-b\n",
    "count=0\n",
    "for i in range(5,90):\n",
    "    count+=1\n",
    "    a+=1\n",
    "    c=100-a-b\n",
    "    if c==5:\n",
    "        break\n",
    "for i in range(5,90):\n",
    "    count+=1\n",
    "    b+=1\n",
    "    c=100-a-b\n",
    "    if c==5:\n",
    "        break\n",
    "print(count)\n"
   ]
  }
 ],
 "metadata": {
  "kernelspec": {
   "display_name": "Python 3",
   "language": "python",
   "name": "python3"
  },
  "language_info": {
   "codemirror_mode": {
    "name": "ipython",
    "version": 3
   },
   "file_extension": ".py",
   "mimetype": "text/x-python",
   "name": "python",
   "nbconvert_exporter": "python",
   "pygments_lexer": "ipython3",
   "version": "3.6.0"
  }
 },
 "nbformat": 4,
 "nbformat_minor": 2
}
