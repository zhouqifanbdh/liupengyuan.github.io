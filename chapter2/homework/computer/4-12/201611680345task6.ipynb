{
 "cells": [
  {
   "cell_type": "code",
   "execution_count": 1,
   "metadata": {
    "collapsed": false,
    "deletable": true,
    "editable": true
   },
   "outputs": [
    {
     "name": "stdout",
     "output_type": "stream",
     "text": [
      "请输入第1个整数，以回车结束。1\n",
      "请输入第2个整数，以回车结束。2\n",
      "请输入第3个整数，以回车结束。3\n",
      "最终的和是： 9\n"
     ]
    }
   ],
   "source": [
    "#将前面几章用while循环的习题，用for循环实现，并尽量写成函数。\n",
    "## 求m!+n!+k!\n",
    "\n",
    "def compute_ji(end):\n",
    "    i = 0\n",
    "    ji = 1\n",
    "\n",
    "    for i in range(end):\n",
    "        i = i + 1\n",
    "        ji = ji * i\n",
    "\n",
    "    return ji\n",
    "\n",
    "n = int(input('请输入第1个整数，以回车结束。'))\n",
    "m = int(input('请输入第2个整数，以回车结束。'))\n",
    "k = int(input('请输入第3个整数，以回车结束。'))\n",
    "\n",
    "print('最终的和是：', compute_ji(m) + compute_ji(n) + compute_ji(k))"
   ]
  },
  {
   "cell_type": "code",
   "execution_count": 2,
   "metadata": {
    "collapsed": false,
    "deletable": true,
    "editable": true
   },
   "outputs": [
    {
     "name": "stdout",
     "output_type": "stream",
     "text": [
      "请输入相加次数:3\n",
      "a= 5\n",
      "sum= 615\n"
     ]
    }
   ],
   "source": [
    "import random,math\n",
    "\n",
    "def sum():\n",
    "    n = int(input('请输入相加次数:'))\n",
    "    a = random.randint(1,9)\n",
    "    print('a=',a)\n",
    "    b = a\n",
    "    i = 0\n",
    "    sum = 0\n",
    "    for i in range(n):\n",
    "        sum = sum + a\n",
    "        i = i+1\n",
    "        a = a + b * pow(10,i)\n",
    "    print('sum=',sum)\n",
    "    \n",
    "sum()"
   ]
  },
  {
   "cell_type": "code",
   "execution_count": 16,
   "metadata": {
    "collapsed": false,
    "deletable": true,
    "editable": true
   },
   "outputs": [
    {
     "name": "stdout",
     "output_type": "stream",
     "text": [
      "he = 45\n"
     ]
    }
   ],
   "source": [
    "#写函数，返回一个list中所有数字的和\n",
    "import math\n",
    "\n",
    "def he(list):\n",
    "    he = 0\n",
    "    for i in list:\n",
    "        he = he + i\n",
    "    return he\n",
    "\n",
    "list = [i for i in range(10)]\n",
    "print('he =',he(list))"
   ]
  },
  {
   "cell_type": "code",
   "execution_count": 17,
   "metadata": {
    "collapsed": false,
    "deletable": true,
    "editable": true
   },
   "outputs": [
    {
     "name": "stdout",
     "output_type": "stream",
     "text": [
      "min = 0\n"
     ]
    }
   ],
   "source": [
    "#写函数，返回一个list中的最小值\n",
    "import math\n",
    "\n",
    "def min(list):\n",
    "    min = list[0]\n",
    "    for i in list:\n",
    "        if i < min:\n",
    "            min = i\n",
    "    return(min)\n",
    "list = [i for i in range(10)]\n",
    "print('min =',min(list))"
   ]
  },
  {
   "cell_type": "code",
   "execution_count": 22,
   "metadata": {
    "collapsed": false,
    "deletable": true,
    "editable": true
   },
   "outputs": [
    {
     "name": "stdout",
     "output_type": "stream",
     "text": [
      "请输入一个整数，回车结束2\n",
      "location = 3\n"
     ]
    }
   ],
   "source": [
    "#写函数，返回某个元素/对象在一个list中的位置，如果不在，则返回-1.\n",
    "\n",
    "import math\n",
    "def location(list):\n",
    "    n = int(input('请输入一个整数，回车结束'))\n",
    "    l = len(list)\n",
    "    if n in list:\n",
    "        i = 0\n",
    "        for k in range(l):\n",
    "            i = i + 1\n",
    "            if n == list[k]:\n",
    "                break\n",
    "        return(i)\n",
    "        \n",
    "    \n",
    "    else:\n",
    "        return(-1)\n",
    "list = [i for i in range(10)]\n",
    "print('location =',location(list))"
   ]
  },
  {
   "cell_type": "code",
   "execution_count": 1,
   "metadata": {
    "collapsed": false,
    "deletable": true,
    "editable": true
   },
   "outputs": [
    {
     "name": "stdout",
     "output_type": "stream",
     "text": [
      "请输入向量所在空间的维数，2或3: 2\n",
      "请输入向量a的一个坐标1\n",
      "请输入向量a的一个坐标1\n",
      "请输入x坐标1\n",
      "请输入x坐标1\n",
      "a=  [1, 1] b=  [1, 1]\n",
      "[1, 1] 和  [1, 1] 夹角的余弦值是:  1.0\n"
     ]
    }
   ],
   "source": [
    "#写函数，可求两个向量的夹角余弦值，向量可放在list中\n",
    "def cos(a,b):\n",
    "    if len(a)==len(b):\n",
    "        aCb=0\n",
    "        a2=0\n",
    "        b2=0\n",
    "        for i in range(len(a)):\n",
    "            aCb+=a[i]*b[i]\n",
    "            a2+=a[i]**2\n",
    "            b2+=b[i]**2\n",
    "        print(a,'和 ',b,'夹角的余弦值是: ',aCb/((a2* b2)**0.5))\n",
    "        \n",
    "\n",
    "a=[]\n",
    "b=[]\n",
    "n=int(input('请输入向量所在空间的维数，2或3: '))\n",
    "j=0\n",
    "for i in range(n):\n",
    "     for j in range(n):\n",
    "            if i==0:\n",
    "                a.append(int(input('请输入向量a的一个坐标')))\n",
    "            else:\n",
    "                b.append(int(input('请输入x坐标')))\n",
    "                \n",
    "print('a= ',a,'b= ',b)\n",
    "cos(a,b)\n"
   ]
  },
  {
   "cell_type": "code",
   "execution_count": 23,
   "metadata": {
    "collapsed": false,
    "deletable": true,
    "editable": true
   },
   "outputs": [
    {
     "name": "stdout",
     "output_type": "stream",
     "text": [
      "3741\n"
     ]
    }
   ],
   "source": [
    "#挑战性习题\n",
    "n=0\n",
    "for i in  range(5,91):\n",
    "    for j in  range(5,91):\n",
    "        for k in  range(5,91):\n",
    "            if 100==i+j+k:\n",
    "                n=n+1\n",
    "print(n)"
   ]
  }
 ],
 "metadata": {
  "kernelspec": {
   "display_name": "Python 3",
   "language": "python",
   "name": "python3"
  },
  "language_info": {
   "codemirror_mode": {
    "name": "ipython",
    "version": 3
   },
   "file_extension": ".py",
   "mimetype": "text/x-python",
   "name": "python",
   "nbconvert_exporter": "python",
   "pygments_lexer": "ipython3",
   "version": "3.6.0"
  }
 },
 "nbformat": 4,
 "nbformat_minor": 2
}
