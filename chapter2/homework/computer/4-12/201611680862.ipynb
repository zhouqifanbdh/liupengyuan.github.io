{
 "cells": [
  {
   "cell_type": "code",
   "execution_count": 18,
   "metadata": {
    "collapsed": false
   },
   "outputs": [
    {
     "name": "stdout",
     "output_type": "stream",
     "text": [
      "请输入数字个数：\n",
      "5\n",
      "8 + 88 + 888 + 8888 + 88888 = 98760\n"
     ]
    }
   ],
   "source": [
    "import random\n",
    "\n",
    "def fun(n):\n",
    "    i=0\n",
    "    s=0\n",
    "    a=random.randint(1,9)\n",
    "    aaa=0\n",
    "    for i in range(0,n-1):\n",
    "        aaa+=10**i*a\n",
    "        print(aaa,'+',end=' ')\n",
    "        s+=aaa\n",
    "        i+=1\n",
    "    \n",
    "    aaa+=10**i*a\n",
    "    print(aaa,'=',end=' ')\n",
    "    s+=aaa\n",
    "    return s\n",
    "\n",
    "print('请输入数字个数：')\n",
    "n=int(input())\n",
    "print(fun(n))"
   ]
  },
  {
   "cell_type": "code",
   "execution_count": 1,
   "metadata": {
    "collapsed": false
   },
   "outputs": [
    {
     "name": "stdout",
     "output_type": "stream",
     "text": [
      "please enter the number you want to enter: 5\n",
      "please enter a number:1\n",
      "please enter a number:2\n",
      "please enter a number:3\n",
      "please enter a number:4\n",
      "please enter a number:5\n",
      "15\n"
     ]
    }
   ],
   "source": [
    "n=int(input('please enter the number you want to enter: '))\n",
    "total=0\n",
    "for i in range(1,n+1):\n",
    "    number=int(input('please enter a number:'))\n",
    "    total+=number\n",
    "    \n",
    "\n",
    "print(total)\n",
    "\n"
   ]
  },
  {
   "cell_type": "code",
   "execution_count": 9,
   "metadata": {
    "collapsed": false
   },
   "outputs": [
    {
     "name": "stdout",
     "output_type": "stream",
     "text": [
      "请输入数字个数：4\n",
      "请依次输入数字：\n",
      "请输入数字：2\n",
      "请输入数字：5\n",
      "请输入数字：3\n",
      "请输入数字：9\n",
      "2\n"
     ]
    }
   ],
   "source": [
    "number=[]\n",
    "i=1\n",
    "n=int(input('请输入数字个数：'))\n",
    "print('请依次输入数字：')\n",
    "while i<=n:\n",
    "    x=int(input('请输入数字：'))\n",
    "    number.append(x)\n",
    "    i+=1\n",
    "    \n",
    "print(min(number))"
   ]
  },
  {
   "cell_type": "markdown",
   "metadata": {},
   "source": [
    "第四题不明白"
   ]
  },
  {
   "cell_type": "code",
   "execution_count": 12,
   "metadata": {
    "collapsed": false
   },
   "outputs": [
    {
     "name": "stdout",
     "output_type": "stream",
     "text": [
      "请输入第一个向量的x坐标:1\n",
      "请输入第一个向量的y坐标:2\n",
      "请输入第二个向量的x坐标:3\n",
      "请输入第二个向量的y坐标:4\n",
      "0.9838699100999074\n"
     ]
    }
   ],
   "source": [
    "import math\n",
    "\n",
    "def fun():\n",
    "    a=[]\n",
    "    x1=int(input('请输入第一个向量的x坐标:'))\n",
    "    a.append(x1)\n",
    "    y1=int(input('请输入第一个向量的y坐标:'))\n",
    "    a.append(y1)\n",
    "    b=[]\n",
    "    x2=int(input('请输入第二个向量的x坐标:'))\n",
    "    b.append(x2)\n",
    "    y2=int(input('请输入第二个向量的y坐标:'))\n",
    "    b.append(y2)\n",
    "    cos=(x1*x2+y1*y2)/(math.sqrt(x1*x1+y1*y1)*math.sqrt(x2*x2+y2*y2))\n",
    "    return cos\n",
    "\n",
    "\n",
    "print(fun())\n",
    "    \n",
    "\n",
    "    "
   ]
  },
  {
   "cell_type": "code",
   "execution_count": 14,
   "metadata": {
    "collapsed": false
   },
   "outputs": [
    {
     "name": "stdout",
     "output_type": "stream",
     "text": [
      "355395\n"
     ]
    }
   ],
   "source": [
    "total=100\n",
    "i=0\n",
    "j=0\n",
    "k=0\n",
    "number1=0\n",
    "number2=0\n",
    "for i in range(5,100):\n",
    "    for j in range(5,100):\n",
    "        k=100-i-j\n",
    "        if k>=5:\n",
    "            number1+=1\n",
    "    number2+=1\n",
    "            \n",
    "print(number1*number2)            "
   ]
  }
 ],
 "metadata": {
  "kernelspec": {
   "display_name": "Python 3",
   "language": "python",
   "name": "python3"
  },
  "language_info": {
   "codemirror_mode": {
    "name": "ipython",
    "version": 3
   },
   "file_extension": ".py",
   "mimetype": "text/x-python",
   "name": "python",
   "nbconvert_exporter": "python",
   "pygments_lexer": "ipython3",
   "version": "3.6.0"
  }
 },
 "nbformat": 4,
 "nbformat_minor": 2
}
